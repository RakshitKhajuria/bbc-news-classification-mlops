{
  "cells": [
    {
      "cell_type": "markdown",
      "metadata": {
        "id": "view-in-github",
        "colab_type": "text"
      },
      "source": [
        "<a href=\"https://colab.research.google.com/github/Ryzxxl/SparkNLP--NLPTest/blob/main/BBC_NEWS_SparkNLP_NLPTest.ipynb\" target=\"_parent\"><img src=\"https://colab.research.google.com/assets/colab-badge.svg\" alt=\"Open In Colab\"/></a>"
      ]
    },
    {
      "cell_type": "code",
      "execution_count": 1,
      "metadata": {
        "colab": {
          "base_uri": "https://localhost:8080/"
        },
        "id": "5Yk55n1OGhA-",
        "outputId": "e54ed722-5f1a-4447-ec7e-fd9e915acd97"
      },
      "outputs": [
        {
          "output_type": "stream",
          "name": "stdout",
          "text": [
            "\u001b[2K     \u001b[90m━━━━━━━━━━━━━━━━━━━━━━━━━━━━━━━━━━━━━━━\u001b[0m \u001b[32m281.3/281.3 MB\u001b[0m \u001b[31m3.6 MB/s\u001b[0m eta \u001b[36m0:00:00\u001b[0m\n",
            "\u001b[?25h  Preparing metadata (setup.py) ... \u001b[?25l\u001b[?25hdone\n",
            "\u001b[2K     \u001b[90m━━━━━━━━━━━━━━━━━━━━━━━━━━━━━━━━━━━━━━\u001b[0m \u001b[32m473.2/473.2 kB\u001b[0m \u001b[31m10.4 MB/s\u001b[0m eta \u001b[36m0:00:00\u001b[0m\n",
            "\u001b[2K     \u001b[90m━━━━━━━━━━━━━━━━━━━━━━━━━━━━━━━━━━━━━━━\u001b[0m \u001b[32m199.7/199.7 kB\u001b[0m \u001b[31m7.6 MB/s\u001b[0m eta \u001b[36m0:00:00\u001b[0m\n",
            "\u001b[?25h  Building wheel for pyspark (setup.py) ... \u001b[?25l\u001b[?25hdone\n"
          ]
        }
      ],
      "source": [
        "! pip install -q pyspark==3.3.0 spark-nlp==4.3.2\n"
      ]
    },
    {
      "cell_type": "code",
      "execution_count": 2,
      "metadata": {
        "colab": {
          "base_uri": "https://localhost:8080/",
          "height": 254
        },
        "id": "IKcIoixwGjeQ",
        "outputId": "5416de72-97e9-4a1f-c448-28365b084000"
      },
      "outputs": [
        {
          "output_type": "stream",
          "name": "stdout",
          "text": [
            "Spark NLP version:  4.3.2\n",
            "Apache Spark version:  3.3.0\n"
          ]
        },
        {
          "output_type": "execute_result",
          "data": {
            "text/plain": [
              "<pyspark.sql.session.SparkSession at 0x7f626bc4b850>"
            ],
            "text/html": [
              "\n",
              "            <div>\n",
              "                <p><b>SparkSession - in-memory</b></p>\n",
              "                \n",
              "        <div>\n",
              "            <p><b>SparkContext</b></p>\n",
              "\n",
              "            <p><a href=\"http://01274ed3dc92:4040\">Spark UI</a></p>\n",
              "\n",
              "            <dl>\n",
              "              <dt>Version</dt>\n",
              "                <dd><code>v3.3.0</code></dd>\n",
              "              <dt>Master</dt>\n",
              "                <dd><code>local[*]</code></dd>\n",
              "              <dt>AppName</dt>\n",
              "                <dd><code>Spark NLP</code></dd>\n",
              "            </dl>\n",
              "        </div>\n",
              "        \n",
              "            </div>\n",
              "        "
            ]
          },
          "metadata": {},
          "execution_count": 2
        }
      ],
      "source": [
        "import os\n",
        "import sys\n",
        "\n",
        "import sparknlp\n",
        "\n",
        "from sparknlp.base import *\n",
        "from sparknlp.common import *\n",
        "from sparknlp.annotator import *\n",
        "\n",
        "from pyspark.ml import Pipeline\n",
        "from pyspark.sql import SparkSession\n",
        "\n",
        "import pandas as pd\n",
        "spark = sparknlp.start()\n",
        "\n",
        "print(\"Spark NLP version: \", sparknlp.version())\n",
        "print(\"Apache Spark version: \", spark.version)\n",
        "\n",
        "spark"
      ]
    },
    {
      "cell_type": "code",
      "execution_count": 3,
      "metadata": {
        "colab": {
          "base_uri": "https://localhost:8080/"
        },
        "id": "hAtY4zYyHErI",
        "outputId": "95bc6339-c99e-413c-be64-bbf8ca5b957e"
      },
      "outputs": [
        {
          "output_type": "stream",
          "name": "stdout",
          "text": [
            "Mounted at /content/drive\n"
          ]
        }
      ],
      "source": [
        "from google.colab import drive\n",
        "drive.mount('/content/drive')"
      ]
    },
    {
      "cell_type": "code",
      "execution_count": 4,
      "metadata": {
        "id": "hlt6zOMBGlYn"
      },
      "outputs": [],
      "source": [
        "import pandas as pd\n",
        "data = pd.read_csv('/content/drive/MyDrive/data.csv') "
      ]
    },
    {
      "cell_type": "code",
      "execution_count": 5,
      "metadata": {
        "colab": {
          "base_uri": "https://localhost:8080/"
        },
        "id": "19DlYMHdGs3f",
        "outputId": "2639ec4f-8a11-4f43-d8e0-84e7d38a92f7"
      },
      "outputs": [
        {
          "output_type": "stream",
          "name": "stderr",
          "text": [
            "/usr/local/lib/python3.10/dist-packages/pyspark/sql/pandas/conversion.py:474: FutureWarning: iteritems is deprecated and will be removed in a future version. Use .items instead.\n",
            "  for column, series in pdf.iteritems():\n",
            "/usr/local/lib/python3.10/dist-packages/pyspark/sql/pandas/conversion.py:486: FutureWarning: iteritems is deprecated and will be removed in a future version. Use .items instead.\n",
            "  for column, series in pdf.iteritems():\n"
          ]
        }
      ],
      "source": [
        "spark_df = spark.createDataFrame(data)"
      ]
    },
    {
      "cell_type": "code",
      "execution_count": 6,
      "metadata": {
        "colab": {
          "base_uri": "https://localhost:8080/"
        },
        "id": "TA_g5HZeHYYj",
        "outputId": "bcef7bce-b43c-4bdd-a4d4-322bb8f1ac2c"
      },
      "outputs": [
        {
          "output_type": "stream",
          "name": "stdout",
          "text": [
            "+---------+--------------------+-------------+\n",
            "|ArticleId|                Text|     Category|\n",
            "+---------+--------------------+-------------+\n",
            "|     1833|worldcom ex-boss ...|     business|\n",
            "|      154|german business c...|     business|\n",
            "|     1101|bbc poll indicate...|     business|\n",
            "|     1976|lifestyle  govern...|         tech|\n",
            "|      917|enron bosses in $...|     business|\n",
            "|     1582|howard  truanted ...|     politics|\n",
            "|      651|wales silent on g...|        sport|\n",
            "|     1797|french honour for...|entertainment|\n",
            "|     2034|car giant hit by ...|     business|\n",
            "|     1866|fockers fuel fest...|entertainment|\n",
            "|     1683|blair rejects ira...|     politics|\n",
            "|     1153|housewives lift c...|entertainment|\n",
            "|     1028|uk coal plunges i...|     business|\n",
            "|      812|bp surges ahead o...|     business|\n",
            "|      707|ireland 21-19 arg...|        sport|\n",
            "|     1588|wenger signs new ...|        sport|\n",
            "|      342|u2 s desire to be...|entertainment|\n",
            "|      486|hantuchova in dub...|        sport|\n",
            "|     1344|melzer shocks aga...|        sport|\n",
            "|     1552|moving mobile imp...|         tech|\n",
            "+---------+--------------------+-------------+\n",
            "only showing top 20 rows\n",
            "\n"
          ]
        }
      ],
      "source": [
        "spark_df.show()"
      ]
    },
    {
      "cell_type": "code",
      "execution_count": null,
      "metadata": {
        "colab": {
          "base_uri": "https://localhost:8080/"
        },
        "id": "XiwsaFueHhDI",
        "outputId": "1a3f36a9-26fe-4d5f-d06b-3483c99654ec"
      },
      "outputs": [
        {
          "output_type": "execute_result",
          "data": {
            "text/plain": [
              "[Row(ArticleId=1833, Text='worldcom ex-boss launches defence lawyers defending former worldcom chief bernie ebbers against a battery of fraud charges have called a company whistleblower as their first witness.  cynthia cooper  worldcom s ex-head of internal accounting  alerted directors to irregular accounting practices at the us telecoms giant in 2002. her warnings led to the collapse of the firm following the discovery of an $11bn (£5.7bn) accounting fraud. mr ebbers has pleaded not guilty to charges of fraud and conspiracy.  prosecution lawyers have argued that mr ebbers orchestrated a series of accounting tricks at worldcom  ordering employees to hide expenses and inflate revenues to meet wall street earnings estimates. but ms cooper  who now runs her own consulting business  told a jury in new york on wednesday that external auditors arthur andersen had approved worldcom s accounting in early 2001 and 2002. she said andersen had given a  green light  to the procedures and practices used by worldcom. mr ebber s lawyers have said he was unaware of the fraud  arguing that auditors did not alert him to any problems.  ms cooper also said that during shareholder meetings mr ebbers often passed over technical questions to the company s finance chief  giving only  brief  answers himself. the prosecution s star witness  former worldcom financial chief scott sullivan  has said that mr ebbers ordered accounting adjustments at the firm  telling him to  hit our books . however  ms cooper said mr sullivan had not mentioned  anything uncomfortable  about worldcom s accounting during a 2001 audit committee meeting. mr ebbers could face a jail sentence of 85 years if convicted of all the charges he is facing. worldcom emerged from bankruptcy protection in 2004  and is now known as mci. last week  mci agreed to a buyout by verizon communications in a deal valued at $6.75bn.', Category='business'),\n",
              " Row(ArticleId=154, Text='german business confidence slides german business confidence fell in february knocking hopes of a speedy recovery in europe s largest economy.  munich-based research institute ifo said that its confidence index fell to 95.5 in february from 97.5 in january  its first decline in three months. the study found that the outlook in both the manufacturing and retail sectors had worsened. observers had been hoping that a more confident business sector would signal that economic activity was picking up.   we re surprised that the ifo index has taken such a knock   said dz bank economist bernd weidensteiner.  the main reason is probably that the domestic economy is still weak  particularly in the retail trade.  economy and labour minister wolfgang clement called the dip in february s ifo confidence figure  a very mild decline . he said that despite the retreat  the index remained at a relatively high level and that he expected  a modest economic upswing  to continue.  germany s economy grew 1.6% last year after shrinking in 2003. however  the economy contracted by 0.2% during the last three months of 2004  mainly due to the reluctance of consumers to spend. latest indications are that growth is still proving elusive and ifo president hans-werner sinn said any improvement in german domestic demand was sluggish. exports had kept things going during the first half of 2004  but demand for exports was then hit as the value of the euro hit record levels making german products less competitive overseas. on top of that  the unemployment rate has been stuck at close to 10% and manufacturing firms  including daimlerchrysler  siemens and volkswagen  have been negotiating with unions over cost cutting measures. analysts said that the ifo figures and germany s continuing problems may delay an interest rate rise by the european central bank. eurozone interest rates are at 2%  but comments from senior officials have recently focused on the threat of inflation  prompting fears that interest rates may rise.', Category='business')]"
            ]
          },
          "metadata": {},
          "execution_count": 7
        }
      ],
      "source": [
        "spark_df.take(2)"
      ]
    },
    {
      "cell_type": "code",
      "execution_count": null,
      "metadata": {
        "colab": {
          "base_uri": "https://localhost:8080/"
        },
        "id": "hBa8DWBgHnNK",
        "outputId": "8dcf39f9-397e-4433-b1b5-e0beee400a50"
      },
      "outputs": [
        {
          "output_type": "stream",
          "name": "stdout",
          "text": [
            "+-------------+-----+\n",
            "|     Category|count|\n",
            "+-------------+-----+\n",
            "|        sport|  346|\n",
            "|     business|  336|\n",
            "|     politics|  274|\n",
            "|entertainment|  273|\n",
            "|         tech|  261|\n",
            "+-------------+-----+\n",
            "\n"
          ]
        }
      ],
      "source": [
        "from pyspark.sql.functions import col\n",
        "\n",
        "spark_df.groupBy(\"Category\") \\\n",
        "    .count() \\\n",
        "    .orderBy(col(\"count\").desc()) \\\n",
        "    .show()"
      ]
    },
    {
      "cell_type": "markdown",
      "metadata": {
        "id": "JUgYHdE9HzkI"
      },
      "source": [
        "## Building Classification Pipeline\n",
        "# LogReg with CountVectorizer"
      ]
    },
    {
      "cell_type": "code",
      "execution_count": 7,
      "metadata": {
        "id": "VM26sl_EHs2F"
      },
      "outputs": [],
      "source": [
        "from pyspark.ml.feature import CountVectorizer, HashingTF, IDF, OneHotEncoder, StringIndexer, VectorAssembler, SQLTransformer\n"
      ]
    },
    {
      "cell_type": "code",
      "execution_count": null,
      "metadata": {
        "colab": {
          "base_uri": "https://localhost:8080/"
        },
        "id": "zVpyF-SBH79c",
        "outputId": "3e16d051-75da-44fe-b768-d37c97435b24"
      },
      "outputs": [
        {
          "output_type": "stream",
          "name": "stdout",
          "text": [
            "CPU times: user 345 ms, sys: 56.4 ms, total: 402 ms\n",
            "Wall time: 28.8 s\n"
          ]
        },
        {
          "output_type": "execute_result",
          "data": {
            "text/plain": [
              "1490"
            ]
          },
          "metadata": {},
          "execution_count": 12
        }
      ],
      "source": [
        "%%time\n",
        "\n",
        "document_assembler = DocumentAssembler() \\\n",
        "      .setInputCol(\"Text\") \\\n",
        "      .setOutputCol(\"document\")\n",
        "    \n",
        "tokenizer = Tokenizer() \\\n",
        "      .setInputCols([\"document\"]) \\\n",
        "      .setOutputCol(\"token\")\n",
        "      \n",
        "normalizer = Normalizer() \\\n",
        "      .setInputCols([\"token\"]) \\\n",
        "      .setOutputCol(\"normalized\")\n",
        "\n",
        "stopwords_cleaner = StopWordsCleaner()\\\n",
        "      .setInputCols(\"normalized\")\\\n",
        "      .setOutputCol(\"cleanTokens\")\\\n",
        "      .setCaseSensitive(False)\n",
        "\n",
        "stemmer = Stemmer() \\\n",
        "      .setInputCols([\"cleanTokens\"]) \\\n",
        "      .setOutputCol(\"stem\")\n",
        "\n",
        "finisher = Finisher() \\\n",
        "      .setInputCols([\"stem\"]) \\\n",
        "      .setOutputCols([\"token_features\"]) \\\n",
        "      .setOutputAsArray(True) \\\n",
        "      .setCleanAnnotations(False)\n",
        "\n",
        "countVectors = CountVectorizer(inputCol=\"token_features\", outputCol=\"features\", vocabSize=10000, minDF=5)\n",
        "\n",
        "label_stringIdx = StringIndexer(inputCol = \"Category\", outputCol = \"label\")\n",
        "\n",
        "nlp_pipeline = Pipeline(\n",
        "    stages=[document_assembler, \n",
        "            tokenizer,\n",
        "            normalizer,\n",
        "            stopwords_cleaner, \n",
        "            stemmer, \n",
        "            finisher,\n",
        "            countVectors,\n",
        "            label_stringIdx])\n",
        "\n",
        "nlp_model = nlp_pipeline.fit(spark_df)\n",
        "\n",
        "processed = nlp_model.transform(spark_df)\n",
        "\n",
        "processed.count()\n"
      ]
    },
    {
      "cell_type": "code",
      "execution_count": null,
      "metadata": {
        "colab": {
          "base_uri": "https://localhost:8080/"
        },
        "id": "qrMha9vXIYw5",
        "outputId": "8cd2c699-c907-4c6c-ee3a-7fbb0a064173"
      },
      "outputs": [
        {
          "output_type": "stream",
          "name": "stdout",
          "text": [
            "+--------------------------------------------------+--------------------------------------------------+\n",
            "|                                              Text|                                    token_features|\n",
            "+--------------------------------------------------+--------------------------------------------------+\n",
            "|worldcom ex-boss launches defence lawyers defen...|[worldcom, exboss, launch, defenc, lawyer, defe...|\n",
            "|german business confidence slides german busine...|[german, busi, confid, slide, german, busi, con...|\n",
            "|bbc poll indicates economic gloom citizens in a...|[bbc, poll, indic, econom, gloom, citizen, majo...|\n",
            "|lifestyle  governs mobile choice  faster  bette...|[lifestyl, govern, mobil, choic, faster, better...|\n",
            "|enron bosses in $168m payout eighteen former en...|[enron, boss, m, payout, eighteen, former, enro...|\n",
            "|howard  truanted to play snooker  conservative ...|[howard, truant, plai, snooker, conserv, leader...|\n",
            "|wales silent on grand slam talk rhys williams s...|[wale, silent, grand, slam, talk, rhy, william,...|\n",
            "|french honour for director parker british film ...|[french, honour, director, parker, british, fil...|\n",
            "|car giant hit by mercedes slump a slump in prof...|[car, giant, hit, merced, slump, slump, profit,...|\n",
            "|fockers fuel festive film chart comedy meet the...|[focker, fuel, festiv, film, chart, comedi, mee...|\n",
            "|blair rejects iraq advice calls tony blair has ...|[blair, reject, iraq, advic, call, toni, blair,...|\n",
            "|housewives lift channel 4 ratings the debut of ...|[housew, lift, channel, rate, debut, u, televis...|\n",
            "|uk coal plunges into deeper loss shares in uk c...|[uk, coal, plung, deeper, loss, share, uk, coal...|\n",
            "|bp surges ahead on high oil price oil giant bp ...|[bp, surg, ahead, high, oil, price, oil, giant,...|\n",
            "|ireland 21-19 argentina an injury-time dropped ...|[ireland, argentina, injurytim, drop, goal, ron...|\n",
            "|wenger signs new deal arsenal manager arsene we...|[wenger, sign, new, deal, arsen, manag, arsen, ...|\n",
            "|u2 s desire to be number one u2  who have won t...|[u, desir, number, on, u, won, three, prestigi,...|\n",
            "|hantuchova in dubai last eight daniela hantucho...|[hantuchova, dubai, last, eight, daniela, hantu...|\n",
            "|melzer shocks agassi in san jose second seed an...|[melzer, shock, agassi, san, jose, second, se, ...|\n",
            "|moving mobile improves golf swing a mobile phon...|[move, mobil, improv, golf, swing, mobil, phone...|\n",
            "+--------------------------------------------------+--------------------------------------------------+\n",
            "only showing top 20 rows\n",
            "\n"
          ]
        }
      ],
      "source": [
        "processed.select('Text','token_features').show(truncate=50)"
      ]
    },
    {
      "cell_type": "code",
      "execution_count": null,
      "metadata": {
        "colab": {
          "base_uri": "https://localhost:8080/"
        },
        "id": "MNDfULvxIqp7",
        "outputId": "cfad6843-baa3-4839-d941-8894fab11c8e"
      },
      "outputs": [
        {
          "output_type": "execute_result",
          "data": {
            "text/plain": [
              "[Row(token_features=['worldcom', 'exboss', 'launch', 'defenc', 'lawyer', 'defend', 'former', 'worldcom', 'chief', 'berni', 'ebber', 'batteri', 'fraud', 'charg', 'call', 'compani', 'whistleblow', 'first', 'wit', 'cynthia', 'cooper', 'worldcom', 'exhead', 'intern', 'account', 'alert', 'director', 'irregular', 'account', 'practic', 'u', 'telecom', 'giant', 'warn', 'led', 'collaps', 'firm', 'follow', 'discoveri', 'bn', 'bn', 'account', 'fraud', 'mr', 'ebber', 'plead', 'guilti', 'charg', 'fraud', 'conspiraci', 'prosecut', 'lawyer', 'argu', 'mr', 'ebber', 'orchestr', 'seri', 'account', 'trick', 'worldcom', 'order', 'employe', 'hide', 'expens', 'inflat', 'revenu', 'meet', 'wall', 'street', 'earn', 'estim', 'm', 'cooper', 'run', 'consult', 'busi', 'told', 'juri', 'new', 'york', 'wednesdai', 'extern', 'auditor', 'arthur', 'andersen', 'approv', 'worldcom', 'account', 'earli', 'said', 'andersen', 'given', 'green', 'light', 'procedur', 'practic', 'us', 'worldcom', 'mr', 'ebber', 'lawyer', 'said', 'unawar', 'fraud', 'argu', 'auditor', 'alert', 'problem', 'm', 'cooper', 'also', 'said', 'sharehold', 'meet', 'mr', 'ebber', 'often', 'pass', 'technic', 'question', 'compani', 'financ', 'chief', 'give', 'brief', 'answer', 'prosecut', 'star', 'wit', 'former', 'worldcom', 'financi', 'chief', 'scott', 'sullivan', 'said', 'mr', 'ebber', 'order', 'account', 'adjust', 'firm', 'tell', 'hit', 'book', 'howev', 'm', 'cooper', 'said', 'mr', 'sullivan', 'mention', 'anyth', 'uncomfort', 'worldcom', 'account', 'audit', 'committe', 'meet', 'mr', 'ebber', 'face', 'jail', 'sentenc', 'year', 'convict', 'charg', 'face', 'worldcom', 'emerg', 'bankruptci', 'protect', 'known', 'mci', 'last', 'week', 'mci', 'agr', 'buyout', 'verizon', 'commun', 'deal', 'valu', 'bn']),\n",
              " Row(token_features=['german', 'busi', 'confid', 'slide', 'german', 'busi', 'confid', 'fell', 'februari', 'knock', 'hope', 'speedi', 'recoveri', 'europ', 'largest', 'economi', 'munichbas', 'research', 'institut', 'ifo', 'said', 'confid', 'index', 'fell', 'februari', 'januari', 'first', 'declin', 'three', 'month', 'studi', 'found', 'outlook', 'manufactur', 'retail', 'sector', 'worsen', 'observ', 'hope', 'confid', 'busi', 'sector', 'signal', 'econom', 'activ', 'pick', 're', 'surpris', 'ifo', 'index', 'taken', 'knock', 'said', 'dz', 'bank', 'economist', 'bernd', 'weidenstein', 'main', 'reason', 'probabl', 'domest', 'economi', 'still', 'weak', 'particularli', 'retail', 'trade', 'economi', 'labour', 'minist', 'wolfgang', 'clement', 'call', 'dip', 'februari', 'ifo', 'confid', 'figur', 'mild', 'declin', 'said', 'despit', 'retreat', 'index', 'remain', 'rel', 'high', 'level', 'expect', 'modest', 'econom', 'upsw', 'continu', 'germani', 'economi', 'grew', 'last', 'year', 'shrink', 'howev', 'economi', 'contract', 'last', 'three', 'month', 'mainli', 'due', 'reluct', 'consum', 'spend', 'latest', 'indic', 'growth', 'still', 'prove', 'elus', 'ifo', 'presid', 'hanswern', 'sinn', 'said', 'improv', 'german', 'domest', 'demand', 'sluggish', 'export', 'kept', 'thing', 'go', 'first', 'half', 'demand', 'export', 'hit', 'valu', 'euro', 'hit', 'record', 'level', 'make', 'german', 'product', 'less', 'competit', 'oversea', 'top', 'unemploy', 'rate', 'stuck', 'close', 'manufactur', 'firm', 'includ', 'daimlerchrysl', 'siemen', 'volkswagen', 'negoti', 'union', 'cost', 'cut', 'measur', 'analyst', 'said', 'ifo', 'figur', 'germani', 'continu', 'problem', 'mai', 'delai', 'interest', 'rate', 'rise', 'european', 'central', 'bank', 'eurozon', 'interest', 'rate', 'comment', 'senior', 'offici', 'recent', 'focus', 'threat', 'inflat', 'prompt', 'fear', 'interest', 'rate', 'mai', 'rise'])]"
            ]
          },
          "metadata": {},
          "execution_count": 14
        }
      ],
      "source": [
        "processed.select('token_features').take(2)\n"
      ]
    },
    {
      "cell_type": "code",
      "execution_count": null,
      "metadata": {
        "colab": {
          "base_uri": "https://localhost:8080/"
        },
        "id": "ykSE_zhGIiCd",
        "outputId": "944e177b-07a2-4a3a-8110-4c80300263e3"
      },
      "outputs": [
        {
          "output_type": "execute_result",
          "data": {
            "text/plain": [
              "[Row(features=SparseVector(5188, {0: 5.0, 1: 7.0, 2: 1.0, 3: 1.0, 4: 1.0, 5: 3.0, 7: 1.0, 10: 1.0, 12: 1.0, 13: 1.0, 26: 2.0, 27: 2.0, 32: 3.0, 37: 1.0, 50: 1.0, 68: 1.0, 97: 1.0, 110: 1.0, 112: 1.0, 114: 1.0, 115: 1.0, 116: 1.0, 117: 2.0, 124: 1.0, 135: 1.0, 147: 2.0, 148: 1.0, 152: 1.0, 154: 1.0, 159: 3.0, 163: 3.0, 219: 1.0, 243: 1.0, 256: 3.0, 280: 1.0, 294: 1.0, 305: 7.0, 306: 1.0, 310: 1.0, 314: 2.0, 357: 1.0, 377: 1.0, 379: 1.0, 418: 1.0, 461: 1.0, 521: 1.0, 565: 1.0, 569: 1.0, 588: 2.0, 596: 1.0, 597: 1.0, 609: 1.0, 624: 1.0, 637: 1.0, 639: 1.0, 642: 1.0, 643: 1.0, 663: 1.0, 725: 1.0, 739: 4.0, 807: 1.0, 825: 1.0, 844: 1.0, 851: 1.0, 861: 1.0, 914: 1.0, 920: 1.0, 930: 1.0, 932: 1.0, 958: 1.0, 961: 1.0, 974: 3.0, 984: 1.0, 1050: 1.0, 1071: 1.0, 1078: 1.0, 1109: 1.0, 1111: 1.0, 1209: 2.0, 1232: 2.0, 1234: 9.0, 1243: 2.0, 1288: 1.0, 1299: 1.0, 1310: 2.0, 1315: 1.0, 1372: 1.0, 1404: 4.0, 1405: 7.0, 1495: 1.0, 1498: 1.0, 1622: 1.0, 1667: 2.0, 1679: 1.0, 1739: 2.0, 1740: 1.0, 1968: 1.0, 2030: 1.0, 2151: 1.0, 2229: 1.0, 2317: 1.0, 2365: 1.0, 2558: 1.0, 2691: 1.0, 2849: 1.0, 2920: 1.0, 2934: 2.0, 3030: 1.0, 3092: 1.0, 3324: 1.0, 3353: 1.0, 3410: 1.0, 4076: 1.0, 4276: 1.0, 4880: 1.0})),\n",
              " Row(features=SparseVector(5188, {0: 5.0, 2: 1.0, 12: 2.0, 13: 2.0, 14: 1.0, 21: 1.0, 27: 1.0, 39: 1.0, 42: 2.0, 49: 2.0, 53: 1.0, 57: 1.0, 64: 1.0, 65: 2.0, 68: 1.0, 71: 1.0, 74: 1.0, 82: 2.0, 105: 2.0, 107: 1.0, 112: 3.0, 121: 2.0, 124: 1.0, 130: 3.0, 132: 1.0, 134: 4.0, 137: 5.0, 140: 2.0, 143: 1.0, 145: 1.0, 148: 2.0, 154: 1.0, 158: 1.0, 165: 2.0, 174: 1.0, 177: 2.0, 179: 1.0, 186: 2.0, 187: 1.0, 192: 1.0, 193: 1.0, 195: 1.0, 206: 1.0, 214: 1.0, 228: 1.0, 236: 1.0, 238: 1.0, 247: 1.0, 248: 1.0, 269: 1.0, 272: 1.0, 277: 2.0, 303: 1.0, 304: 1.0, 331: 1.0, 346: 1.0, 350: 2.0, 372: 1.0, 385: 1.0, 401: 1.0, 405: 1.0, 414: 1.0, 432: 1.0, 442: 1.0, 445: 1.0, 467: 3.0, 495: 5.0, 544: 1.0, 554: 1.0, 582: 1.0, 604: 1.0, 609: 1.0, 647: 2.0, 650: 1.0, 668: 2.0, 670: 2.0, 686: 1.0, 756: 1.0, 780: 2.0, 793: 1.0, 795: 1.0, 799: 1.0, 806: 2.0, 841: 1.0, 850: 1.0, 853: 1.0, 889: 4.0, 895: 2.0, 931: 1.0, 932: 1.0, 936: 2.0, 948: 1.0, 960: 1.0, 1012: 1.0, 1057: 1.0, 1099: 2.0, 1101: 1.0, 1114: 1.0, 1146: 1.0, 1161: 1.0, 1204: 1.0, 1226: 1.0, 1322: 3.0, 1371: 1.0, 1395: 1.0, 1427: 1.0, 1433: 1.0, 1494: 1.0, 1540: 1.0, 1596: 1.0, 1599: 2.0, 1630: 1.0, 2104: 1.0, 2112: 1.0, 2148: 1.0, 2356: 1.0, 2501: 1.0, 2973: 1.0, 3183: 1.0, 3242: 1.0, 3268: 1.0, 3430: 1.0, 3726: 1.0, 4083: 1.0, 4765: 1.0, 4801: 1.0, 5033: 1.0}))]"
            ]
          },
          "metadata": {},
          "execution_count": 15
        }
      ],
      "source": [
        "processed.select('features').take(2)"
      ]
    },
    {
      "cell_type": "code",
      "execution_count": null,
      "metadata": {
        "colab": {
          "base_uri": "https://localhost:8080/"
        },
        "id": "5wAN5Oq9ImwO",
        "outputId": "8a846a9f-9862-499f-c27b-01d897dc7461"
      },
      "outputs": [
        {
          "output_type": "stream",
          "name": "stdout",
          "text": [
            "+--------------------+--------------------+-----+\n",
            "|                Text|            features|label|\n",
            "+--------------------+--------------------+-----+\n",
            "|worldcom ex-boss ...|(5188,[0,1,2,3,4,...|  1.0|\n",
            "|german business c...|(5188,[0,2,12,13,...|  1.0|\n",
            "|bbc poll indicate...|(5188,[0,2,4,5,6,...|  1.0|\n",
            "|lifestyle  govern...|(5188,[0,2,3,4,6,...|  4.0|\n",
            "|enron bosses in $...|(5188,[0,2,3,5,7,...|  1.0|\n",
            "|howard  truanted ...|(5188,[0,1,4,5,9,...|  2.0|\n",
            "|wales silent on g...|(5188,[0,9,11,12,...|  0.0|\n",
            "|french honour for...|(5188,[0,1,4,7,8,...|  3.0|\n",
            "|car giant hit by ...|(5188,[0,2,3,5,7,...|  1.0|\n",
            "|fockers fuel fest...|(5188,[0,2,3,4,5,...|  3.0|\n",
            "|blair rejects ira...|(5188,[0,1,3,8,10...|  2.0|\n",
            "|housewives lift c...|(5188,[2,7,8,12,1...|  3.0|\n",
            "|uk coal plunges i...|(5188,[0,1,2,3,5,...|  1.0|\n",
            "|bp surges ahead o...|(5188,[0,2,3,5,12...|  1.0|\n",
            "|ireland 21-19 arg...|(5188,[8,9,11,13,...|  0.0|\n",
            "|wenger signs new ...|(5188,[0,2,3,4,5,...|  0.0|\n",
            "|u2 s desire to be...|(5188,[0,1,2,3,4,...|  3.0|\n",
            "|hantuchova in dub...|(5188,[0,4,8,9,12...|  0.0|\n",
            "|melzer shocks aga...|(5188,[0,9,11,14,...|  0.0|\n",
            "|moving mobile imp...|(5188,[3,4,9,10,1...|  4.0|\n",
            "+--------------------+--------------------+-----+\n",
            "only showing top 20 rows\n",
            "\n"
          ]
        }
      ],
      "source": [
        "processed.select('Text','features','label').show()"
      ]
    },
    {
      "cell_type": "code",
      "execution_count": null,
      "metadata": {
        "colab": {
          "base_uri": "https://localhost:8080/"
        },
        "id": "jmpTDyHrIuJ-",
        "outputId": "85983c91-263d-42c0-d886-f39f0472707b"
      },
      "outputs": [
        {
          "output_type": "stream",
          "name": "stdout",
          "text": [
            "Training Dataset Count: 1118\n",
            "Test Dataset Count: 372\n"
          ]
        }
      ],
      "source": [
        "(trainingData, testData) = processed.randomSplit([0.75, 0.25], seed = 100)\n",
        "print(\"Training Dataset Count: \" + str(trainingData.count()))\n",
        "print(\"Test Dataset Count: \" + str(testData.count()))"
      ]
    },
    {
      "cell_type": "code",
      "execution_count": null,
      "metadata": {
        "colab": {
          "base_uri": "https://localhost:8080/"
        },
        "id": "WV6pOsPDJ0e4",
        "outputId": "7d815228-4827-42aa-a7d7-3603c8c60340"
      },
      "outputs": [
        {
          "output_type": "stream",
          "name": "stdout",
          "text": [
            "root\n",
            " |-- ArticleId: long (nullable = true)\n",
            " |-- Text: string (nullable = true)\n",
            " |-- Category: string (nullable = true)\n",
            " |-- document: array (nullable = true)\n",
            " |    |-- element: struct (containsNull = true)\n",
            " |    |    |-- annotatorType: string (nullable = true)\n",
            " |    |    |-- begin: integer (nullable = false)\n",
            " |    |    |-- end: integer (nullable = false)\n",
            " |    |    |-- result: string (nullable = true)\n",
            " |    |    |-- metadata: map (nullable = true)\n",
            " |    |    |    |-- key: string\n",
            " |    |    |    |-- value: string (valueContainsNull = true)\n",
            " |    |    |-- embeddings: array (nullable = true)\n",
            " |    |    |    |-- element: float (containsNull = false)\n",
            " |-- token: array (nullable = true)\n",
            " |    |-- element: struct (containsNull = true)\n",
            " |    |    |-- annotatorType: string (nullable = true)\n",
            " |    |    |-- begin: integer (nullable = false)\n",
            " |    |    |-- end: integer (nullable = false)\n",
            " |    |    |-- result: string (nullable = true)\n",
            " |    |    |-- metadata: map (nullable = true)\n",
            " |    |    |    |-- key: string\n",
            " |    |    |    |-- value: string (valueContainsNull = true)\n",
            " |    |    |-- embeddings: array (nullable = true)\n",
            " |    |    |    |-- element: float (containsNull = false)\n",
            " |-- normalized: array (nullable = true)\n",
            " |    |-- element: struct (containsNull = true)\n",
            " |    |    |-- annotatorType: string (nullable = true)\n",
            " |    |    |-- begin: integer (nullable = false)\n",
            " |    |    |-- end: integer (nullable = false)\n",
            " |    |    |-- result: string (nullable = true)\n",
            " |    |    |-- metadata: map (nullable = true)\n",
            " |    |    |    |-- key: string\n",
            " |    |    |    |-- value: string (valueContainsNull = true)\n",
            " |    |    |-- embeddings: array (nullable = true)\n",
            " |    |    |    |-- element: float (containsNull = false)\n",
            " |-- cleanTokens: array (nullable = true)\n",
            " |    |-- element: struct (containsNull = true)\n",
            " |    |    |-- annotatorType: string (nullable = true)\n",
            " |    |    |-- begin: integer (nullable = false)\n",
            " |    |    |-- end: integer (nullable = false)\n",
            " |    |    |-- result: string (nullable = true)\n",
            " |    |    |-- metadata: map (nullable = true)\n",
            " |    |    |    |-- key: string\n",
            " |    |    |    |-- value: string (valueContainsNull = true)\n",
            " |    |    |-- embeddings: array (nullable = true)\n",
            " |    |    |    |-- element: float (containsNull = false)\n",
            " |-- stem: array (nullable = true)\n",
            " |    |-- element: struct (containsNull = true)\n",
            " |    |    |-- annotatorType: string (nullable = true)\n",
            " |    |    |-- begin: integer (nullable = false)\n",
            " |    |    |-- end: integer (nullable = false)\n",
            " |    |    |-- result: string (nullable = true)\n",
            " |    |    |-- metadata: map (nullable = true)\n",
            " |    |    |    |-- key: string\n",
            " |    |    |    |-- value: string (valueContainsNull = true)\n",
            " |    |    |-- embeddings: array (nullable = true)\n",
            " |    |    |    |-- element: float (containsNull = false)\n",
            " |-- token_features: array (nullable = true)\n",
            " |    |-- element: string (containsNull = true)\n",
            " |-- features: vector (nullable = true)\n",
            " |-- label: double (nullable = false)\n",
            "\n"
          ]
        }
      ],
      "source": [
        "trainingData.printSchema()"
      ]
    },
    {
      "cell_type": "code",
      "execution_count": null,
      "metadata": {
        "colab": {
          "base_uri": "https://localhost:8080/"
        },
        "id": "FoD5fKQoJ7gG",
        "outputId": "af64b10b-3d61-4451-9021-fb3d08c65aff"
      },
      "outputs": [
        {
          "output_type": "stream",
          "name": "stdout",
          "text": [
            "+------------------------------+--------+------------------------------+-----+----------+\n",
            "|                          Text|Category|                   probability|label|prediction|\n",
            "+------------------------------+--------+------------------------------+-----+----------+\n",
            "|holmes back on form in birm...|   sport|[0.9999992841027223,1.96724...|  0.0|       0.0|\n",
            "|federer joins all-time grea...|   sport|[0.9999858149757638,2.50011...|  0.0|       0.0|\n",
            "|ireland surge past scots ir...|   sport|[0.9999525939790581,7.62550...|  0.0|       0.0|\n",
            "|bridge could miss rest of s...|   sport|[0.9998728016892534,1.91619...|  0.0|       0.0|\n",
            "|blackburn v burnley ewood p...|   sport|[0.999813916186194,3.389904...|  0.0|       0.0|\n",
            "|chelsea hold arsenal a grip...|   sport|[0.9997745493449134,6.11558...|  0.0|       0.0|\n",
            "|preview: ireland v england ...|   sport|[0.9996801798038802,5.75293...|  0.0|       0.0|\n",
            "|wenger keeping faith with a...|   sport|[0.9996431846417368,3.73588...|  0.0|       0.0|\n",
            "|a year to remember for iris...|   sport|[0.9996077875091243,2.85020...|  0.0|       0.0|\n",
            "|dallaglio his own man to th...|   sport|[0.9989899249653453,1.66430...|  0.0|       0.0|\n",
            "+------------------------------+--------+------------------------------+-----+----------+\n",
            "only showing top 10 rows\n",
            "\n"
          ]
        }
      ],
      "source": [
        "from pyspark.ml.classification import LogisticRegression\n",
        "\n",
        "lr = LogisticRegression(regParam=0.1, maxIter=100, elasticNetParam=0.0, family=\"multinomial\")\n",
        "\n",
        "lrModel = lr.fit(trainingData)\n",
        "\n",
        "predictions = lrModel.transform(testData)\n",
        "\n",
        "predictions.filter(predictions['prediction'] == 0) \\\n",
        "    .select(\"Text\",\"Category\",\"probability\",\"label\",\"prediction\") \\\n",
        "    .orderBy(\"probability\", ascending=False) \\\n",
        "    .show(n = 10, truncate = 30)"
      ]
    },
    {
      "cell_type": "code",
      "execution_count": null,
      "metadata": {
        "colab": {
          "base_uri": "https://localhost:8080/"
        },
        "id": "Oud1IVAiKdfs",
        "outputId": "ede0aba0-09f0-430a-f9ae-5961ead166e2"
      },
      "outputs": [
        {
          "output_type": "execute_result",
          "data": {
            "text/plain": [
              "0.9650001255469579"
            ]
          },
          "metadata": {},
          "execution_count": 20
        }
      ],
      "source": [
        "from pyspark.ml.evaluation import MulticlassClassificationEvaluator\n",
        "\n",
        "evaluator = MulticlassClassificationEvaluator(predictionCol=\"prediction\")\n",
        "\n",
        "evaluator.evaluate(predictions)"
      ]
    },
    {
      "cell_type": "code",
      "execution_count": null,
      "metadata": {
        "id": "My3sQ4K2KyPc"
      },
      "outputs": [],
      "source": [
        "from sklearn.metrics import confusion_matrix, classification_report, accuracy_score\n",
        "y_true = predictions.select(\"label\")\n",
        "y_true = y_true.toPandas()\n",
        "\n",
        "y_pred = predictions.select(\"prediction\")\n",
        "y_pred = y_pred.toPandas()"
      ]
    },
    {
      "cell_type": "code",
      "execution_count": null,
      "metadata": {
        "colab": {
          "base_uri": "https://localhost:8080/"
        },
        "id": "okcL78iBKzl5",
        "outputId": "6bbe10ef-5912-4535-e913-b373755233ea"
      },
      "outputs": [
        {
          "output_type": "execute_result",
          "data": {
            "text/plain": [
              "0.0    97\n",
              "1.0    87\n",
              "4.0    66\n",
              "3.0    63\n",
              "2.0    59\n",
              "Name: prediction, dtype: int64"
            ]
          },
          "metadata": {},
          "execution_count": 22
        }
      ],
      "source": [
        "y_pred.prediction.value_counts()"
      ]
    },
    {
      "cell_type": "code",
      "execution_count": null,
      "metadata": {
        "colab": {
          "base_uri": "https://localhost:8080/"
        },
        "id": "TqOGmlayK1x3",
        "outputId": "85567bc7-724a-45c5-e799-a9c6d3621f3c"
      },
      "outputs": [
        {
          "output_type": "execute_result",
          "data": {
            "text/plain": [
              "array([[96,  0,  1,  0,  0],\n",
              "       [ 1, 82,  1,  0,  0],\n",
              "       [ 0,  4, 57,  1,  0],\n",
              "       [ 0,  0,  0, 59,  1],\n",
              "       [ 0,  1,  0,  3, 65]])"
            ]
          },
          "metadata": {},
          "execution_count": 23
        }
      ],
      "source": [
        "cnf_matrix = confusion_matrix(list(y_true.label.astype(int)), list(y_pred.prediction.astype(int)))\n",
        "cnf_matrix"
      ]
    },
    {
      "cell_type": "code",
      "execution_count": null,
      "metadata": {
        "colab": {
          "base_uri": "https://localhost:8080/"
        },
        "id": "ViA2vc8eK3W7",
        "outputId": "e4f1b698-fd49-4103-ed6c-77864644415c"
      },
      "outputs": [
        {
          "output_type": "stream",
          "name": "stdout",
          "text": [
            "              precision    recall  f1-score   support\n",
            "\n",
            "         0.0       0.99      0.99      0.99        97\n",
            "         1.0       0.94      0.98      0.96        84\n",
            "         2.0       0.97      0.92      0.94        62\n",
            "         3.0       0.94      0.98      0.96        60\n",
            "         4.0       0.98      0.94      0.96        69\n",
            "\n",
            "    accuracy                           0.97       372\n",
            "   macro avg       0.96      0.96      0.96       372\n",
            "weighted avg       0.97      0.97      0.97       372\n",
            "\n",
            "0.9650537634408602\n"
          ]
        }
      ],
      "source": [
        "print(classification_report(y_true.label, y_pred.prediction))\n",
        "print(accuracy_score(y_true.label, y_pred.prediction))"
      ]
    },
    {
      "cell_type": "code",
      "execution_count": null,
      "metadata": {
        "colab": {
          "base_uri": "https://localhost:8080/"
        },
        "id": "H1ASsXsCLfpM",
        "outputId": "7a91bf9f-2222-4320-96b6-c930735102dc"
      },
      "outputs": [
        {
          "output_type": "execute_result",
          "data": {
            "text/plain": [
              "1490"
            ]
          },
          "metadata": {},
          "execution_count": 25
        }
      ],
      "source": [
        "from pyspark.ml.feature import HashingTF, IDF\n",
        "\n",
        "hashingTF = HashingTF(inputCol=\"token_features\", outputCol=\"rawFeatures\", numFeatures=10000)\n",
        "\n",
        "idf = IDF(inputCol=\"rawFeatures\", outputCol=\"features\", minDocFreq=5) #minDocFreq: remove sparse terms\n",
        "\n",
        "nlp_pipeline_tf = Pipeline(\n",
        "    stages=[document_assembler, \n",
        "            tokenizer,\n",
        "            normalizer,\n",
        "            stopwords_cleaner, \n",
        "            stemmer, \n",
        "            finisher,\n",
        "            hashingTF,\n",
        "            idf,\n",
        "            label_stringIdx])\n",
        "\n",
        "nlp_model_tf = nlp_pipeline_tf.fit(spark_df)\n",
        "\n",
        "processed_tf = nlp_model_tf.transform(spark_df)\n",
        "\n",
        "processed_tf.count()"
      ]
    },
    {
      "cell_type": "code",
      "execution_count": null,
      "metadata": {
        "colab": {
          "base_uri": "https://localhost:8080/"
        },
        "id": "_b4BO6WKMkBF",
        "outputId": "fba9f916-0b61-4204-acb9-29935fbe1ae2"
      },
      "outputs": [
        {
          "output_type": "stream",
          "name": "stdout",
          "text": [
            "+--------------------+--------------------+-----+\n",
            "|                Text|            features|label|\n",
            "+--------------------+--------------------+-----+\n",
            "|worldcom ex-boss ...|(10000,[7,63,221,...|  1.0|\n",
            "|german business c...|(10000,[24,70,203...|  1.0|\n",
            "|bbc poll indicate...|(10000,[8,140,320...|  1.0|\n",
            "|lifestyle  govern...|(10000,[7,29,70,1...|  4.0|\n",
            "|enron bosses in $...|(10000,[15,33,63,...|  1.0|\n",
            "|howard  truanted ...|(10000,[89,221,26...|  2.0|\n",
            "|wales silent on g...|(10000,[21,23,154...|  0.0|\n",
            "|french honour for...|(10000,[312,398,5...|  3.0|\n",
            "|car giant hit by ...|(10000,[14,116,15...|  1.0|\n",
            "|fockers fuel fest...|(10000,[328,488,5...|  3.0|\n",
            "|blair rejects ira...|(10000,[23,70,206...|  2.0|\n",
            "|housewives lift c...|(10000,[144,253,2...|  3.0|\n",
            "|uk coal plunges i...|(10000,[63,117,29...|  1.0|\n",
            "|bp surges ahead o...|(10000,[63,114,15...|  1.0|\n",
            "|ireland 21-19 arg...|(10000,[30,116,26...|  0.0|\n",
            "|wenger signs new ...|(10000,[157,288,4...|  0.0|\n",
            "|u2 s desire to be...|(10000,[7,15,29,3...|  3.0|\n",
            "|hantuchova in dub...|(10000,[157,195,4...|  0.0|\n",
            "|melzer shocks aga...|(10000,[7,24,141,...|  0.0|\n",
            "|moving mobile imp...|(10000,[70,266,56...|  4.0|\n",
            "+--------------------+--------------------+-----+\n",
            "only showing top 20 rows\n",
            "\n"
          ]
        }
      ],
      "source": [
        "processed_tf.select('Text','features','label').show()"
      ]
    },
    {
      "cell_type": "code",
      "execution_count": null,
      "metadata": {
        "colab": {
          "base_uri": "https://localhost:8080/"
        },
        "id": "_gZlE-ygMzDy",
        "outputId": "cd785b9c-b311-4ca0-fe89-fc14fe013d92"
      },
      "outputs": [
        {
          "output_type": "stream",
          "name": "stdout",
          "text": [
            "Training Dataset Count: 1118\n",
            "Test Dataset Count: 372\n"
          ]
        }
      ],
      "source": [
        "(trainingData, testData) = processed_tf.randomSplit([0.75, 0.25], seed = 100)\n",
        "print(\"Training Dataset Count: \" + str(trainingData.count()))\n",
        "print(\"Test Dataset Count: \" + str(testData.count()))\n"
      ]
    },
    {
      "cell_type": "code",
      "execution_count": null,
      "metadata": {
        "colab": {
          "base_uri": "https://localhost:8080/"
        },
        "id": "vWqo09KsM6NC",
        "outputId": "cf8a18e9-191e-4f59-bdda-14a396dfe90b"
      },
      "outputs": [
        {
          "output_type": "stream",
          "name": "stdout",
          "text": [
            "+------------------------------+--------+------------------------------+-----+----------+\n",
            "|                          Text|Category|                   probability|label|prediction|\n",
            "+------------------------------+--------+------------------------------+-----+----------+\n",
            "|holmes back on form in birm...|   sport|[0.9999948703345454,3.41985...|  0.0|       0.0|\n",
            "|federer joins all-time grea...|   sport|[0.9999754262884323,4.60097...|  0.0|       0.0|\n",
            "|bridge could miss rest of s...|   sport|[0.9997298472999848,4.02940...|  0.0|       0.0|\n",
            "|llewellyn plans wales retir...|   sport|[0.9995557041948206,3.01338...|  0.0|       0.0|\n",
            "|ireland surge past scots ir...|   sport|[0.9994834138231586,6.46792...|  0.0|       0.0|\n",
            "|a year to remember for iris...|   sport|[0.9994205804598082,4.91829...|  0.0|       0.0|\n",
            "|blackburn v burnley ewood p...|   sport|[0.9993749079711313,1.58398...|  0.0|       0.0|\n",
            "|chelsea hold arsenal a grip...|   sport|[0.9990608499919214,1.36338...|  0.0|       0.0|\n",
            "|wenger keeping faith with a...|   sport|[0.9988242459419754,1.44421...|  0.0|       0.0|\n",
            "|preview: ireland v england ...|   sport|[0.9984163915728447,1.76926...|  0.0|       0.0|\n",
            "+------------------------------+--------+------------------------------+-----+----------+\n",
            "only showing top 10 rows\n",
            "\n"
          ]
        }
      ],
      "source": [
        "lr2 = LogisticRegression(regParam=0.1, maxIter=100, elasticNetParam=0.0, family=\"multinomial\")\n",
        "\n",
        "lrModel_tf = lr2.fit(trainingData)\n",
        "\n",
        "predictions_tf = lrModel_tf.transform(testData)\n",
        "\n",
        "predictions_tf.select(\"Text\",\"Category\",\"probability\",\"label\",\"prediction\") \\\n",
        "    .orderBy(\"probability\", ascending=False) \\\n",
        "    .show(n = 10, truncate = 30)"
      ]
    },
    {
      "cell_type": "code",
      "execution_count": null,
      "metadata": {
        "colab": {
          "base_uri": "https://localhost:8080/"
        },
        "id": "IBFOsHEaNAxy",
        "outputId": "44e8d694-a51c-4675-d31e-1c0d6c9d2d0d"
      },
      "outputs": [
        {
          "output_type": "stream",
          "name": "stdout",
          "text": [
            "              precision    recall  f1-score   support\n",
            "\n",
            "         0.0       0.98      1.00      0.99        97\n",
            "         1.0       0.95      0.98      0.96        84\n",
            "         2.0       0.98      0.94      0.96        62\n",
            "         3.0       0.94      0.97      0.95        60\n",
            "         4.0       0.98      0.94      0.96        69\n",
            "\n",
            "    accuracy                           0.97       372\n",
            "   macro avg       0.97      0.96      0.97       372\n",
            "weighted avg       0.97      0.97      0.97       372\n",
            "\n",
            "0.967741935483871\n"
          ]
        }
      ],
      "source": [
        "y_true = predictions_tf.select(\"label\")\n",
        "y_true = y_true.toPandas()\n",
        "\n",
        "y_pred = predictions_tf.select(\"prediction\")\n",
        "y_pred = y_pred.toPandas()\n",
        "\n",
        "print(classification_report(y_true.label, y_pred.prediction))\n",
        "print(accuracy_score(y_true.label, y_pred.prediction))"
      ]
    },
    {
      "cell_type": "markdown",
      "metadata": {
        "id": "OVgdN1opOJoV"
      },
      "source": [
        "## LogReg with Spark NLP Glove Word Embeddings"
      ]
    },
    {
      "cell_type": "code",
      "execution_count": null,
      "metadata": {
        "colab": {
          "base_uri": "https://localhost:8080/"
        },
        "id": "a4pt9IGBNLGc",
        "outputId": "a79d678d-dbd9-493c-ab25-e4e56e11f955"
      },
      "outputs": [
        {
          "output_type": "stream",
          "name": "stdout",
          "text": [
            "glove_100d download started this may take some time.\n",
            "Approximate size to download 145.3 MB\n",
            "[OK!]\n"
          ]
        },
        {
          "output_type": "execute_result",
          "data": {
            "text/plain": [
              "1490"
            ]
          },
          "metadata": {},
          "execution_count": 30
        }
      ],
      "source": [
        "document_assembler = DocumentAssembler() \\\n",
        "      .setInputCol(\"Text\") \\\n",
        "      .setOutputCol(\"document\")\n",
        "    \n",
        "tokenizer = Tokenizer() \\\n",
        "      .setInputCols([\"document\"]) \\\n",
        "      .setOutputCol(\"token\")\n",
        "    \n",
        "normalizer = Normalizer() \\\n",
        "      .setInputCols([\"token\"]) \\\n",
        "      .setOutputCol(\"normalized\")\n",
        "\n",
        "stopwords_cleaner = StopWordsCleaner()\\\n",
        "      .setInputCols(\"normalized\")\\\n",
        "      .setOutputCol(\"cleanTokens\")\\\n",
        "      .setCaseSensitive(False)\n",
        "\n",
        "glove_embeddings = WordEmbeddingsModel().pretrained() \\\n",
        "      .setInputCols([\"document\",'cleanTokens'])\\\n",
        "      .setOutputCol(\"embeddings\")\\\n",
        "      .setCaseSensitive(False)\n",
        "\n",
        "embeddingsSentence = SentenceEmbeddings() \\\n",
        "      .setInputCols([\"document\", \"embeddings\"]) \\\n",
        "      .setOutputCol(\"sentence_embeddings\") \\\n",
        "      .setPoolingStrategy(\"AVERAGE\")\n",
        "    \n",
        "embeddings_finisher = EmbeddingsFinisher() \\\n",
        "      .setInputCols([\"sentence_embeddings\"]) \\\n",
        "      .setOutputCols([\"finished_sentence_embeddings\"]) \\\n",
        "      .setOutputAsVector(True)\\\n",
        "      .setCleanAnnotations(False)\n",
        "\n",
        "explodeVectors = SQLTransformer(statement=\n",
        "      \"SELECT EXPLODE(finished_sentence_embeddings) AS features, * FROM __THIS__\")\n",
        "\n",
        "label_stringIdx = StringIndexer(inputCol = \"Category\", outputCol = \"label\")\n",
        "\n",
        "nlp_pipeline_w2v = Pipeline(\n",
        "    stages=[document_assembler, \n",
        "            tokenizer,\n",
        "            normalizer,\n",
        "            stopwords_cleaner, \n",
        "            glove_embeddings,\n",
        "            embeddingsSentence,\n",
        "            embeddings_finisher,\n",
        "            explodeVectors,\n",
        "            label_stringIdx])\n",
        "\n",
        "nlp_model_w2v = nlp_pipeline_w2v.fit(spark_df)\n",
        "\n",
        "processed_w2v = nlp_model_w2v.transform(spark_df)\n",
        "\n",
        "processed_w2v.count()"
      ]
    },
    {
      "cell_type": "code",
      "execution_count": null,
      "metadata": {
        "colab": {
          "base_uri": "https://localhost:8080/"
        },
        "id": "xPPRXRraOwXV",
        "outputId": "fa6ac63f-2906-4829-af88-63e96f4b1371"
      },
      "outputs": [
        {
          "output_type": "execute_result",
          "data": {
            "text/plain": [
              "['features',\n",
              " 'ArticleId',\n",
              " 'Text',\n",
              " 'Category',\n",
              " 'document',\n",
              " 'token',\n",
              " 'normalized',\n",
              " 'cleanTokens',\n",
              " 'embeddings',\n",
              " 'sentence_embeddings',\n",
              " 'finished_sentence_embeddings',\n",
              " 'label']"
            ]
          },
          "metadata": {},
          "execution_count": 31
        }
      ],
      "source": [
        "processed_w2v.columns"
      ]
    },
    {
      "cell_type": "code",
      "execution_count": null,
      "metadata": {
        "colab": {
          "base_uri": "https://localhost:8080/"
        },
        "id": "WCmOZ2aYO4H-",
        "outputId": "73946543-754f-4b53-8313-b11a5d627f8b"
      },
      "outputs": [
        {
          "output_type": "execute_result",
          "data": {
            "text/plain": [
              "[Row(cleanTokens=[Row(annotatorType='token', begin=0, end=7, result='worldcom', metadata={'sentence': '0'}, embeddings=[]), Row(annotatorType='token', begin=9, end=14, result='exboss', metadata={'sentence': '0'}, embeddings=[]), Row(annotatorType='token', begin=17, end=24, result='launches', metadata={'sentence': '0'}, embeddings=[]), Row(annotatorType='token', begin=26, end=32, result='defence', metadata={'sentence': '0'}, embeddings=[]), Row(annotatorType='token', begin=34, end=40, result='lawyers', metadata={'sentence': '0'}, embeddings=[]), Row(annotatorType='token', begin=42, end=50, result='defending', metadata={'sentence': '0'}, embeddings=[]), Row(annotatorType='token', begin=52, end=57, result='former', metadata={'sentence': '0'}, embeddings=[]), Row(annotatorType='token', begin=59, end=66, result='worldcom', metadata={'sentence': '0'}, embeddings=[]), Row(annotatorType='token', begin=68, end=72, result='chief', metadata={'sentence': '0'}, embeddings=[]), Row(annotatorType='token', begin=74, end=79, result='bernie', metadata={'sentence': '0'}, embeddings=[]), Row(annotatorType='token', begin=81, end=86, result='ebbers', metadata={'sentence': '0'}, embeddings=[]), Row(annotatorType='token', begin=98, end=104, result='battery', metadata={'sentence': '0'}, embeddings=[]), Row(annotatorType='token', begin=109, end=113, result='fraud', metadata={'sentence': '0'}, embeddings=[]), Row(annotatorType='token', begin=115, end=121, result='charges', metadata={'sentence': '0'}, embeddings=[]), Row(annotatorType='token', begin=128, end=133, result='called', metadata={'sentence': '0'}, embeddings=[]), Row(annotatorType='token', begin=137, end=143, result='company', metadata={'sentence': '0'}, embeddings=[]), Row(annotatorType='token', begin=145, end=157, result='whistleblower', metadata={'sentence': '0'}, embeddings=[]), Row(annotatorType='token', begin=168, end=172, result='first', metadata={'sentence': '0'}, embeddings=[]), Row(annotatorType='token', begin=174, end=180, result='witness', metadata={'sentence': '0'}, embeddings=[]), Row(annotatorType='token', begin=184, end=190, result='cynthia', metadata={'sentence': '0'}, embeddings=[]), Row(annotatorType='token', begin=192, end=197, result='cooper', metadata={'sentence': '0'}, embeddings=[]), Row(annotatorType='token', begin=200, end=207, result='worldcom', metadata={'sentence': '0'}, embeddings=[]), Row(annotatorType='token', begin=211, end=216, result='exhead', metadata={'sentence': '0'}, embeddings=[]), Row(annotatorType='token', begin=222, end=229, result='internal', metadata={'sentence': '0'}, embeddings=[]), Row(annotatorType='token', begin=231, end=240, result='accounting', metadata={'sentence': '0'}, embeddings=[]), Row(annotatorType='token', begin=243, end=249, result='alerted', metadata={'sentence': '0'}, embeddings=[]), Row(annotatorType='token', begin=251, end=259, result='directors', metadata={'sentence': '0'}, embeddings=[]), Row(annotatorType='token', begin=264, end=272, result='irregular', metadata={'sentence': '0'}, embeddings=[]), Row(annotatorType='token', begin=274, end=283, result='accounting', metadata={'sentence': '0'}, embeddings=[]), Row(annotatorType='token', begin=285, end=293, result='practices', metadata={'sentence': '0'}, embeddings=[]), Row(annotatorType='token', begin=302, end=303, result='us', metadata={'sentence': '0'}, embeddings=[]), Row(annotatorType='token', begin=305, end=312, result='telecoms', metadata={'sentence': '0'}, embeddings=[]), Row(annotatorType='token', begin=314, end=318, result='giant', metadata={'sentence': '0'}, embeddings=[]), Row(annotatorType='token', begin=333, end=340, result='warnings', metadata={'sentence': '0'}, embeddings=[]), Row(annotatorType='token', begin=342, end=344, result='led', metadata={'sentence': '0'}, embeddings=[]), Row(annotatorType='token', begin=353, end=360, result='collapse', metadata={'sentence': '0'}, embeddings=[]), Row(annotatorType='token', begin=369, end=372, result='firm', metadata={'sentence': '0'}, embeddings=[]), Row(annotatorType='token', begin=374, end=382, result='following', metadata={'sentence': '0'}, embeddings=[]), Row(annotatorType='token', begin=388, end=396, result='discovery', metadata={'sentence': '0'}, embeddings=[]), Row(annotatorType='token', begin=404, end=405, result='bn', metadata={'sentence': '0'}, embeddings=[]), Row(annotatorType='token', begin=411, end=412, result='bn', metadata={'sentence': '0'}, embeddings=[]), Row(annotatorType='token', begin=419, end=428, result='accounting', metadata={'sentence': '0'}, embeddings=[]), Row(annotatorType='token', begin=430, end=434, result='fraud', metadata={'sentence': '0'}, embeddings=[]), Row(annotatorType='token', begin=437, end=438, result='mr', metadata={'sentence': '0'}, embeddings=[]), Row(annotatorType='token', begin=440, end=445, result='ebbers', metadata={'sentence': '0'}, embeddings=[]), Row(annotatorType='token', begin=451, end=457, result='pleaded', metadata={'sentence': '0'}, embeddings=[]), Row(annotatorType='token', begin=463, end=468, result='guilty', metadata={'sentence': '0'}, embeddings=[]), Row(annotatorType='token', begin=473, end=479, result='charges', metadata={'sentence': '0'}, embeddings=[]), Row(annotatorType='token', begin=484, end=488, result='fraud', metadata={'sentence': '0'}, embeddings=[]), Row(annotatorType='token', begin=494, end=503, result='conspiracy', metadata={'sentence': '0'}, embeddings=[]), Row(annotatorType='token', begin=507, end=517, result='prosecution', metadata={'sentence': '0'}, embeddings=[]), Row(annotatorType='token', begin=519, end=525, result='lawyers', metadata={'sentence': '0'}, embeddings=[]), Row(annotatorType='token', begin=532, end=537, result='argued', metadata={'sentence': '0'}, embeddings=[]), Row(annotatorType='token', begin=544, end=545, result='mr', metadata={'sentence': '0'}, embeddings=[]), Row(annotatorType='token', begin=547, end=552, result='ebbers', metadata={'sentence': '0'}, embeddings=[]), Row(annotatorType='token', begin=554, end=565, result='orchestrated', metadata={'sentence': '0'}, embeddings=[]), Row(annotatorType='token', begin=569, end=574, result='series', metadata={'sentence': '0'}, embeddings=[]), Row(annotatorType='token', begin=579, end=588, result='accounting', metadata={'sentence': '0'}, embeddings=[]), Row(annotatorType='token', begin=590, end=595, result='tricks', metadata={'sentence': '0'}, embeddings=[]), Row(annotatorType='token', begin=600, end=607, result='worldcom', metadata={'sentence': '0'}, embeddings=[]), Row(annotatorType='token', begin=610, end=617, result='ordering', metadata={'sentence': '0'}, embeddings=[]), Row(annotatorType='token', begin=619, end=627, result='employees', metadata={'sentence': '0'}, embeddings=[]), Row(annotatorType='token', begin=632, end=635, result='hide', metadata={'sentence': '0'}, embeddings=[]), Row(annotatorType='token', begin=637, end=644, result='expenses', metadata={'sentence': '0'}, embeddings=[]), Row(annotatorType='token', begin=650, end=656, result='inflate', metadata={'sentence': '0'}, embeddings=[]), Row(annotatorType='token', begin=658, end=665, result='revenues', metadata={'sentence': '0'}, embeddings=[]), Row(annotatorType='token', begin=670, end=673, result='meet', metadata={'sentence': '0'}, embeddings=[]), Row(annotatorType='token', begin=675, end=678, result='wall', metadata={'sentence': '0'}, embeddings=[]), Row(annotatorType='token', begin=680, end=685, result='street', metadata={'sentence': '0'}, embeddings=[]), Row(annotatorType='token', begin=687, end=694, result='earnings', metadata={'sentence': '0'}, embeddings=[]), Row(annotatorType='token', begin=696, end=704, result='estimates', metadata={'sentence': '0'}, embeddings=[]), Row(annotatorType='token', begin=711, end=712, result='ms', metadata={'sentence': '0'}, embeddings=[]), Row(annotatorType='token', begin=714, end=719, result='cooper', metadata={'sentence': '0'}, embeddings=[]), Row(annotatorType='token', begin=730, end=733, result='runs', metadata={'sentence': '0'}, embeddings=[]), Row(annotatorType='token', begin=743, end=752, result='consulting', metadata={'sentence': '0'}, embeddings=[]), Row(annotatorType='token', begin=754, end=761, result='business', metadata={'sentence': '0'}, embeddings=[]), Row(annotatorType='token', begin=764, end=767, result='told', metadata={'sentence': '0'}, embeddings=[]), Row(annotatorType='token', begin=771, end=774, result='jury', metadata={'sentence': '0'}, embeddings=[]), Row(annotatorType='token', begin=779, end=781, result='new', metadata={'sentence': '0'}, embeddings=[]), Row(annotatorType='token', begin=783, end=786, result='york', metadata={'sentence': '0'}, embeddings=[]), Row(annotatorType='token', begin=791, end=799, result='wednesday', metadata={'sentence': '0'}, embeddings=[]), Row(annotatorType='token', begin=806, end=813, result='external', metadata={'sentence': '0'}, embeddings=[]), Row(annotatorType='token', begin=815, end=822, result='auditors', metadata={'sentence': '0'}, embeddings=[]), Row(annotatorType='token', begin=824, end=829, result='arthur', metadata={'sentence': '0'}, embeddings=[]), Row(annotatorType='token', begin=831, end=838, result='andersen', metadata={'sentence': '0'}, embeddings=[]), Row(annotatorType='token', begin=844, end=851, result='approved', metadata={'sentence': '0'}, embeddings=[]), Row(annotatorType='token', begin=853, end=860, result='worldcom', metadata={'sentence': '0'}, embeddings=[]), Row(annotatorType='token', begin=864, end=873, result='accounting', metadata={'sentence': '0'}, embeddings=[]), Row(annotatorType='token', begin=878, end=882, result='early', metadata={'sentence': '0'}, embeddings=[]), Row(annotatorType='token', begin=903, end=906, result='said', metadata={'sentence': '0'}, embeddings=[]), Row(annotatorType='token', begin=908, end=915, result='andersen', metadata={'sentence': '0'}, embeddings=[]), Row(annotatorType='token', begin=921, end=925, result='given', metadata={'sentence': '0'}, embeddings=[]), Row(annotatorType='token', begin=930, end=934, result='green', metadata={'sentence': '0'}, embeddings=[]), Row(annotatorType='token', begin=936, end=940, result='light', metadata={'sentence': '0'}, embeddings=[]), Row(annotatorType='token', begin=950, end=959, result='procedures', metadata={'sentence': '0'}, embeddings=[]), Row(annotatorType='token', begin=965, end=973, result='practices', metadata={'sentence': '0'}, embeddings=[]), Row(annotatorType='token', begin=975, end=978, result='used', metadata={'sentence': '0'}, embeddings=[]), Row(annotatorType='token', begin=983, end=990, result='worldcom', metadata={'sentence': '0'}, embeddings=[]), Row(annotatorType='token', begin=993, end=994, result='mr', metadata={'sentence': '0'}, embeddings=[]), Row(annotatorType='token', begin=996, end=1000, result='ebber', metadata={'sentence': '0'}, embeddings=[]), Row(annotatorType='token', begin=1004, end=1010, result='lawyers', metadata={'sentence': '0'}, embeddings=[]), Row(annotatorType='token', begin=1017, end=1020, result='said', metadata={'sentence': '0'}, embeddings=[]), Row(annotatorType='token', begin=1029, end=1035, result='unaware', metadata={'sentence': '0'}, embeddings=[]), Row(annotatorType='token', begin=1044, end=1048, result='fraud', metadata={'sentence': '0'}, embeddings=[]), Row(annotatorType='token', begin=1051, end=1057, result='arguing', metadata={'sentence': '0'}, embeddings=[]), Row(annotatorType='token', begin=1064, end=1071, result='auditors', metadata={'sentence': '0'}, embeddings=[]), Row(annotatorType='token', begin=1081, end=1085, result='alert', metadata={'sentence': '0'}, embeddings=[]), Row(annotatorType='token', begin=1098, end=1105, result='problems', metadata={'sentence': '0'}, embeddings=[]), Row(annotatorType='token', begin=1109, end=1110, result='ms', metadata={'sentence': '0'}, embeddings=[]), Row(annotatorType='token', begin=1112, end=1117, result='cooper', metadata={'sentence': '0'}, embeddings=[]), Row(annotatorType='token', begin=1119, end=1122, result='also', metadata={'sentence': '0'}, embeddings=[]), Row(annotatorType='token', begin=1124, end=1127, result='said', metadata={'sentence': '0'}, embeddings=[]), Row(annotatorType='token', begin=1141, end=1151, result='shareholder', metadata={'sentence': '0'}, embeddings=[]), Row(annotatorType='token', begin=1153, end=1160, result='meetings', metadata={'sentence': '0'}, embeddings=[]), Row(annotatorType='token', begin=1162, end=1163, result='mr', metadata={'sentence': '0'}, embeddings=[]), Row(annotatorType='token', begin=1165, end=1170, result='ebbers', metadata={'sentence': '0'}, embeddings=[]), Row(annotatorType='token', begin=1172, end=1176, result='often', metadata={'sentence': '0'}, embeddings=[]), Row(annotatorType='token', begin=1178, end=1183, result='passed', metadata={'sentence': '0'}, embeddings=[]), Row(annotatorType='token', begin=1190, end=1198, result='technical', metadata={'sentence': '0'}, embeddings=[]), Row(annotatorType='token', begin=1200, end=1208, result='questions', metadata={'sentence': '0'}, embeddings=[]), Row(annotatorType='token', begin=1217, end=1223, result='company', metadata={'sentence': '0'}, embeddings=[]), Row(annotatorType='token', begin=1227, end=1233, result='finance', metadata={'sentence': '0'}, embeddings=[]), Row(annotatorType='token', begin=1235, end=1239, result='chief', metadata={'sentence': '0'}, embeddings=[]), Row(annotatorType='token', begin=1242, end=1247, result='giving', metadata={'sentence': '0'}, embeddings=[]), Row(annotatorType='token', begin=1255, end=1259, result='brief', metadata={'sentence': '0'}, embeddings=[]), Row(annotatorType='token', begin=1262, end=1268, result='answers', metadata={'sentence': '0'}, embeddings=[]), Row(annotatorType='token', begin=1283, end=1293, result='prosecution', metadata={'sentence': '0'}, embeddings=[]), Row(annotatorType='token', begin=1297, end=1300, result='star', metadata={'sentence': '0'}, embeddings=[]), Row(annotatorType='token', begin=1302, end=1308, result='witness', metadata={'sentence': '0'}, embeddings=[]), Row(annotatorType='token', begin=1311, end=1316, result='former', metadata={'sentence': '0'}, embeddings=[]), Row(annotatorType='token', begin=1318, end=1325, result='worldcom', metadata={'sentence': '0'}, embeddings=[]), Row(annotatorType='token', begin=1327, end=1335, result='financial', metadata={'sentence': '0'}, embeddings=[]), Row(annotatorType='token', begin=1337, end=1341, result='chief', metadata={'sentence': '0'}, embeddings=[]), Row(annotatorType='token', begin=1343, end=1347, result='scott', metadata={'sentence': '0'}, embeddings=[]), Row(annotatorType='token', begin=1349, end=1356, result='sullivan', metadata={'sentence': '0'}, embeddings=[]), Row(annotatorType='token', begin=1363, end=1366, result='said', metadata={'sentence': '0'}, embeddings=[]), Row(annotatorType='token', begin=1373, end=1374, result='mr', metadata={'sentence': '0'}, embeddings=[]), Row(annotatorType='token', begin=1376, end=1381, result='ebbers', metadata={'sentence': '0'}, embeddings=[]), Row(annotatorType='token', begin=1383, end=1389, result='ordered', metadata={'sentence': '0'}, embeddings=[]), Row(annotatorType='token', begin=1391, end=1400, result='accounting', metadata={'sentence': '0'}, embeddings=[]), Row(annotatorType='token', begin=1402, end=1412, result='adjustments', metadata={'sentence': '0'}, embeddings=[]), Row(annotatorType='token', begin=1421, end=1424, result='firm', metadata={'sentence': '0'}, embeddings=[]), Row(annotatorType='token', begin=1427, end=1433, result='telling', metadata={'sentence': '0'}, embeddings=[]), Row(annotatorType='token', begin=1443, end=1445, result='hit', metadata={'sentence': '0'}, embeddings=[]), Row(annotatorType='token', begin=1451, end=1455, result='books', metadata={'sentence': '0'}, embeddings=[]), Row(annotatorType='token', begin=1459, end=1465, result='however', metadata={'sentence': '0'}, embeddings=[]), Row(annotatorType='token', begin=1468, end=1469, result='ms', metadata={'sentence': '0'}, embeddings=[]), Row(annotatorType='token', begin=1471, end=1476, result='cooper', metadata={'sentence': '0'}, embeddings=[]), Row(annotatorType='token', begin=1478, end=1481, result='said', metadata={'sentence': '0'}, embeddings=[]), Row(annotatorType='token', begin=1483, end=1484, result='mr', metadata={'sentence': '0'}, embeddings=[]), Row(annotatorType='token', begin=1486, end=1493, result='sullivan', metadata={'sentence': '0'}, embeddings=[]), Row(annotatorType='token', begin=1503, end=1511, result='mentioned', metadata={'sentence': '0'}, embeddings=[]), Row(annotatorType='token', begin=1514, end=1521, result='anything', metadata={'sentence': '0'}, embeddings=[]), Row(annotatorType='token', begin=1523, end=1535, result='uncomfortable', metadata={'sentence': '0'}, embeddings=[]), Row(annotatorType='token', begin=1544, end=1551, result='worldcom', metadata={'sentence': '0'}, embeddings=[]), Row(annotatorType='token', begin=1555, end=1564, result='accounting', metadata={'sentence': '0'}, embeddings=[]), Row(annotatorType='token', begin=1580, end=1584, result='audit', metadata={'sentence': '0'}, embeddings=[]), Row(annotatorType='token', begin=1586, end=1594, result='committee', metadata={'sentence': '0'}, embeddings=[]), Row(annotatorType='token', begin=1596, end=1602, result='meeting', metadata={'sentence': '0'}, embeddings=[]), Row(annotatorType='token', begin=1605, end=1606, result='mr', metadata={'sentence': '0'}, embeddings=[]), Row(annotatorType='token', begin=1608, end=1613, result='ebbers', metadata={'sentence': '0'}, embeddings=[]), Row(annotatorType='token', begin=1621, end=1624, result='face', metadata={'sentence': '0'}, embeddings=[]), Row(annotatorType='token', begin=1628, end=1631, result='jail', metadata={'sentence': '0'}, embeddings=[]), Row(annotatorType='token', begin=1633, end=1640, result='sentence', metadata={'sentence': '0'}, embeddings=[]), Row(annotatorType='token', begin=1648, end=1652, result='years', metadata={'sentence': '0'}, embeddings=[]), Row(annotatorType='token', begin=1657, end=1665, result='convicted', metadata={'sentence': '0'}, embeddings=[]), Row(annotatorType='token', begin=1678, end=1684, result='charges', metadata={'sentence': '0'}, embeddings=[]), Row(annotatorType='token', begin=1692, end=1697, result='facing', metadata={'sentence': '0'}, embeddings=[]), Row(annotatorType='token', begin=1700, end=1707, result='worldcom', metadata={'sentence': '0'}, embeddings=[]), Row(annotatorType='token', begin=1709, end=1715, result='emerged', metadata={'sentence': '0'}, embeddings=[]), Row(annotatorType='token', begin=1722, end=1731, result='bankruptcy', metadata={'sentence': '0'}, embeddings=[]), Row(annotatorType='token', begin=1733, end=1742, result='protection', metadata={'sentence': '0'}, embeddings=[]), Row(annotatorType='token', begin=1764, end=1768, result='known', metadata={'sentence': '0'}, embeddings=[]), Row(annotatorType='token', begin=1773, end=1775, result='mci', metadata={'sentence': '0'}, embeddings=[]), Row(annotatorType='token', begin=1778, end=1781, result='last', metadata={'sentence': '0'}, embeddings=[]), Row(annotatorType='token', begin=1783, end=1786, result='week', metadata={'sentence': '0'}, embeddings=[]), Row(annotatorType='token', begin=1789, end=1791, result='mci', metadata={'sentence': '0'}, embeddings=[]), Row(annotatorType='token', begin=1793, end=1798, result='agreed', metadata={'sentence': '0'}, embeddings=[]), Row(annotatorType='token', begin=1805, end=1810, result='buyout', metadata={'sentence': '0'}, embeddings=[]), Row(annotatorType='token', begin=1815, end=1821, result='verizon', metadata={'sentence': '0'}, embeddings=[]), Row(annotatorType='token', begin=1823, end=1836, result='communications', metadata={'sentence': '0'}, embeddings=[]), Row(annotatorType='token', begin=1843, end=1846, result='deal', metadata={'sentence': '0'}, embeddings=[]), Row(annotatorType='token', begin=1848, end=1853, result='valued', metadata={'sentence': '0'}, embeddings=[]), Row(annotatorType='token', begin=1858, end=1859, result='bn', metadata={'sentence': '0'}, embeddings=[])])]"
            ]
          },
          "metadata": {},
          "execution_count": 32
        }
      ],
      "source": [
        "processed_w2v.select('cleanTokens').take(1)\n"
      ]
    },
    {
      "cell_type": "code",
      "execution_count": null,
      "metadata": {
        "colab": {
          "base_uri": "https://localhost:8080/"
        },
        "id": "mKRAEU7JOX5P",
        "outputId": "0b120f77-1648-4a75-8572-deded74ac2ee"
      },
      "outputs": [
        {
          "output_type": "execute_result",
          "data": {
            "text/plain": [
              "[Row(finished_sentence_embeddings=[DenseVector([0.1437, -0.1435, 0.1251, -0.122, 0.0234, -0.0685, -0.0403, 0.0208, -0.2078, -0.0395, 0.2774, 0.1897, 0.0593, 0.1102, -0.1828, -0.2921, 0.106, 0.0407, -0.3182, 0.1434, -0.046, -0.209, 0.1107, 0.1091, -0.1284, -0.1339, 0.1091, -0.1376, -0.2712, -0.0369, 0.3489, 0.317, -0.2112, -0.2237, -0.1914, 0.1335, 0.0601, 0.0699, 0.1367, 0.0045, -0.3001, -0.1923, 0.2107, -0.1359, -0.1833, 0.0642, 0.0434, -0.3502, 0.0429, -0.5357, 0.2422, -0.1395, 0.1654, 0.5328, -0.1822, -1.3902, -0.1226, -0.1377, 1.138, 0.412, -0.1213, 0.1091, -0.1132, 0.0361, 0.3306, -0.3115, 0.3167, 0.4455, 0.2343, 0.1333, -0.1088, -0.0144, -0.3547, -0.2582, 0.0342, -0.2139, -0.0035, -0.0054, -0.7143, -0.0038, 0.7572, -0.0728, -0.0391, 0.0223, -0.9537, -0.3432, 0.0132, -0.0042, -0.043, -0.2652, 0.1228, -0.171, -0.1259, -0.0848, 0.1928, 0.2324, 0.0154, -0.0958, 0.2338, 0.0395])])]"
            ]
          },
          "metadata": {},
          "execution_count": 33
        }
      ],
      "source": [
        "processed_w2v.select('finished_sentence_embeddings').take(1)\n"
      ]
    },
    {
      "cell_type": "code",
      "execution_count": null,
      "metadata": {
        "colab": {
          "base_uri": "https://localhost:8080/"
        },
        "id": "fROPvs2sPAFI",
        "outputId": "709804e3-ac94-4dd3-df25-3eeff88c66f9"
      },
      "outputs": [
        {
          "output_type": "execute_result",
          "data": {
            "text/plain": [
              "[Row(features=DenseVector([0.1437, -0.1435, 0.1251, -0.122, 0.0234, -0.0685, -0.0403, 0.0208, -0.2078, -0.0395, 0.2774, 0.1897, 0.0593, 0.1102, -0.1828, -0.2921, 0.106, 0.0407, -0.3182, 0.1434, -0.046, -0.209, 0.1107, 0.1091, -0.1284, -0.1339, 0.1091, -0.1376, -0.2712, -0.0369, 0.3489, 0.317, -0.2112, -0.2237, -0.1914, 0.1335, 0.0601, 0.0699, 0.1367, 0.0045, -0.3001, -0.1923, 0.2107, -0.1359, -0.1833, 0.0642, 0.0434, -0.3502, 0.0429, -0.5357, 0.2422, -0.1395, 0.1654, 0.5328, -0.1822, -1.3902, -0.1226, -0.1377, 1.138, 0.412, -0.1213, 0.1091, -0.1132, 0.0361, 0.3306, -0.3115, 0.3167, 0.4455, 0.2343, 0.1333, -0.1088, -0.0144, -0.3547, -0.2582, 0.0342, -0.2139, -0.0035, -0.0054, -0.7143, -0.0038, 0.7572, -0.0728, -0.0391, 0.0223, -0.9537, -0.3432, 0.0132, -0.0042, -0.043, -0.2652, 0.1228, -0.171, -0.1259, -0.0848, 0.1928, 0.2324, 0.0154, -0.0958, 0.2338, 0.0395]))]"
            ]
          },
          "metadata": {},
          "execution_count": 34
        }
      ],
      "source": [
        "processed_w2v.select(\"features\").take(1)\n"
      ]
    },
    {
      "cell_type": "code",
      "execution_count": null,
      "metadata": {
        "colab": {
          "base_uri": "https://localhost:8080/"
        },
        "id": "O7V4fSWLPHlM",
        "outputId": "19c67e29-6770-4a98-80d9-ef2c5637ae26"
      },
      "outputs": [
        {
          "output_type": "stream",
          "name": "stdout",
          "text": [
            "+--------------------+--------------------+-----+\n",
            "|                Text|            features|label|\n",
            "+--------------------+--------------------+-----+\n",
            "|worldcom ex-boss ...|[0.14365777373313...|  1.0|\n",
            "|german business c...|[0.04885630682110...|  1.0|\n",
            "|bbc poll indicate...|[-0.0909639447927...|  1.0|\n",
            "|lifestyle  govern...|[-0.1047650575637...|  4.0|\n",
            "|enron bosses in $...|[0.25210666656494...|  1.0|\n",
            "|howard  truanted ...|[-0.0044781574979...|  2.0|\n",
            "|wales silent on g...|[-0.1021427735686...|  0.0|\n",
            "|french honour for...|[0.03469001874327...|  3.0|\n",
            "|car giant hit by ...|[0.12876743078231...|  1.0|\n",
            "|fockers fuel fest...|[0.01742288284003...|  3.0|\n",
            "|blair rejects ira...|[-0.1817228943109...|  2.0|\n",
            "|housewives lift c...|[0.12551599740982...|  3.0|\n",
            "|uk coal plunges i...|[-0.0331566482782...|  1.0|\n",
            "|bp surges ahead o...|[0.09505154192447...|  1.0|\n",
            "|ireland 21-19 arg...|[-0.0510397553443...|  0.0|\n",
            "|wenger signs new ...|[0.10450825840234...|  0.0|\n",
            "|u2 s desire to be...|[-0.0528848618268...|  3.0|\n",
            "|hantuchova in dub...|[-0.0381293855607...|  0.0|\n",
            "|melzer shocks aga...|[-0.0061821932904...|  0.0|\n",
            "|moving mobile imp...|[-0.1420650780200...|  4.0|\n",
            "+--------------------+--------------------+-----+\n",
            "only showing top 20 rows\n",
            "\n"
          ]
        }
      ],
      "source": [
        "processed_w2v.select('Text','features','label').show()\n"
      ]
    },
    {
      "cell_type": "code",
      "execution_count": null,
      "metadata": {
        "colab": {
          "base_uri": "https://localhost:8080/"
        },
        "id": "hIlpSkWtPM7S",
        "outputId": "c072c6e2-2557-4bde-c4d5-87125d3a6d8d"
      },
      "outputs": [
        {
          "output_type": "stream",
          "name": "stdout",
          "text": [
            "Training Dataset Count: 1118\n",
            "Test Dataset Count: 372\n"
          ]
        }
      ],
      "source": [
        "(trainingData, testData) = processed_w2v.randomSplit([0.75, 0.25], seed = 100)\n",
        "print(\"Training Dataset Count: \" + str(trainingData.count()))\n",
        "print(\"Test Dataset Count: \" + str(testData.count()))"
      ]
    },
    {
      "cell_type": "code",
      "execution_count": null,
      "metadata": {
        "id": "3X109VvXPU6K"
      },
      "outputs": [],
      "source": [
        "## By removing such rows, we can optimize the performance of our machine learning algorithms, as we can skip the computation for those rows where the features vector is all zeros.\n",
        "from pyspark.sql.functions import udf\n",
        "\n",
        "@udf(\"long\")\n",
        "def num_nonzeros(v):\n",
        "    return v.numNonzeros()\n",
        "\n",
        "testData = testData.where(num_nonzeros(\"features\") != 0)"
      ]
    },
    {
      "cell_type": "code",
      "execution_count": null,
      "metadata": {
        "id": "PYEtNtgjQAcs"
      },
      "outputs": [],
      "source": [
        "lrModel_w2v = lr.fit(trainingData)"
      ]
    },
    {
      "cell_type": "code",
      "execution_count": null,
      "metadata": {
        "id": "4qnyAZJ0QEba",
        "colab": {
          "base_uri": "https://localhost:8080/"
        },
        "outputId": "b18faa90-8e86-4e7a-8cbd-6ff58c1e26e8"
      },
      "outputs": [
        {
          "output_type": "stream",
          "name": "stdout",
          "text": [
            "+------------------------------+--------+------------------------------+-----+----------+\n",
            "|                          Text|Category|                   probability|label|prediction|\n",
            "+------------------------------+--------+------------------------------+-----+----------+\n",
            "|benitez issues warning to g...|   sport|[0.999354628677034,1.305838...|  0.0|       0.0|\n",
            "|gerrard plays down european...|   sport|[0.9977441826873454,8.25964...|  0.0|       0.0|\n",
            "|cudicini misses carling cup...|   sport|[0.9974225551750332,5.30672...|  0.0|       0.0|\n",
            "|wilkinson return  unlikely ...|   sport|[0.9969352814994883,5.32838...|  0.0|       0.0|\n",
            "|england given tough sevens ...|   sport|[0.9963728653818645,0.00172...|  0.0|       0.0|\n",
            "|slovakia reach hopman cup f...|   sport|[0.9960847622257419,3.83563...|  0.0|       0.0|\n",
            "|sydney return for henin-har...|   sport|[0.9949767349285513,0.00108...|  0.0|       0.0|\n",
            "|desailly backs blues reveng...|   sport|[0.994739305804544,0.002234...|  0.0|       0.0|\n",
            "|benitez deflects blame from...|   sport|[0.9940629891613629,0.00206...|  0.0|       0.0|\n",
            "|ferguson rues failure to cu...|   sport|[0.9940306447964251,0.00182...|  0.0|       0.0|\n",
            "+------------------------------+--------+------------------------------+-----+----------+\n",
            "only showing top 10 rows\n",
            "\n"
          ]
        }
      ],
      "source": [
        "predictions_w2v = lrModel_w2v.transform(testData)\n",
        "\n",
        "predictions_w2v.select(\"Text\",\"Category\",\"probability\",\"label\",\"prediction\") \\\n",
        "    .orderBy(\"probability\", ascending=False) \\\n",
        "    .show(n = 10, truncate = 30)"
      ]
    },
    {
      "cell_type": "code",
      "execution_count": null,
      "metadata": {
        "colab": {
          "base_uri": "https://localhost:8080/"
        },
        "id": "d_HLknyYQHmQ",
        "outputId": "51813eba-ce2d-43a7-c491-e13b93d53944"
      },
      "outputs": [
        {
          "output_type": "stream",
          "name": "stdout",
          "text": [
            "              precision    recall  f1-score   support\n",
            "\n",
            "         0.0       0.99      1.00      0.99        79\n",
            "         1.0       0.93      0.94      0.94        87\n",
            "         2.0       0.96      0.93      0.94        69\n",
            "         3.0       0.98      1.00      0.99        59\n",
            "         4.0       0.97      0.96      0.97        78\n",
            "\n",
            "    accuracy                           0.97       372\n",
            "   macro avg       0.97      0.97      0.97       372\n",
            "weighted avg       0.97      0.97      0.96       372\n",
            "\n",
            "0.9650537634408602\n"
          ]
        }
      ],
      "source": [
        "from sklearn.metrics import confusion_matrix, classification_report, accuracy_score\n",
        "import pandas as pd\n",
        "\n",
        "y_true = predictions_w2v.select(\"label\")\n",
        "y_true = y_true.toPandas()\n",
        "\n",
        "y_pred = predictions_w2v.select(\"prediction\")\n",
        "y_pred = y_pred.toPandas()\n",
        "\n",
        "print(classification_report(y_true.label, y_pred.prediction))\n",
        "print(accuracy_score(y_true.label, y_pred.prediction))"
      ]
    },
    {
      "cell_type": "code",
      "execution_count": null,
      "metadata": {
        "colab": {
          "base_uri": "https://localhost:8080/"
        },
        "id": "CAdpvPzpQKKl",
        "outputId": "8c9ae7b0-2ce9-4351-9903-a0d379364d87"
      },
      "outputs": [
        {
          "output_type": "stream",
          "name": "stdout",
          "text": [
            "+--------------------------------------------------+--------------------------------------------------+\n",
            "|                                              Text|                                            result|\n",
            "+--------------------------------------------------+--------------------------------------------------+\n",
            "|worldcom ex-boss launches defence lawyers defen...|[worldcom, exboss, launches, defence, lawyers, ...|\n",
            "|german business confidence slides german busine...|[german, business, confidence, slides, german, ...|\n",
            "|bbc poll indicates economic gloom citizens in a...|[bbc, poll, indicates, economic, gloom, citizen...|\n",
            "|lifestyle  governs mobile choice  faster  bette...|[lifestyle, governs, mobile, choice, faster, be...|\n",
            "|enron bosses in $168m payout eighteen former en...|[enron, bosses, m, payout, eighteen, former, en...|\n",
            "|howard  truanted to play snooker  conservative ...|[howard, truanted, play, snooker, conservative,...|\n",
            "|wales silent on grand slam talk rhys williams s...|[wales, silent, grand, slam, talk, rhys, willia...|\n",
            "|french honour for director parker british film ...|[french, honour, director, parker, british, fil...|\n",
            "|car giant hit by mercedes slump a slump in prof...|[car, giant, hit, mercedes, slump, slump, profi...|\n",
            "|fockers fuel festive film chart comedy meet the...|[fockers, fuel, festive, film, chart, comedy, m...|\n",
            "|blair rejects iraq advice calls tony blair has ...|[blair, rejects, iraq, advice, calls, tony, bla...|\n",
            "|housewives lift channel 4 ratings the debut of ...|[housewives, lift, channel, ratings, debut, us,...|\n",
            "|uk coal plunges into deeper loss shares in uk c...|[uk, coal, plunges, deeper, loss, shares, uk, c...|\n",
            "|bp surges ahead on high oil price oil giant bp ...|[bp, surges, ahead, high, oil, price, oil, gian...|\n",
            "|ireland 21-19 argentina an injury-time dropped ...|[ireland, argentina, injurytime, dropped, goal,...|\n",
            "|wenger signs new deal arsenal manager arsene we...|[wenger, signs, new, deal, arsenal, manager, ar...|\n",
            "|u2 s desire to be number one u2  who have won t...|[u, desire, number, one, u, won, three, prestig...|\n",
            "|hantuchova in dubai last eight daniela hantucho...|[hantuchova, dubai, last, eight, daniela, hantu...|\n",
            "|melzer shocks agassi in san jose second seed an...|[melzer, shocks, agassi, san, jose, second, see...|\n",
            "|moving mobile improves golf swing a mobile phon...|[moving, mobile, improves, golf, swing, mobile,...|\n",
            "+--------------------------------------------------+--------------------------------------------------+\n",
            "only showing top 20 rows\n",
            "\n"
          ]
        }
      ],
      "source": [
        "processed_w2v.select('Text','cleanTokens.result').show(truncate=50)\n"
      ]
    },
    {
      "cell_type": "markdown",
      "source": [
        "## LogReg with Spark NLP Bert Embeddings\n"
      ],
      "metadata": {
        "id": "jfKgZxHwh0XY"
      }
    },
    {
      "cell_type": "code",
      "source": [
        "document_assembler = DocumentAssembler() \\\n",
        "      .setInputCol(\"Text\") \\\n",
        "      .setOutputCol(\"document\")\n",
        "    \n",
        "tokenizer = Tokenizer() \\\n",
        "      .setInputCols([\"document\"]) \\\n",
        "      .setOutputCol(\"token\")\n",
        "    \n",
        "normalizer = Normalizer() \\\n",
        "      .setInputCols([\"token\"]) \\\n",
        "      .setOutputCol(\"normalized\")\n",
        "\n",
        "stopwords_cleaner = StopWordsCleaner()\\\n",
        "      .setInputCols(\"normalized\")\\\n",
        "      .setOutputCol(\"cleanTokens\")\\\n",
        "      .setCaseSensitive(False)\n",
        "\n",
        "bert_embeddings = BertEmbeddings.pretrained('bert_base_cased', 'en') \\\n",
        "      .setInputCols([\"document\",'cleanTokens'])\\\n",
        "      .setOutputCol(\"bert\")\\\n",
        "      .setCaseSensitive(False)\\\n",
        "\n",
        "embeddingsSentence = SentenceEmbeddings() \\\n",
        "      .setInputCols([\"document\", \"bert\"]) \\\n",
        "      .setOutputCol(\"sentence_embeddings\") \\\n",
        "      .setPoolingStrategy(\"AVERAGE\")\n",
        "    \n",
        "embeddings_finisher = EmbeddingsFinisher() \\\n",
        "      .setInputCols([\"sentence_embeddings\"]) \\\n",
        "      .setOutputCols([\"finished_sentence_embeddings\"]) \\\n",
        "      .setOutputAsVector(True)\\\n",
        "      .setCleanAnnotations(False)\n",
        "\n",
        "label_stringIdx = StringIndexer(inputCol = \"Category\", outputCol = \"label\")\n",
        "\n",
        "nlp_pipeline_bert = Pipeline(\n",
        "    stages=[document_assembler, \n",
        "            tokenizer,\n",
        "            normalizer,\n",
        "            stopwords_cleaner, \n",
        "            bert_embeddings,\n",
        "            embeddingsSentence,\n",
        "            embeddings_finisher,\n",
        "            label_stringIdx])\n",
        "nlp_model_bert = nlp_pipeline_bert.fit(spark_df)\n",
        "processed_bert = nlp_model_bert.transform(spark_df)\n"
      ],
      "metadata": {
        "colab": {
          "base_uri": "https://localhost:8080/"
        },
        "id": "y-rPBwoChzqR",
        "outputId": "1fa211ed-ff5e-4acc-bbc7-1eb55a48aa1d"
      },
      "execution_count": null,
      "outputs": [
        {
          "output_type": "stream",
          "name": "stdout",
          "text": [
            "bert_base_cased download started this may take some time.\n",
            "Approximate size to download 389.1 MB\n",
            "[OK!]\n"
          ]
        }
      ]
    },
    {
      "cell_type": "code",
      "execution_count": null,
      "metadata": {
        "id": "lo19BzJ6QTpF",
        "colab": {
          "base_uri": "https://localhost:8080/"
        },
        "outputId": "3a7732eb-5828-490f-b13c-7902bce22904"
      },
      "outputs": [
        {
          "output_type": "stream",
          "name": "stdout",
          "text": [
            "+--------------------+--------------------+-----+\n",
            "|                Text|            features|label|\n",
            "+--------------------+--------------------+-----+\n",
            "|worldcom ex-boss ...|[0.17285257577896...|  1.0|\n",
            "|german business c...|[-0.1185487955808...|  1.0|\n",
            "|bbc poll indicate...|[-0.1185369566082...|  1.0|\n",
            "|lifestyle  govern...|[0.19791017472743...|  4.0|\n",
            "|enron bosses in $...|[9.24773456063121...|  1.0|\n",
            "|howard  truanted ...|[0.18108294904232...|  2.0|\n",
            "|wales silent on g...|[0.02165658958256...|  0.0|\n",
            "|french honour for...|[0.05820161849260...|  3.0|\n",
            "|car giant hit by ...|[0.18970946967601...|  1.0|\n",
            "|fockers fuel fest...|[0.02853241935372...|  3.0|\n",
            "|blair rejects ira...|[0.00927552208304...|  2.0|\n",
            "|housewives lift c...|[0.09813518077135...|  3.0|\n",
            "|uk coal plunges i...|[0.02478078566491...|  1.0|\n",
            "|bp surges ahead o...|[-0.0316127724945...|  1.0|\n",
            "|ireland 21-19 arg...|[0.11042474955320...|  0.0|\n",
            "|wenger signs new ...|[-0.0729556754231...|  0.0|\n",
            "|u2 s desire to be...|[0.00726967584341...|  3.0|\n",
            "|hantuchova in dub...|[0.01314486376941...|  0.0|\n",
            "|melzer shocks aga...|[0.19350753724575...|  0.0|\n",
            "|moving mobile imp...|[0.08530847728252...|  4.0|\n",
            "+--------------------+--------------------+-----+\n",
            "only showing top 20 rows\n",
            "\n"
          ]
        }
      ],
      "source": [
        "from pyspark.sql.functions import explode\n",
        "\n",
        "processed_bert = processed_bert.withColumn(\"features\", explode(processed_bert.finished_sentence_embeddings))\n",
        "\n",
        "processed_bert.select('Text','features','label').show()"
      ]
    },
    {
      "cell_type": "code",
      "source": [
        "# set seed for reproducibility\n",
        "(trainingData, testData) = processed_bert.randomSplit([0.75, 0.25], seed = 100)\n",
        "\n",
        "# print(\"Training Dataset Count: \" + str(trainingData.count()))\n",
        "# print(\"Test Dataset Count: \" + str(testData.count()))"
      ],
      "metadata": {
        "id": "76u0s0EXsOpU"
      },
      "execution_count": null,
      "outputs": []
    },
    {
      "cell_type": "code",
      "source": [
        "from pyspark.ml.classification import LogisticRegression\n",
        "\n",
        "lr = LogisticRegression(regParam=0.1, maxIter=100, elasticNetParam=0.0, family=\"multinomial\")\n",
        "\n",
        "lrModel = lr.fit(trainingData)"
      ],
      "metadata": {
        "id": "7_gHj7CEsOjA"
      },
      "execution_count": null,
      "outputs": []
    },
    {
      "cell_type": "code",
      "source": [
        "from pyspark.sql.functions import udf\n",
        "\n",
        "@udf(\"long\")\n",
        "def num_nonzeros(v):\n",
        "    return v.numNonzeros()\n",
        "\n",
        "testData = testData.where(num_nonzeros(\"features\") != 0)"
      ],
      "metadata": {
        "id": "lF4rn76ysOck"
      },
      "execution_count": null,
      "outputs": []
    },
    {
      "cell_type": "code",
      "source": [
        "predictions = lrModel.transform(testData)\n",
        "\n",
        "predictions.select(\"Text\",\"category\",\"probability\",\"label\",\"prediction\") \\\n",
        "    .orderBy(\"probability\", ascending=False) \\\n",
        "    .show(n = 10, truncate = 30)"
      ],
      "metadata": {
        "colab": {
          "base_uri": "https://localhost:8080/"
        },
        "id": "2bbg_mlssLko",
        "outputId": "f00e63a9-3396-4293-f725-4be89578dfd5"
      },
      "execution_count": null,
      "outputs": [
        {
          "output_type": "stream",
          "name": "stdout",
          "text": [
            "+------------------------------+--------+------------------------------+-----+----------+\n",
            "|                          Text|category|                   probability|label|prediction|\n",
            "+------------------------------+--------+------------------------------+-----+----------+\n",
            "|stevens named in england li...|   sport|[0.9992222137802227,4.02181...|  0.0|       0.0|\n",
            "|hodgson shoulders england b...|   sport|[0.9990033886768118,3.57715...|  0.0|       0.0|\n",
            "|benitez deflects blame from...|   sport|[0.9987627531098847,4.01127...|  0.0|       0.0|\n",
            "|barcelona title hopes hit b...|   sport|[0.998441711498892,7.708451...|  0.0|       0.0|\n",
            "|ferrero eyes return to top ...|   sport|[0.9981155879744107,5.75670...|  0.0|       0.0|\n",
            "|ferguson rues failure to cu...|   sport|[0.9981094680320829,4.40219...|  0.0|       0.0|\n",
            "|federer breezes into semi-f...|   sport|[0.9980688978023965,4.51704...|  0.0|       0.0|\n",
            "|liverpool pledge to keep ge...|   sport|[0.9980453847539553,2.87808...|  0.0|       0.0|\n",
            "|williams battles to aussie ...|   sport|[0.9979036424392147,5.53103...|  0.0|       0.0|\n",
            "|chelsea hold arsenal a grip...|   sport|[0.9977699560896186,4.55306...|  0.0|       0.0|\n",
            "+------------------------------+--------+------------------------------+-----+----------+\n",
            "only showing top 10 rows\n",
            "\n"
          ]
        }
      ]
    },
    {
      "cell_type": "code",
      "source": [
        "from sklearn.metrics import confusion_matrix, classification_report, accuracy_score\n",
        "import pandas as pd"
      ],
      "metadata": {
        "id": "0oj9U9f-2-2z"
      },
      "execution_count": null,
      "outputs": []
    },
    {
      "cell_type": "code",
      "source": [
        "df = predictions.select('Text','category','label','prediction').toPandas()\n"
      ],
      "metadata": {
        "id": "N0oamWmN29iO"
      },
      "execution_count": null,
      "outputs": []
    },
    {
      "cell_type": "code",
      "source": [
        "print(classification_report(df.label, df.prediction))\n",
        "print(accuracy_score(df.label, df.prediction))"
      ],
      "metadata": {
        "colab": {
          "base_uri": "https://localhost:8080/"
        },
        "id": "OA80mUvrsZvX",
        "outputId": "784ceb01-f74e-4a6a-8dbf-d812896b8ae3"
      },
      "execution_count": null,
      "outputs": [
        {
          "output_type": "stream",
          "name": "stdout",
          "text": [
            "              precision    recall  f1-score   support\n",
            "\n",
            "         0.0       0.99      0.98      0.98        97\n",
            "         1.0       0.90      0.93      0.91        84\n",
            "         2.0       0.92      0.90      0.91        62\n",
            "         3.0       0.93      0.95      0.94        60\n",
            "         4.0       0.96      0.93      0.94        69\n",
            "\n",
            "    accuracy                           0.94       372\n",
            "   macro avg       0.94      0.94      0.94       372\n",
            "weighted avg       0.94      0.94      0.94       372\n",
            "\n",
            "0.9408602150537635\n"
          ]
        }
      ]
    },
    {
      "cell_type": "markdown",
      "source": [
        "# ElmoEmbeddings + LogReg"
      ],
      "metadata": {
        "id": "vcDOPVDFL1Wo"
      }
    },
    {
      "cell_type": "code",
      "source": [
        "document_assembler = DocumentAssembler() \\\n",
        "      .setInputCol(\"Text\") \\\n",
        "      .setOutputCol(\"document\")\n",
        "    \n",
        "tokenizer = Tokenizer() \\\n",
        "      .setInputCols([\"document\"]) \\\n",
        "      .setOutputCol(\"token\")\n",
        "    \n",
        "normalizer = Normalizer() \\\n",
        "      .setInputCols([\"token\"]) \\\n",
        "      .setOutputCol(\"normalized\")\n",
        "\n",
        "stopwords_cleaner = StopWordsCleaner()\\\n",
        "      .setInputCols(\"normalized\")\\\n",
        "      .setOutputCol(\"cleanTokens\")\\\n",
        "      .setCaseSensitive(False)\n",
        "\n",
        "elmo_embeddings = ElmoEmbeddings.pretrained()\\\n",
        "      .setPoolingLayer(\"word_emb\")\\\n",
        "      .setInputCols([\"document\",'cleanTokens'])\\\n",
        "      .setOutputCol(\"elmo\")\n",
        "\n",
        "embeddingsSentence = SentenceEmbeddings() \\\n",
        "      .setInputCols([\"document\", \"elmo\"]) \\\n",
        "      .setOutputCol(\"sentence_embeddings\") \\\n",
        "      .setPoolingStrategy(\"AVERAGE\")\n",
        "    \n",
        "embeddings_finisher = EmbeddingsFinisher() \\\n",
        "      .setInputCols([\"sentence_embeddings\"]) \\\n",
        "      .setOutputCols([\"finished_sentence_embeddings\"]) \\\n",
        "      .setOutputAsVector(True)\\\n",
        "      .setCleanAnnotations(False)\n",
        "\n",
        "label_stringIdx = StringIndexer(inputCol = \"Category\", outputCol = \"label\")\n",
        "\n",
        "\n",
        "nlp_pipeline_elmo = Pipeline(\n",
        "    stages=[document_assembler, \n",
        "            tokenizer,\n",
        "            normalizer,\n",
        "            stopwords_cleaner, \n",
        "            elmo_embeddings,\n",
        "            embeddingsSentence,\n",
        "            embeddings_finisher,\n",
        "            label_stringIdx])\n",
        "\n",
        "nlp_model_elmo = nlp_pipeline_elmo.fit(spark_df)\n",
        "processed_elmo = nlp_model_elmo.transform(spark_df)\n",
        "processed_elmo.count()"
      ],
      "metadata": {
        "colab": {
          "base_uri": "https://localhost:8080/"
        },
        "id": "lhwh1UzajHbE",
        "outputId": "c3e315ea-60b8-4927-be8a-804e83344e1c"
      },
      "execution_count": null,
      "outputs": [
        {
          "output_type": "stream",
          "name": "stdout",
          "text": [
            "elmo download started this may take some time.\n",
            "Approximate size to download 334.1 MB\n",
            "[OK!]\n"
          ]
        },
        {
          "output_type": "execute_result",
          "data": {
            "text/plain": [
              "1490"
            ]
          },
          "metadata": {},
          "execution_count": 14
        }
      ]
    },
    {
      "cell_type": "code",
      "source": [
        "(trainingData, testData) = spark_df.randomSplit([0.7, 0.3], seed = 100)\n"
      ],
      "metadata": {
        "id": "LUIvsnK7oaYU"
      },
      "execution_count": 9,
      "outputs": []
    },
    {
      "cell_type": "code",
      "source": [
        "processed_trainingData = nlp_model_elmo.transform(trainingData)"
      ],
      "metadata": {
        "id": "f83eIcP_fAkq"
      },
      "execution_count": null,
      "outputs": []
    },
    {
      "cell_type": "code",
      "source": [
        "processed_trainingData.count()\n"
      ],
      "metadata": {
        "colab": {
          "base_uri": "https://localhost:8080/"
        },
        "id": "UN5iMfMuoafv",
        "outputId": "34d31333-bbde-42ed-e699-e1021b33f5fd"
      },
      "execution_count": null,
      "outputs": [
        {
          "output_type": "execute_result",
          "data": {
            "text/plain": [
              "1053"
            ]
          },
          "metadata": {},
          "execution_count": 18
        }
      ]
    },
    {
      "cell_type": "code",
      "source": [
        "processed_testData = nlp_model_elmo.transform(testData)\n",
        "\n",
        "processed_testData.count()"
      ],
      "metadata": {
        "colab": {
          "base_uri": "https://localhost:8080/"
        },
        "id": "ykeHCilnoak3",
        "outputId": "9316c0d1-e1fb-4d5d-a8c0-ff322b43b33b"
      },
      "execution_count": null,
      "outputs": [
        {
          "output_type": "execute_result",
          "data": {
            "text/plain": [
              "437"
            ]
          },
          "metadata": {},
          "execution_count": 19
        }
      ]
    },
    {
      "cell_type": "code",
      "source": [
        "processed_trainingData.columns\n"
      ],
      "metadata": {
        "colab": {
          "base_uri": "https://localhost:8080/"
        },
        "id": "fESH5jtzoapQ",
        "outputId": "2bfe1c58-3e6e-46be-87cc-eadcc7c07068"
      },
      "execution_count": null,
      "outputs": [
        {
          "output_type": "execute_result",
          "data": {
            "text/plain": [
              "['ArticleId',\n",
              " 'Text',\n",
              " 'Category',\n",
              " 'document',\n",
              " 'token',\n",
              " 'normalized',\n",
              " 'cleanTokens',\n",
              " 'elmo',\n",
              " 'sentence_embeddings',\n",
              " 'finished_sentence_embeddings',\n",
              " 'label']"
            ]
          },
          "metadata": {},
          "execution_count": 20
        }
      ]
    },
    {
      "cell_type": "code",
      "source": [
        "processed_trainingData.select('cleanTokens', 'document', 'elmo', 'sentence_embeddings').show(truncate = 50)\n"
      ],
      "metadata": {
        "colab": {
          "base_uri": "https://localhost:8080/"
        },
        "id": "nHnyj5Kzoatv",
        "outputId": "548263dc-59f6-47ee-e44a-d5dd3fe4cd9b"
      },
      "execution_count": null,
      "outputs": [
        {
          "output_type": "stream",
          "name": "stdout",
          "text": [
            "+--------------------------------------------------+--------------------------------------------------+--------------------------------------------------+--------------------------------------------------+\n",
            "|                                       cleanTokens|                                          document|                                              elmo|                               sentence_embeddings|\n",
            "+--------------------------------------------------+--------------------------------------------------+--------------------------------------------------+--------------------------------------------------+\n",
            "|[{token, 0, 7, worldcom, {sentence -> 0}, []}, ...|[{document, 0, 1841, worldcom boss  left books ...|[{word_embeddings, 0, 7, worldcom, {isOOV -> fa...|[{sentence_embeddings, 0, 1841, worldcom boss  ...|\n",
            "|[{token, 0, 5, berlin, {sentence -> 0}, []}, {t...|[{document, 0, 1818, berlin cheers for anti-naz...|[{word_embeddings, 0, 5, berlin, {isOOV -> fals...|[{sentence_embeddings, 0, 1818, berlin cheers f...|\n",
            "|[{token, 0, 3, moya, {sentence -> 0}, []}, {tok...|[{document, 0, 2410, moya emotional after davis...|[{word_embeddings, 0, 3, moya, {isOOV -> false,...|[{sentence_embeddings, 0, 2410, moya emotional ...|\n",
            "|[{token, 0, 6, connors, {sentence -> 0}, []}, {...|[{document, 0, 2375, connors boost for british ...|[{word_embeddings, 0, 6, connors, {isOOV -> fal...|[{sentence_embeddings, 0, 2375, connors boost f...|\n",
            "|[{token, 0, 7, japanese, {sentence -> 0}, []}, ...|[{document, 0, 1730, japanese banking battle at...|[{word_embeddings, 0, 7, japanese, {isOOV -> fa...|[{sentence_embeddings, 0, 1730, japanese bankin...|\n",
            "|[{token, 0, 5, mobile, {sentence -> 0}, []}, {t...|[{document, 0, 3774, mobile audio enters new di...|[{word_embeddings, 0, 5, mobile, {isOOV -> fals...|[{sentence_embeddings, 0, 3774, mobile audio en...|\n",
            "|[{token, 0, 3, moya, {sentence -> 0}, []}, {tok...|[{document, 0, 1218, moya fights back for india...|[{word_embeddings, 0, 3, moya, {isOOV -> false,...|[{sentence_embeddings, 0, 1218, moya fights bac...|\n",
            "|[{token, 0, 4, royal, {sentence -> 0}, []}, {to...|[{document, 0, 2844, royal couple watch nation ...|[{word_embeddings, 0, 4, royal, {isOOV -> false...|[{sentence_embeddings, 0, 2844, royal couple wa...|\n",
            "|[{token, 0, 6, firefox, {sentence -> 0}, []}, {...|[{document, 0, 3717, firefox browser takes on m...|[{word_embeddings, 0, 6, firefox, {isOOV -> fal...|[{sentence_embeddings, 0, 3717, firefox browser...|\n",
            "|[{token, 0, 5, debate, {sentence -> 0}, []}, {t...|[{document, 0, 2997, debate needed  on donation...|[{word_embeddings, 0, 5, debate, {isOOV -> fals...|[{sentence_embeddings, 0, 2997, debate needed  ...|\n",
            "|[{token, 0, 5, german, {sentence -> 0}, []}, {t...|[{document, 0, 1539, german growth goes into re...|[{word_embeddings, 0, 5, german, {isOOV -> fals...|[{sentence_embeddings, 0, 1539, german growth g...|\n",
            "|[{token, 0, 7, jamieson, {sentence -> 0}, []}, ...|[{document, 0, 2928, jamieson issues warning to...|[{word_embeddings, 0, 7, jamieson, {isOOV -> fa...|[{sentence_embeddings, 0, 2928, jamieson issues...|\n",
            "|[{token, 0, 6, england, {sentence -> 0}, []}, {...|[{document, 0, 1300, england children s tsar ap...|[{word_embeddings, 0, 6, england, {isOOV -> fal...|[{sentence_embeddings, 0, 1300, england childre...|\n",
            "|[{token, 0, 4, stock, {sentence -> 0}, []}, {to...|[{document, 0, 991, stock market eyes japan rec...|[{word_embeddings, 0, 4, stock, {isOOV -> false...|[{sentence_embeddings, 0, 991, stock market eye...|\n",
            "|[{token, 0, 4, court, {sentence -> 0}, []}, {to...|[{document, 0, 1445, court rejects $280bn tobac...|[{word_embeddings, 0, 4, court, {isOOV -> false...|[{sentence_embeddings, 0, 1445, court rejects $...|\n",
            "|[{token, 0, 4, india, {sentence -> 0}, []}, {to...|[{document, 0, 1031, india power shares jump on...|[{word_embeddings, 0, 4, india, {isOOV -> false...|[{sentence_embeddings, 0, 1031, india power sha...|\n",
            "|[{token, 0, 8, microsoft, {sentence -> 0}, []},...|[{document, 0, 1379, microsoft gets the bloggin...|[{word_embeddings, 0, 8, microsoft, {isOOV -> f...|[{sentence_embeddings, 0, 1379, microsoft gets ...|\n",
            "|[{token, 0, 3, tech, {sentence -> 0}, []}, {tok...|[{document, 0, 3585, tech helps disabled speed ...|[{word_embeddings, 0, 3, tech, {isOOV -> false,...|[{sentence_embeddings, 0, 3585, tech helps disa...|\n",
            "|[{token, 0, 0, o, {sentence -> 0}, []}, {token,...|[{document, 0, 1110, o driscoll out of scotland...|[{word_embeddings, 0, 0, o, {isOOV -> false, pi...|[{sentence_embeddings, 0, 1110, o driscoll out ...|\n",
            "|[{token, 0, 4, coach, {sentence -> 0}, []}, {to...|[{document, 0, 1042, coach ranieri sacked by va...|[{word_embeddings, 0, 4, coach, {isOOV -> false...|[{sentence_embeddings, 0, 1042, coach ranieri s...|\n",
            "+--------------------------------------------------+--------------------------------------------------+--------------------------------------------------+--------------------------------------------------+\n",
            "only showing top 20 rows\n",
            "\n"
          ]
        }
      ]
    },
    {
      "cell_type": "code",
      "source": [
        "from pyspark.sql.functions import explode\n",
        "\n",
        "processed_testData= processed_testData.withColumn(\"features\", explode(processed_testData.finished_sentence_embeddings))\n",
        "\n",
        "processed_trainingData= processed_trainingData.withColumn(\"features\", explode(processed_trainingData.finished_sentence_embeddings))"
      ],
      "metadata": {
        "id": "nkzYhcD-pCQ5"
      },
      "execution_count": null,
      "outputs": []
    },
    {
      "cell_type": "code",
      "source": [
        "from pyspark.sql.functions import udf\n",
        "\n",
        "@udf(\"long\")\n",
        "def num_nonzeros(v):\n",
        "    return v.numNonzeros()\n",
        "\n",
        "processed_testData = processed_testData.where(num_nonzeros(\"features\") != 0)"
      ],
      "metadata": {
        "id": "Q5ZeIbRfpmcd"
      },
      "execution_count": null,
      "outputs": []
    },
    {
      "cell_type": "code",
      "source": [
        "from pyspark.ml.classification import LogisticRegression\n",
        "\n",
        "lr = LogisticRegression(maxIter=20, regParam=0.3, elasticNetParam=0)\n",
        "\n",
        "lrModel = lr.fit(processed_trainingData)"
      ],
      "metadata": {
        "id": "Yh4p3n2bpmQZ"
      },
      "execution_count": null,
      "outputs": []
    },
    {
      "cell_type": "code",
      "source": [
        "predictions = lrModel.transform(processed_testData)\n",
        "\n",
        "predictions.select(\"Text\",\"category\",\"probability\",\"label\",\"prediction\") \\\n",
        "    .orderBy(\"probability\", ascending=False) \\\n",
        "    .show(10, truncate = 30)"
      ],
      "metadata": {
        "colab": {
          "base_uri": "https://localhost:8080/"
        },
        "id": "M7CV6QBKpl2d",
        "outputId": "3418c19e-fcab-47b3-f295-9d3068920b7e"
      },
      "execution_count": null,
      "outputs": [
        {
          "output_type": "stream",
          "name": "stdout",
          "text": [
            "+------------------------------+--------+------------------------------+-----+----------+\n",
            "|                          Text|category|                   probability|label|prediction|\n",
            "+------------------------------+--------+------------------------------+-----+----------+\n",
            "|benitez issues warning to g...|   sport|[0.9968600008576672,1.51449...|  0.0|       0.0|\n",
            "|hodgson shoulders england b...|   sport|[0.9947468416520254,0.00103...|  0.0|       0.0|\n",
            "|barcelona title hopes hit b...|   sport|[0.994580509495302,0.001386...|  0.0|       0.0|\n",
            "|england claim dubai sevens ...|   sport|[0.9939821734152283,0.00146...|  0.0|       0.0|\n",
            "|benitez deflects blame from...|   sport|[0.9939744658722092,0.00119...|  0.0|       0.0|\n",
            "|hearts of oak 3-2 cotonspor...|   sport|[0.9925993854893356,0.00111...|  0.0|       0.0|\n",
            "|robinson answers critics en...|   sport|[0.9917527157668187,0.00125...|  0.0|       0.0|\n",
            "|injury sidelines philippous...|   sport|[0.9916379483207169,9.90806...|  0.0|       0.0|\n",
            "|bridge could miss rest of s...|   sport|[0.9911932551813057,0.00115...|  0.0|       0.0|\n",
            "|chelsea hold arsenal a grip...|   sport|[0.9887878947164013,0.00301...|  0.0|       0.0|\n",
            "+------------------------------+--------+------------------------------+-----+----------+\n",
            "only showing top 10 rows\n",
            "\n"
          ]
        }
      ]
    },
    {
      "cell_type": "code",
      "source": [
        "from sklearn.metrics import classification_report, accuracy_score\n",
        "\n",
        "df = predictions.select('Text','category','label','prediction').toPandas()\n",
        "print(classification_report(df.label, df.prediction))\n",
        "print(accuracy_score(df.label, df.prediction))"
      ],
      "metadata": {
        "colab": {
          "base_uri": "https://localhost:8080/"
        },
        "id": "6-LNwBeupx-R",
        "outputId": "dc11e346-d12d-4135-e715-81809f5a1d8c"
      },
      "execution_count": null,
      "outputs": [
        {
          "output_type": "stream",
          "name": "stdout",
          "text": [
            "              precision    recall  f1-score   support\n",
            "\n",
            "         0.0       1.00      0.99      1.00       113\n",
            "         1.0       0.94      0.96      0.95        97\n",
            "         2.0       0.93      0.96      0.95        74\n",
            "         3.0       0.94      0.94      0.94        72\n",
            "         4.0       0.96      0.93      0.94        81\n",
            "\n",
            "    accuracy                           0.96       437\n",
            "   macro avg       0.96      0.96      0.96       437\n",
            "weighted avg       0.96      0.96      0.96       437\n",
            "\n",
            "0.9588100686498856\n"
          ]
        }
      ]
    },
    {
      "cell_type": "code",
      "source": [
        "df"
      ],
      "metadata": {
        "colab": {
          "base_uri": "https://localhost:8080/",
          "height": 424
        },
        "id": "Rq6Zq8bNpyDl",
        "outputId": "f531ed69-a405-4a04-907b-aa28132ba183"
      },
      "execution_count": null,
      "outputs": [
        {
          "output_type": "execute_result",
          "data": {
            "text/plain": [
              "                                                  Text       category  label  \\\n",
              "0    s korean credit card firm rescued south korea ...       business    1.0   \n",
              "1    gamers snap up new sony psp gamers have bought...           tech    4.0   \n",
              "2    row threatens hendrix museum plan proposals to...  entertainment    3.0   \n",
              "3    federer claims dubai crown world number one ro...          sport    0.0   \n",
              "4    telegraph newspapers axe 90 jobs the daily and...       business    1.0   \n",
              "..                                                 ...            ...    ...   \n",
              "367  jones files conte lawsuit marion jones has fil...          sport    0.0   \n",
              "368  lopez misses uk charity premiere jennifer lope...  entertainment    3.0   \n",
              "369  progress on new internet domains by early 2005...           tech    4.0   \n",
              "370  davies favours gloucester future wales hooker ...          sport    0.0   \n",
              "371  cars pull down us retail figures us retail sal...       business    1.0   \n",
              "\n",
              "     prediction  \n",
              "0           1.0  \n",
              "1           4.0  \n",
              "2           2.0  \n",
              "3           0.0  \n",
              "4           2.0  \n",
              "..          ...  \n",
              "367         0.0  \n",
              "368         3.0  \n",
              "369         4.0  \n",
              "370         0.0  \n",
              "371         1.0  \n",
              "\n",
              "[372 rows x 4 columns]"
            ],
            "text/html": [
              "\n",
              "  <div id=\"df-917850e6-c058-4965-9e62-0dfd1fb645fc\">\n",
              "    <div class=\"colab-df-container\">\n",
              "      <div>\n",
              "<style scoped>\n",
              "    .dataframe tbody tr th:only-of-type {\n",
              "        vertical-align: middle;\n",
              "    }\n",
              "\n",
              "    .dataframe tbody tr th {\n",
              "        vertical-align: top;\n",
              "    }\n",
              "\n",
              "    .dataframe thead th {\n",
              "        text-align: right;\n",
              "    }\n",
              "</style>\n",
              "<table border=\"1\" class=\"dataframe\">\n",
              "  <thead>\n",
              "    <tr style=\"text-align: right;\">\n",
              "      <th></th>\n",
              "      <th>Text</th>\n",
              "      <th>category</th>\n",
              "      <th>label</th>\n",
              "      <th>prediction</th>\n",
              "    </tr>\n",
              "  </thead>\n",
              "  <tbody>\n",
              "    <tr>\n",
              "      <th>0</th>\n",
              "      <td>s korean credit card firm rescued south korea ...</td>\n",
              "      <td>business</td>\n",
              "      <td>1.0</td>\n",
              "      <td>1.0</td>\n",
              "    </tr>\n",
              "    <tr>\n",
              "      <th>1</th>\n",
              "      <td>gamers snap up new sony psp gamers have bought...</td>\n",
              "      <td>tech</td>\n",
              "      <td>4.0</td>\n",
              "      <td>4.0</td>\n",
              "    </tr>\n",
              "    <tr>\n",
              "      <th>2</th>\n",
              "      <td>row threatens hendrix museum plan proposals to...</td>\n",
              "      <td>entertainment</td>\n",
              "      <td>3.0</td>\n",
              "      <td>2.0</td>\n",
              "    </tr>\n",
              "    <tr>\n",
              "      <th>3</th>\n",
              "      <td>federer claims dubai crown world number one ro...</td>\n",
              "      <td>sport</td>\n",
              "      <td>0.0</td>\n",
              "      <td>0.0</td>\n",
              "    </tr>\n",
              "    <tr>\n",
              "      <th>4</th>\n",
              "      <td>telegraph newspapers axe 90 jobs the daily and...</td>\n",
              "      <td>business</td>\n",
              "      <td>1.0</td>\n",
              "      <td>2.0</td>\n",
              "    </tr>\n",
              "    <tr>\n",
              "      <th>...</th>\n",
              "      <td>...</td>\n",
              "      <td>...</td>\n",
              "      <td>...</td>\n",
              "      <td>...</td>\n",
              "    </tr>\n",
              "    <tr>\n",
              "      <th>367</th>\n",
              "      <td>jones files conte lawsuit marion jones has fil...</td>\n",
              "      <td>sport</td>\n",
              "      <td>0.0</td>\n",
              "      <td>0.0</td>\n",
              "    </tr>\n",
              "    <tr>\n",
              "      <th>368</th>\n",
              "      <td>lopez misses uk charity premiere jennifer lope...</td>\n",
              "      <td>entertainment</td>\n",
              "      <td>3.0</td>\n",
              "      <td>3.0</td>\n",
              "    </tr>\n",
              "    <tr>\n",
              "      <th>369</th>\n",
              "      <td>progress on new internet domains by early 2005...</td>\n",
              "      <td>tech</td>\n",
              "      <td>4.0</td>\n",
              "      <td>4.0</td>\n",
              "    </tr>\n",
              "    <tr>\n",
              "      <th>370</th>\n",
              "      <td>davies favours gloucester future wales hooker ...</td>\n",
              "      <td>sport</td>\n",
              "      <td>0.0</td>\n",
              "      <td>0.0</td>\n",
              "    </tr>\n",
              "    <tr>\n",
              "      <th>371</th>\n",
              "      <td>cars pull down us retail figures us retail sal...</td>\n",
              "      <td>business</td>\n",
              "      <td>1.0</td>\n",
              "      <td>1.0</td>\n",
              "    </tr>\n",
              "  </tbody>\n",
              "</table>\n",
              "<p>372 rows × 4 columns</p>\n",
              "</div>\n",
              "      <button class=\"colab-df-convert\" onclick=\"convertToInteractive('df-917850e6-c058-4965-9e62-0dfd1fb645fc')\"\n",
              "              title=\"Convert this dataframe to an interactive table.\"\n",
              "              style=\"display:none;\">\n",
              "        \n",
              "  <svg xmlns=\"http://www.w3.org/2000/svg\" height=\"24px\"viewBox=\"0 0 24 24\"\n",
              "       width=\"24px\">\n",
              "    <path d=\"M0 0h24v24H0V0z\" fill=\"none\"/>\n",
              "    <path d=\"M18.56 5.44l.94 2.06.94-2.06 2.06-.94-2.06-.94-.94-2.06-.94 2.06-2.06.94zm-11 1L8.5 8.5l.94-2.06 2.06-.94-2.06-.94L8.5 2.5l-.94 2.06-2.06.94zm10 10l.94 2.06.94-2.06 2.06-.94-2.06-.94-.94-2.06-.94 2.06-2.06.94z\"/><path d=\"M17.41 7.96l-1.37-1.37c-.4-.4-.92-.59-1.43-.59-.52 0-1.04.2-1.43.59L10.3 9.45l-7.72 7.72c-.78.78-.78 2.05 0 2.83L4 21.41c.39.39.9.59 1.41.59.51 0 1.02-.2 1.41-.59l7.78-7.78 2.81-2.81c.8-.78.8-2.07 0-2.86zM5.41 20L4 18.59l7.72-7.72 1.47 1.35L5.41 20z\"/>\n",
              "  </svg>\n",
              "      </button>\n",
              "      \n",
              "  <style>\n",
              "    .colab-df-container {\n",
              "      display:flex;\n",
              "      flex-wrap:wrap;\n",
              "      gap: 12px;\n",
              "    }\n",
              "\n",
              "    .colab-df-convert {\n",
              "      background-color: #E8F0FE;\n",
              "      border: none;\n",
              "      border-radius: 50%;\n",
              "      cursor: pointer;\n",
              "      display: none;\n",
              "      fill: #1967D2;\n",
              "      height: 32px;\n",
              "      padding: 0 0 0 0;\n",
              "      width: 32px;\n",
              "    }\n",
              "\n",
              "    .colab-df-convert:hover {\n",
              "      background-color: #E2EBFA;\n",
              "      box-shadow: 0px 1px 2px rgba(60, 64, 67, 0.3), 0px 1px 3px 1px rgba(60, 64, 67, 0.15);\n",
              "      fill: #174EA6;\n",
              "    }\n",
              "\n",
              "    [theme=dark] .colab-df-convert {\n",
              "      background-color: #3B4455;\n",
              "      fill: #D2E3FC;\n",
              "    }\n",
              "\n",
              "    [theme=dark] .colab-df-convert:hover {\n",
              "      background-color: #434B5C;\n",
              "      box-shadow: 0px 1px 3px 1px rgba(0, 0, 0, 0.15);\n",
              "      filter: drop-shadow(0px 1px 2px rgba(0, 0, 0, 0.3));\n",
              "      fill: #FFFFFF;\n",
              "    }\n",
              "  </style>\n",
              "\n",
              "      <script>\n",
              "        const buttonEl =\n",
              "          document.querySelector('#df-917850e6-c058-4965-9e62-0dfd1fb645fc button.colab-df-convert');\n",
              "        buttonEl.style.display =\n",
              "          google.colab.kernel.accessAllowed ? 'block' : 'none';\n",
              "\n",
              "        async function convertToInteractive(key) {\n",
              "          const element = document.querySelector('#df-917850e6-c058-4965-9e62-0dfd1fb645fc');\n",
              "          const dataTable =\n",
              "            await google.colab.kernel.invokeFunction('convertToInteractive',\n",
              "                                                     [key], {});\n",
              "          if (!dataTable) return;\n",
              "\n",
              "          const docLinkHtml = 'Like what you see? Visit the ' +\n",
              "            '<a target=\"_blank\" href=https://colab.research.google.com/notebooks/data_table.ipynb>data table notebook</a>'\n",
              "            + ' to learn more about interactive tables.';\n",
              "          element.innerHTML = '';\n",
              "          dataTable['output_type'] = 'display_data';\n",
              "          await google.colab.output.renderOutput(dataTable, element);\n",
              "          const docLink = document.createElement('div');\n",
              "          docLink.innerHTML = docLinkHtml;\n",
              "          element.appendChild(docLink);\n",
              "        }\n",
              "      </script>\n",
              "    </div>\n",
              "  </div>\n",
              "  "
            ]
          },
          "metadata": {},
          "execution_count": 52
        }
      ]
    },
    {
      "cell_type": "code",
      "source": [],
      "metadata": {
        "id": "mGYvlKTmpyHo"
      },
      "execution_count": null,
      "outputs": []
    },
    {
      "cell_type": "markdown",
      "source": [
        "# ClassifierDL + Glove + Preprocess\n"
      ],
      "metadata": {
        "id": "0wE9O4MYApHL"
      }
    },
    {
      "cell_type": "code",
      "source": [
        "document = DocumentAssembler()\\\n",
        "    .setInputCol(\"Text\")\\\n",
        "    .setOutputCol(\"document\")\n",
        "\n",
        "tokenizer = Tokenizer() \\\n",
        "      .setInputCols([\"document\"]) \\\n",
        "      .setOutputCol(\"token\")\n",
        "\n",
        "lemma = LemmatizerModel.pretrained('lemma_antbnc') \\\n",
        "      .setInputCols([\"token\"]) \\\n",
        "      .setOutputCol(\"lemma\")\n",
        "      \n",
        "glove_embeddings = WordEmbeddingsModel().pretrained() \\\n",
        "      .setInputCols([\"document\",'lemma'])\\\n",
        "      .setOutputCol(\"embeddings\")\\\n",
        "      .setCaseSensitive(False)\n",
        "\n",
        "lemma_pipeline = Pipeline(\n",
        "    stages=[document, \n",
        "            tokenizer,\n",
        "            lemma,\n",
        "            glove_embeddings])"
      ],
      "metadata": {
        "colab": {
          "base_uri": "https://localhost:8080/"
        },
        "id": "EEQV2y1WANVW",
        "outputId": "a7f2d5a9-75ba-4a23-a127-ea55cc28fdb8"
      },
      "execution_count": null,
      "outputs": [
        {
          "output_type": "stream",
          "name": "stdout",
          "text": [
            "lemma_antbnc download started this may take some time.\n",
            "Approximate size to download 907.6 KB\n",
            "[OK!]\n",
            "glove_100d download started this may take some time.\n",
            "Approximate size to download 145.3 MB\n",
            "[OK!]\n"
          ]
        }
      ]
    },
    {
      "cell_type": "code",
      "source": [
        "(trainingData, testData) = spark_df.randomSplit([0.75, 0.25], seed = 100)\n",
        "\n",
        "lemma_pipeline.fit(trainingData).transform(trainingData).show(truncate=30)\n"
      ],
      "metadata": {
        "colab": {
          "base_uri": "https://localhost:8080/"
        },
        "id": "ZgffAxJqAtSO",
        "outputId": "4ac38c9d-5fa7-43f7-8a22-87cc7e42b1a0"
      },
      "execution_count": null,
      "outputs": [
        {
          "output_type": "stream",
          "name": "stdout",
          "text": [
            "+---------+------------------------------+-------------+------------------------------+------------------------------+------------------------------+------------------------------+\n",
            "|ArticleId|                          Text|     Category|                      document|                         token|                         lemma|                    embeddings|\n",
            "+---------+------------------------------+-------------+------------------------------+------------------------------+------------------------------+------------------------------+\n",
            "|        2|worldcom boss  left books a...|     business|[{document, 0, 1841, worldc...|[{token, 0, 7, worldcom, {s...|[{token, 0, 7, worldcom, {s...|[{word_embeddings, 0, 7, wo...|\n",
            "|       11|berlin cheers for anti-nazi...|entertainment|[{document, 0, 1818, berlin...|[{token, 0, 5, berlin, {sen...|[{token, 0, 5, berlin, {sen...|[{word_embeddings, 0, 5, be...|\n",
            "|       15|moya emotional after davis ...|        sport|[{document, 0, 2410, moya e...|[{token, 0, 3, moya, {sente...|[{token, 0, 3, moya, {sente...|[{word_embeddings, 0, 3, mo...|\n",
            "|       18|connors boost for british t...|        sport|[{document, 0, 2375, connor...|[{token, 0, 6, connors, {se...|[{token, 0, 6, connors, {se...|[{word_embeddings, 0, 6, co...|\n",
            "|       19|japanese banking battle at ...|     business|[{document, 0, 1730, japane...|[{token, 0, 7, japanese, {s...|[{token, 0, 7, japanese, {s...|[{word_embeddings, 0, 7, ja...|\n",
            "|       25|mobile audio enters new dim...|         tech|[{document, 0, 3774, mobile...|[{token, 0, 5, mobile, {sen...|[{token, 0, 5, mobile, {sen...|[{word_embeddings, 0, 5, mo...|\n",
            "|       26|moya fights back for indian...|        sport|[{document, 0, 1218, moya f...|[{token, 0, 3, moya, {sente...|[{token, 0, 3, moya, {sente...|[{word_embeddings, 0, 3, mo...|\n",
            "|       31|royal couple watch nation s...|     politics|[{document, 0, 2844, royal ...|[{token, 0, 4, royal, {sent...|[{token, 0, 4, royal, {sent...|[{word_embeddings, 0, 4, ro...|\n",
            "|       32|firefox browser takes on mi...|         tech|[{document, 0, 3717, firefo...|[{token, 0, 6, firefox, {se...|[{token, 0, 6, firefox, {se...|[{word_embeddings, 0, 6, fi...|\n",
            "|       39|debate needed  on donations...|     politics|[{document, 0, 2997, debate...|[{token, 0, 5, debate, {sen...|[{token, 0, 5, debate, {sen...|[{word_embeddings, 0, 5, de...|\n",
            "|       40|german growth goes into rev...|     business|[{document, 0, 1539, german...|[{token, 0, 5, german, {sen...|[{token, 0, 5, german, {sen...|[{word_embeddings, 0, 5, ge...|\n",
            "|       46|franz man seeks government ...|entertainment|[{document, 0, 7535, franz ...|[{token, 0, 4, franz, {sent...|[{token, 0, 4, franz, {sent...|[{word_embeddings, 0, 4, fr...|\n",
            "|       47|jamieson issues warning to ...|     politics|[{document, 0, 2928, jamies...|[{token, 0, 7, jamieson, {s...|[{token, 0, 7, jamieson, {s...|[{word_embeddings, 0, 7, ja...|\n",
            "|       49|england children s tsar app...|     politics|[{document, 0, 1300, englan...|[{token, 0, 6, england, {se...|[{token, 0, 6, england, {se...|[{word_embeddings, 0, 6, en...|\n",
            "|       50|stock market eyes japan rec...|     business|[{document, 0, 991, stock m...|[{token, 0, 4, stock, {sent...|[{token, 0, 4, stock, {sent...|[{word_embeddings, 0, 4, st...|\n",
            "|       53|standard life cuts policy b...|     business|[{document, 0, 1862, standa...|[{token, 0, 7, standard, {s...|[{token, 0, 7, standard, {s...|[{word_embeddings, 0, 7, st...|\n",
            "|       63|court rejects $280bn tobacc...|     business|[{document, 0, 1445, court ...|[{token, 0, 4, court, {sent...|[{token, 0, 4, court, {sent...|[{word_embeddings, 0, 4, co...|\n",
            "|       65|india power shares jump on ...|     business|[{document, 0, 1031, india ...|[{token, 0, 4, india, {sent...|[{token, 0, 4, india, {sent...|[{word_embeddings, 0, 4, in...|\n",
            "|       69|microsoft gets the blogging...|         tech|[{document, 0, 1379, micros...|[{token, 0, 8, microsoft, {...|[{token, 0, 8, microsoft, {...|[{word_embeddings, 0, 8, mi...|\n",
            "|       76|tech helps disabled speed d...|         tech|[{document, 0, 3585, tech h...|[{token, 0, 3, tech, {sente...|[{token, 0, 3, tech, {sente...|[{word_embeddings, 0, 3, te...|\n",
            "+---------+------------------------------+-------------+------------------------------+------------------------------+------------------------------+------------------------------+\n",
            "only showing top 20 rows\n",
            "\n"
          ]
        }
      ]
    },
    {
      "cell_type": "code",
      "source": [
        "document_assembler = DocumentAssembler() \\\n",
        "      .setInputCol(\"Text\") \\\n",
        "      .setOutputCol(\"document\")\n",
        "    \n",
        "tokenizer = Tokenizer() \\\n",
        "      .setInputCols([\"document\"]) \\\n",
        "      .setOutputCol(\"token\")\n",
        "    \n",
        "normalizer = Normalizer() \\\n",
        "      .setInputCols([\"token\"]) \\\n",
        "      .setOutputCol(\"normalized\")\n",
        "\n",
        "stopwords_cleaner = StopWordsCleaner()\\\n",
        "      .setInputCols(\"normalized\")\\\n",
        "      .setOutputCol(\"cleanTokens\")\\\n",
        "      .setCaseSensitive(False)\n",
        "\n",
        "lemma = LemmatizerModel.pretrained('lemma_antbnc') \\\n",
        "      .setInputCols([\"cleanTokens\"]) \\\n",
        "      .setOutputCol(\"lemma\")\n",
        "\n",
        "glove_embeddings = WordEmbeddingsModel().pretrained() \\\n",
        "      .setInputCols([\"document\",'lemma'])\\\n",
        "      .setOutputCol(\"embeddings\")\\\n",
        "      .setCaseSensitive(False)\n",
        "\n",
        "embeddingsSentence = SentenceEmbeddings() \\\n",
        "      .setInputCols([\"document\", \"embeddings\"]) \\\n",
        "      .setOutputCol(\"sentence_embeddings\") \\\n",
        "      .setPoolingStrategy(\"AVERAGE\")\n",
        "\n",
        "classsifierdl = ClassifierDLApproach()\\\n",
        "      .setInputCols([\"sentence_embeddings\"])\\\n",
        "      .setOutputCol(\"class\")\\\n",
        "      .setLabelColumn(\"Category\")\\\n",
        "      .setMaxEpochs(10)\\\n",
        "      .setEnableOutputLogs(True)\n",
        "\n",
        "clf_pipeline = Pipeline(\n",
        "    stages=[document_assembler, \n",
        "            tokenizer,\n",
        "            normalizer,\n",
        "            stopwords_cleaner, \n",
        "            lemma, \n",
        "            glove_embeddings,\n",
        "            embeddingsSentence,\n",
        "            classsifierdl])"
      ],
      "metadata": {
        "colab": {
          "base_uri": "https://localhost:8080/"
        },
        "id": "ceaOTZuuAzOu",
        "outputId": "f16b63b6-3b0c-47df-a709-0135e344e951"
      },
      "execution_count": null,
      "outputs": [
        {
          "output_type": "stream",
          "name": "stdout",
          "text": [
            "lemma_antbnc download started this may take some time.\n",
            "Approximate size to download 907.6 KB\n",
            "[OK!]\n",
            "glove_100d download started this may take some time.\n",
            "Approximate size to download 145.3 MB\n",
            "[OK!]\n"
          ]
        }
      ]
    },
    {
      "cell_type": "code",
      "source": [
        "!rm -rf classifier_dl_pipeline_glove\n"
      ],
      "metadata": {
        "id": "ifFgOZ3cBZgk"
      },
      "execution_count": null,
      "outputs": []
    },
    {
      "cell_type": "code",
      "source": [
        "#clf_pipeline.save('/content/drive/MyDrive/John Snow Lbs/classifier_dl_pipeline_glove')"
      ],
      "metadata": {
        "id": "2y40wxyUBqA3"
      },
      "execution_count": null,
      "outputs": []
    },
    {
      "cell_type": "code",
      "source": [
        "clf_pipelineModel = clf_pipeline.fit(trainingData)"
      ],
      "metadata": {
        "id": "4cAz2fqoBhil"
      },
      "execution_count": null,
      "outputs": []
    },
    {
      "cell_type": "code",
      "source": [
        "df = clf_pipelineModel.transform(testData).select('Category','Text',\"class.result\").toPandas()\n",
        "df.head()"
      ],
      "metadata": {
        "colab": {
          "base_uri": "https://localhost:8080/",
          "height": 206
        },
        "id": "pN7J6ad2Bz0J",
        "outputId": "1e53efc5-fa9b-4b5f-a80a-d815dc8c99f0"
      },
      "execution_count": null,
      "outputs": [
        {
          "output_type": "execute_result",
          "data": {
            "text/plain": [
              "        Category                                               Text  \\\n",
              "0       business  s korean credit card firm rescued south korea ...   \n",
              "1           tech  gamers snap up new sony psp gamers have bought...   \n",
              "2  entertainment  row threatens hendrix museum plan proposals to...   \n",
              "3          sport  federer claims dubai crown world number one ro...   \n",
              "4       business  telegraph newspapers axe 90 jobs the daily and...   \n",
              "\n",
              "       result  \n",
              "0  [business]  \n",
              "1      [tech]  \n",
              "2  [politics]  \n",
              "3     [sport]  \n",
              "4      [tech]  "
            ],
            "text/html": [
              "\n",
              "  <div id=\"df-2719323a-a27c-4127-a674-bcc8999356f2\">\n",
              "    <div class=\"colab-df-container\">\n",
              "      <div>\n",
              "<style scoped>\n",
              "    .dataframe tbody tr th:only-of-type {\n",
              "        vertical-align: middle;\n",
              "    }\n",
              "\n",
              "    .dataframe tbody tr th {\n",
              "        vertical-align: top;\n",
              "    }\n",
              "\n",
              "    .dataframe thead th {\n",
              "        text-align: right;\n",
              "    }\n",
              "</style>\n",
              "<table border=\"1\" class=\"dataframe\">\n",
              "  <thead>\n",
              "    <tr style=\"text-align: right;\">\n",
              "      <th></th>\n",
              "      <th>Category</th>\n",
              "      <th>Text</th>\n",
              "      <th>result</th>\n",
              "    </tr>\n",
              "  </thead>\n",
              "  <tbody>\n",
              "    <tr>\n",
              "      <th>0</th>\n",
              "      <td>business</td>\n",
              "      <td>s korean credit card firm rescued south korea ...</td>\n",
              "      <td>[business]</td>\n",
              "    </tr>\n",
              "    <tr>\n",
              "      <th>1</th>\n",
              "      <td>tech</td>\n",
              "      <td>gamers snap up new sony psp gamers have bought...</td>\n",
              "      <td>[tech]</td>\n",
              "    </tr>\n",
              "    <tr>\n",
              "      <th>2</th>\n",
              "      <td>entertainment</td>\n",
              "      <td>row threatens hendrix museum plan proposals to...</td>\n",
              "      <td>[politics]</td>\n",
              "    </tr>\n",
              "    <tr>\n",
              "      <th>3</th>\n",
              "      <td>sport</td>\n",
              "      <td>federer claims dubai crown world number one ro...</td>\n",
              "      <td>[sport]</td>\n",
              "    </tr>\n",
              "    <tr>\n",
              "      <th>4</th>\n",
              "      <td>business</td>\n",
              "      <td>telegraph newspapers axe 90 jobs the daily and...</td>\n",
              "      <td>[tech]</td>\n",
              "    </tr>\n",
              "  </tbody>\n",
              "</table>\n",
              "</div>\n",
              "      <button class=\"colab-df-convert\" onclick=\"convertToInteractive('df-2719323a-a27c-4127-a674-bcc8999356f2')\"\n",
              "              title=\"Convert this dataframe to an interactive table.\"\n",
              "              style=\"display:none;\">\n",
              "        \n",
              "  <svg xmlns=\"http://www.w3.org/2000/svg\" height=\"24px\"viewBox=\"0 0 24 24\"\n",
              "       width=\"24px\">\n",
              "    <path d=\"M0 0h24v24H0V0z\" fill=\"none\"/>\n",
              "    <path d=\"M18.56 5.44l.94 2.06.94-2.06 2.06-.94-2.06-.94-.94-2.06-.94 2.06-2.06.94zm-11 1L8.5 8.5l.94-2.06 2.06-.94-2.06-.94L8.5 2.5l-.94 2.06-2.06.94zm10 10l.94 2.06.94-2.06 2.06-.94-2.06-.94-.94-2.06-.94 2.06-2.06.94z\"/><path d=\"M17.41 7.96l-1.37-1.37c-.4-.4-.92-.59-1.43-.59-.52 0-1.04.2-1.43.59L10.3 9.45l-7.72 7.72c-.78.78-.78 2.05 0 2.83L4 21.41c.39.39.9.59 1.41.59.51 0 1.02-.2 1.41-.59l7.78-7.78 2.81-2.81c.8-.78.8-2.07 0-2.86zM5.41 20L4 18.59l7.72-7.72 1.47 1.35L5.41 20z\"/>\n",
              "  </svg>\n",
              "      </button>\n",
              "      \n",
              "  <style>\n",
              "    .colab-df-container {\n",
              "      display:flex;\n",
              "      flex-wrap:wrap;\n",
              "      gap: 12px;\n",
              "    }\n",
              "\n",
              "    .colab-df-convert {\n",
              "      background-color: #E8F0FE;\n",
              "      border: none;\n",
              "      border-radius: 50%;\n",
              "      cursor: pointer;\n",
              "      display: none;\n",
              "      fill: #1967D2;\n",
              "      height: 32px;\n",
              "      padding: 0 0 0 0;\n",
              "      width: 32px;\n",
              "    }\n",
              "\n",
              "    .colab-df-convert:hover {\n",
              "      background-color: #E2EBFA;\n",
              "      box-shadow: 0px 1px 2px rgba(60, 64, 67, 0.3), 0px 1px 3px 1px rgba(60, 64, 67, 0.15);\n",
              "      fill: #174EA6;\n",
              "    }\n",
              "\n",
              "    [theme=dark] .colab-df-convert {\n",
              "      background-color: #3B4455;\n",
              "      fill: #D2E3FC;\n",
              "    }\n",
              "\n",
              "    [theme=dark] .colab-df-convert:hover {\n",
              "      background-color: #434B5C;\n",
              "      box-shadow: 0px 1px 3px 1px rgba(0, 0, 0, 0.15);\n",
              "      filter: drop-shadow(0px 1px 2px rgba(0, 0, 0, 0.3));\n",
              "      fill: #FFFFFF;\n",
              "    }\n",
              "  </style>\n",
              "\n",
              "      <script>\n",
              "        const buttonEl =\n",
              "          document.querySelector('#df-2719323a-a27c-4127-a674-bcc8999356f2 button.colab-df-convert');\n",
              "        buttonEl.style.display =\n",
              "          google.colab.kernel.accessAllowed ? 'block' : 'none';\n",
              "\n",
              "        async function convertToInteractive(key) {\n",
              "          const element = document.querySelector('#df-2719323a-a27c-4127-a674-bcc8999356f2');\n",
              "          const dataTable =\n",
              "            await google.colab.kernel.invokeFunction('convertToInteractive',\n",
              "                                                     [key], {});\n",
              "          if (!dataTable) return;\n",
              "\n",
              "          const docLinkHtml = 'Like what you see? Visit the ' +\n",
              "            '<a target=\"_blank\" href=https://colab.research.google.com/notebooks/data_table.ipynb>data table notebook</a>'\n",
              "            + ' to learn more about interactive tables.';\n",
              "          element.innerHTML = '';\n",
              "          dataTable['output_type'] = 'display_data';\n",
              "          await google.colab.output.renderOutput(dataTable, element);\n",
              "          const docLink = document.createElement('div');\n",
              "          docLink.innerHTML = docLinkHtml;\n",
              "          element.appendChild(docLink);\n",
              "        }\n",
              "      </script>\n",
              "    </div>\n",
              "  </div>\n",
              "  "
            ]
          },
          "metadata": {},
          "execution_count": 57
        }
      ]
    },
    {
      "cell_type": "code",
      "source": [
        "df"
      ],
      "metadata": {
        "colab": {
          "base_uri": "https://localhost:8080/",
          "height": 424
        },
        "id": "O87jt7kWCXVI",
        "outputId": "2d38c703-a896-47e5-a60d-cd3b3cd0b45b"
      },
      "execution_count": null,
      "outputs": [
        {
          "output_type": "execute_result",
          "data": {
            "text/plain": [
              "          Category                                               Text  \\\n",
              "0         business  s korean credit card firm rescued south korea ...   \n",
              "1             tech  gamers snap up new sony psp gamers have bought...   \n",
              "2    entertainment  row threatens hendrix museum plan proposals to...   \n",
              "3            sport  federer claims dubai crown world number one ro...   \n",
              "4         business  telegraph newspapers axe 90 jobs the daily and...   \n",
              "..             ...                                                ...   \n",
              "367          sport  jones files conte lawsuit marion jones has fil...   \n",
              "368  entertainment  lopez misses uk charity premiere jennifer lope...   \n",
              "369           tech  progress on new internet domains by early 2005...   \n",
              "370          sport  davies favours gloucester future wales hooker ...   \n",
              "371       business  cars pull down us retail figures us retail sal...   \n",
              "\n",
              "              result  \n",
              "0         [business]  \n",
              "1             [tech]  \n",
              "2         [politics]  \n",
              "3            [sport]  \n",
              "4             [tech]  \n",
              "..               ...  \n",
              "367       [politics]  \n",
              "368  [entertainment]  \n",
              "369           [tech]  \n",
              "370          [sport]  \n",
              "371       [business]  \n",
              "\n",
              "[372 rows x 3 columns]"
            ],
            "text/html": [
              "\n",
              "  <div id=\"df-07405aa0-7c2e-4beb-922f-8d85b84220ea\">\n",
              "    <div class=\"colab-df-container\">\n",
              "      <div>\n",
              "<style scoped>\n",
              "    .dataframe tbody tr th:only-of-type {\n",
              "        vertical-align: middle;\n",
              "    }\n",
              "\n",
              "    .dataframe tbody tr th {\n",
              "        vertical-align: top;\n",
              "    }\n",
              "\n",
              "    .dataframe thead th {\n",
              "        text-align: right;\n",
              "    }\n",
              "</style>\n",
              "<table border=\"1\" class=\"dataframe\">\n",
              "  <thead>\n",
              "    <tr style=\"text-align: right;\">\n",
              "      <th></th>\n",
              "      <th>Category</th>\n",
              "      <th>Text</th>\n",
              "      <th>result</th>\n",
              "    </tr>\n",
              "  </thead>\n",
              "  <tbody>\n",
              "    <tr>\n",
              "      <th>0</th>\n",
              "      <td>business</td>\n",
              "      <td>s korean credit card firm rescued south korea ...</td>\n",
              "      <td>[business]</td>\n",
              "    </tr>\n",
              "    <tr>\n",
              "      <th>1</th>\n",
              "      <td>tech</td>\n",
              "      <td>gamers snap up new sony psp gamers have bought...</td>\n",
              "      <td>[tech]</td>\n",
              "    </tr>\n",
              "    <tr>\n",
              "      <th>2</th>\n",
              "      <td>entertainment</td>\n",
              "      <td>row threatens hendrix museum plan proposals to...</td>\n",
              "      <td>[politics]</td>\n",
              "    </tr>\n",
              "    <tr>\n",
              "      <th>3</th>\n",
              "      <td>sport</td>\n",
              "      <td>federer claims dubai crown world number one ro...</td>\n",
              "      <td>[sport]</td>\n",
              "    </tr>\n",
              "    <tr>\n",
              "      <th>4</th>\n",
              "      <td>business</td>\n",
              "      <td>telegraph newspapers axe 90 jobs the daily and...</td>\n",
              "      <td>[tech]</td>\n",
              "    </tr>\n",
              "    <tr>\n",
              "      <th>...</th>\n",
              "      <td>...</td>\n",
              "      <td>...</td>\n",
              "      <td>...</td>\n",
              "    </tr>\n",
              "    <tr>\n",
              "      <th>367</th>\n",
              "      <td>sport</td>\n",
              "      <td>jones files conte lawsuit marion jones has fil...</td>\n",
              "      <td>[politics]</td>\n",
              "    </tr>\n",
              "    <tr>\n",
              "      <th>368</th>\n",
              "      <td>entertainment</td>\n",
              "      <td>lopez misses uk charity premiere jennifer lope...</td>\n",
              "      <td>[entertainment]</td>\n",
              "    </tr>\n",
              "    <tr>\n",
              "      <th>369</th>\n",
              "      <td>tech</td>\n",
              "      <td>progress on new internet domains by early 2005...</td>\n",
              "      <td>[tech]</td>\n",
              "    </tr>\n",
              "    <tr>\n",
              "      <th>370</th>\n",
              "      <td>sport</td>\n",
              "      <td>davies favours gloucester future wales hooker ...</td>\n",
              "      <td>[sport]</td>\n",
              "    </tr>\n",
              "    <tr>\n",
              "      <th>371</th>\n",
              "      <td>business</td>\n",
              "      <td>cars pull down us retail figures us retail sal...</td>\n",
              "      <td>[business]</td>\n",
              "    </tr>\n",
              "  </tbody>\n",
              "</table>\n",
              "<p>372 rows × 3 columns</p>\n",
              "</div>\n",
              "      <button class=\"colab-df-convert\" onclick=\"convertToInteractive('df-07405aa0-7c2e-4beb-922f-8d85b84220ea')\"\n",
              "              title=\"Convert this dataframe to an interactive table.\"\n",
              "              style=\"display:none;\">\n",
              "        \n",
              "  <svg xmlns=\"http://www.w3.org/2000/svg\" height=\"24px\"viewBox=\"0 0 24 24\"\n",
              "       width=\"24px\">\n",
              "    <path d=\"M0 0h24v24H0V0z\" fill=\"none\"/>\n",
              "    <path d=\"M18.56 5.44l.94 2.06.94-2.06 2.06-.94-2.06-.94-.94-2.06-.94 2.06-2.06.94zm-11 1L8.5 8.5l.94-2.06 2.06-.94-2.06-.94L8.5 2.5l-.94 2.06-2.06.94zm10 10l.94 2.06.94-2.06 2.06-.94-2.06-.94-.94-2.06-.94 2.06-2.06.94z\"/><path d=\"M17.41 7.96l-1.37-1.37c-.4-.4-.92-.59-1.43-.59-.52 0-1.04.2-1.43.59L10.3 9.45l-7.72 7.72c-.78.78-.78 2.05 0 2.83L4 21.41c.39.39.9.59 1.41.59.51 0 1.02-.2 1.41-.59l7.78-7.78 2.81-2.81c.8-.78.8-2.07 0-2.86zM5.41 20L4 18.59l7.72-7.72 1.47 1.35L5.41 20z\"/>\n",
              "  </svg>\n",
              "      </button>\n",
              "      \n",
              "  <style>\n",
              "    .colab-df-container {\n",
              "      display:flex;\n",
              "      flex-wrap:wrap;\n",
              "      gap: 12px;\n",
              "    }\n",
              "\n",
              "    .colab-df-convert {\n",
              "      background-color: #E8F0FE;\n",
              "      border: none;\n",
              "      border-radius: 50%;\n",
              "      cursor: pointer;\n",
              "      display: none;\n",
              "      fill: #1967D2;\n",
              "      height: 32px;\n",
              "      padding: 0 0 0 0;\n",
              "      width: 32px;\n",
              "    }\n",
              "\n",
              "    .colab-df-convert:hover {\n",
              "      background-color: #E2EBFA;\n",
              "      box-shadow: 0px 1px 2px rgba(60, 64, 67, 0.3), 0px 1px 3px 1px rgba(60, 64, 67, 0.15);\n",
              "      fill: #174EA6;\n",
              "    }\n",
              "\n",
              "    [theme=dark] .colab-df-convert {\n",
              "      background-color: #3B4455;\n",
              "      fill: #D2E3FC;\n",
              "    }\n",
              "\n",
              "    [theme=dark] .colab-df-convert:hover {\n",
              "      background-color: #434B5C;\n",
              "      box-shadow: 0px 1px 3px 1px rgba(0, 0, 0, 0.15);\n",
              "      filter: drop-shadow(0px 1px 2px rgba(0, 0, 0, 0.3));\n",
              "      fill: #FFFFFF;\n",
              "    }\n",
              "  </style>\n",
              "\n",
              "      <script>\n",
              "        const buttonEl =\n",
              "          document.querySelector('#df-07405aa0-7c2e-4beb-922f-8d85b84220ea button.colab-df-convert');\n",
              "        buttonEl.style.display =\n",
              "          google.colab.kernel.accessAllowed ? 'block' : 'none';\n",
              "\n",
              "        async function convertToInteractive(key) {\n",
              "          const element = document.querySelector('#df-07405aa0-7c2e-4beb-922f-8d85b84220ea');\n",
              "          const dataTable =\n",
              "            await google.colab.kernel.invokeFunction('convertToInteractive',\n",
              "                                                     [key], {});\n",
              "          if (!dataTable) return;\n",
              "\n",
              "          const docLinkHtml = 'Like what you see? Visit the ' +\n",
              "            '<a target=\"_blank\" href=https://colab.research.google.com/notebooks/data_table.ipynb>data table notebook</a>'\n",
              "            + ' to learn more about interactive tables.';\n",
              "          element.innerHTML = '';\n",
              "          dataTable['output_type'] = 'display_data';\n",
              "          await google.colab.output.renderOutput(dataTable, element);\n",
              "          const docLink = document.createElement('div');\n",
              "          docLink.innerHTML = docLinkHtml;\n",
              "          element.appendChild(docLink);\n",
              "        }\n",
              "      </script>\n",
              "    </div>\n",
              "  </div>\n",
              "  "
            ]
          },
          "metadata": {},
          "execution_count": 58
        }
      ]
    },
    {
      "cell_type": "code",
      "source": [
        "df['result'] = df['result'].apply(lambda x: x[0])"
      ],
      "metadata": {
        "id": "8PkxVlGICjXg"
      },
      "execution_count": null,
      "outputs": []
    },
    {
      "cell_type": "code",
      "source": [
        "df"
      ],
      "metadata": {
        "colab": {
          "base_uri": "https://localhost:8080/",
          "height": 424
        },
        "id": "kA10sf7YCkeB",
        "outputId": "fb4f8892-769d-469b-c9b3-ed8253e5e801"
      },
      "execution_count": null,
      "outputs": [
        {
          "output_type": "execute_result",
          "data": {
            "text/plain": [
              "          Category                                               Text  \\\n",
              "0         business  s korean credit card firm rescued south korea ...   \n",
              "1             tech  gamers snap up new sony psp gamers have bought...   \n",
              "2    entertainment  row threatens hendrix museum plan proposals to...   \n",
              "3            sport  federer claims dubai crown world number one ro...   \n",
              "4         business  telegraph newspapers axe 90 jobs the daily and...   \n",
              "..             ...                                                ...   \n",
              "367          sport  jones files conte lawsuit marion jones has fil...   \n",
              "368  entertainment  lopez misses uk charity premiere jennifer lope...   \n",
              "369           tech  progress on new internet domains by early 2005...   \n",
              "370          sport  davies favours gloucester future wales hooker ...   \n",
              "371       business  cars pull down us retail figures us retail sal...   \n",
              "\n",
              "            result  \n",
              "0         business  \n",
              "1             tech  \n",
              "2         politics  \n",
              "3            sport  \n",
              "4             tech  \n",
              "..             ...  \n",
              "367       politics  \n",
              "368  entertainment  \n",
              "369           tech  \n",
              "370          sport  \n",
              "371       business  \n",
              "\n",
              "[372 rows x 3 columns]"
            ],
            "text/html": [
              "\n",
              "  <div id=\"df-83fb60fd-131a-4a62-a67b-1828a5219c1a\">\n",
              "    <div class=\"colab-df-container\">\n",
              "      <div>\n",
              "<style scoped>\n",
              "    .dataframe tbody tr th:only-of-type {\n",
              "        vertical-align: middle;\n",
              "    }\n",
              "\n",
              "    .dataframe tbody tr th {\n",
              "        vertical-align: top;\n",
              "    }\n",
              "\n",
              "    .dataframe thead th {\n",
              "        text-align: right;\n",
              "    }\n",
              "</style>\n",
              "<table border=\"1\" class=\"dataframe\">\n",
              "  <thead>\n",
              "    <tr style=\"text-align: right;\">\n",
              "      <th></th>\n",
              "      <th>Category</th>\n",
              "      <th>Text</th>\n",
              "      <th>result</th>\n",
              "    </tr>\n",
              "  </thead>\n",
              "  <tbody>\n",
              "    <tr>\n",
              "      <th>0</th>\n",
              "      <td>business</td>\n",
              "      <td>s korean credit card firm rescued south korea ...</td>\n",
              "      <td>business</td>\n",
              "    </tr>\n",
              "    <tr>\n",
              "      <th>1</th>\n",
              "      <td>tech</td>\n",
              "      <td>gamers snap up new sony psp gamers have bought...</td>\n",
              "      <td>tech</td>\n",
              "    </tr>\n",
              "    <tr>\n",
              "      <th>2</th>\n",
              "      <td>entertainment</td>\n",
              "      <td>row threatens hendrix museum plan proposals to...</td>\n",
              "      <td>politics</td>\n",
              "    </tr>\n",
              "    <tr>\n",
              "      <th>3</th>\n",
              "      <td>sport</td>\n",
              "      <td>federer claims dubai crown world number one ro...</td>\n",
              "      <td>sport</td>\n",
              "    </tr>\n",
              "    <tr>\n",
              "      <th>4</th>\n",
              "      <td>business</td>\n",
              "      <td>telegraph newspapers axe 90 jobs the daily and...</td>\n",
              "      <td>tech</td>\n",
              "    </tr>\n",
              "    <tr>\n",
              "      <th>...</th>\n",
              "      <td>...</td>\n",
              "      <td>...</td>\n",
              "      <td>...</td>\n",
              "    </tr>\n",
              "    <tr>\n",
              "      <th>367</th>\n",
              "      <td>sport</td>\n",
              "      <td>jones files conte lawsuit marion jones has fil...</td>\n",
              "      <td>politics</td>\n",
              "    </tr>\n",
              "    <tr>\n",
              "      <th>368</th>\n",
              "      <td>entertainment</td>\n",
              "      <td>lopez misses uk charity premiere jennifer lope...</td>\n",
              "      <td>entertainment</td>\n",
              "    </tr>\n",
              "    <tr>\n",
              "      <th>369</th>\n",
              "      <td>tech</td>\n",
              "      <td>progress on new internet domains by early 2005...</td>\n",
              "      <td>tech</td>\n",
              "    </tr>\n",
              "    <tr>\n",
              "      <th>370</th>\n",
              "      <td>sport</td>\n",
              "      <td>davies favours gloucester future wales hooker ...</td>\n",
              "      <td>sport</td>\n",
              "    </tr>\n",
              "    <tr>\n",
              "      <th>371</th>\n",
              "      <td>business</td>\n",
              "      <td>cars pull down us retail figures us retail sal...</td>\n",
              "      <td>business</td>\n",
              "    </tr>\n",
              "  </tbody>\n",
              "</table>\n",
              "<p>372 rows × 3 columns</p>\n",
              "</div>\n",
              "      <button class=\"colab-df-convert\" onclick=\"convertToInteractive('df-83fb60fd-131a-4a62-a67b-1828a5219c1a')\"\n",
              "              title=\"Convert this dataframe to an interactive table.\"\n",
              "              style=\"display:none;\">\n",
              "        \n",
              "  <svg xmlns=\"http://www.w3.org/2000/svg\" height=\"24px\"viewBox=\"0 0 24 24\"\n",
              "       width=\"24px\">\n",
              "    <path d=\"M0 0h24v24H0V0z\" fill=\"none\"/>\n",
              "    <path d=\"M18.56 5.44l.94 2.06.94-2.06 2.06-.94-2.06-.94-.94-2.06-.94 2.06-2.06.94zm-11 1L8.5 8.5l.94-2.06 2.06-.94-2.06-.94L8.5 2.5l-.94 2.06-2.06.94zm10 10l.94 2.06.94-2.06 2.06-.94-2.06-.94-.94-2.06-.94 2.06-2.06.94z\"/><path d=\"M17.41 7.96l-1.37-1.37c-.4-.4-.92-.59-1.43-.59-.52 0-1.04.2-1.43.59L10.3 9.45l-7.72 7.72c-.78.78-.78 2.05 0 2.83L4 21.41c.39.39.9.59 1.41.59.51 0 1.02-.2 1.41-.59l7.78-7.78 2.81-2.81c.8-.78.8-2.07 0-2.86zM5.41 20L4 18.59l7.72-7.72 1.47 1.35L5.41 20z\"/>\n",
              "  </svg>\n",
              "      </button>\n",
              "      \n",
              "  <style>\n",
              "    .colab-df-container {\n",
              "      display:flex;\n",
              "      flex-wrap:wrap;\n",
              "      gap: 12px;\n",
              "    }\n",
              "\n",
              "    .colab-df-convert {\n",
              "      background-color: #E8F0FE;\n",
              "      border: none;\n",
              "      border-radius: 50%;\n",
              "      cursor: pointer;\n",
              "      display: none;\n",
              "      fill: #1967D2;\n",
              "      height: 32px;\n",
              "      padding: 0 0 0 0;\n",
              "      width: 32px;\n",
              "    }\n",
              "\n",
              "    .colab-df-convert:hover {\n",
              "      background-color: #E2EBFA;\n",
              "      box-shadow: 0px 1px 2px rgba(60, 64, 67, 0.3), 0px 1px 3px 1px rgba(60, 64, 67, 0.15);\n",
              "      fill: #174EA6;\n",
              "    }\n",
              "\n",
              "    [theme=dark] .colab-df-convert {\n",
              "      background-color: #3B4455;\n",
              "      fill: #D2E3FC;\n",
              "    }\n",
              "\n",
              "    [theme=dark] .colab-df-convert:hover {\n",
              "      background-color: #434B5C;\n",
              "      box-shadow: 0px 1px 3px 1px rgba(0, 0, 0, 0.15);\n",
              "      filter: drop-shadow(0px 1px 2px rgba(0, 0, 0, 0.3));\n",
              "      fill: #FFFFFF;\n",
              "    }\n",
              "  </style>\n",
              "\n",
              "      <script>\n",
              "        const buttonEl =\n",
              "          document.querySelector('#df-83fb60fd-131a-4a62-a67b-1828a5219c1a button.colab-df-convert');\n",
              "        buttonEl.style.display =\n",
              "          google.colab.kernel.accessAllowed ? 'block' : 'none';\n",
              "\n",
              "        async function convertToInteractive(key) {\n",
              "          const element = document.querySelector('#df-83fb60fd-131a-4a62-a67b-1828a5219c1a');\n",
              "          const dataTable =\n",
              "            await google.colab.kernel.invokeFunction('convertToInteractive',\n",
              "                                                     [key], {});\n",
              "          if (!dataTable) return;\n",
              "\n",
              "          const docLinkHtml = 'Like what you see? Visit the ' +\n",
              "            '<a target=\"_blank\" href=https://colab.research.google.com/notebooks/data_table.ipynb>data table notebook</a>'\n",
              "            + ' to learn more about interactive tables.';\n",
              "          element.innerHTML = '';\n",
              "          dataTable['output_type'] = 'display_data';\n",
              "          await google.colab.output.renderOutput(dataTable, element);\n",
              "          const docLink = document.createElement('div');\n",
              "          docLink.innerHTML = docLinkHtml;\n",
              "          element.appendChild(docLink);\n",
              "        }\n",
              "      </script>\n",
              "    </div>\n",
              "  </div>\n",
              "  "
            ]
          },
          "metadata": {},
          "execution_count": 60
        }
      ]
    },
    {
      "cell_type": "code",
      "source": [
        "from sklearn.metrics import classification_report, accuracy_score\n",
        "\n",
        "print(classification_report(df.Category, df.result))\n",
        "print(accuracy_score(df.Category, df.result))"
      ],
      "metadata": {
        "colab": {
          "base_uri": "https://localhost:8080/"
        },
        "id": "fgMPoRjsB0PC",
        "outputId": "2cbcd33e-4d16-4e28-e623-fa3e1ce56308"
      },
      "execution_count": null,
      "outputs": [
        {
          "output_type": "stream",
          "name": "stdout",
          "text": [
            "               precision    recall  f1-score   support\n",
            "\n",
            "     business       0.94      0.93      0.93        84\n",
            "entertainment       0.93      0.92      0.92        60\n",
            "     politics       0.85      0.90      0.88        62\n",
            "        sport       1.00      0.97      0.98        97\n",
            "         tech       0.91      0.93      0.92        69\n",
            "\n",
            "     accuracy                           0.93       372\n",
            "    macro avg       0.93      0.93      0.93       372\n",
            " weighted avg       0.93      0.93      0.93       372\n",
            "\n",
            "0.9327956989247311\n"
          ]
        }
      ]
    },
    {
      "cell_type": "markdown",
      "source": [
        "# sent_bert_use_cmlm_en_base Model\n"
      ],
      "metadata": {
        "id": "RViUkuetDJOZ"
      }
    },
    {
      "cell_type": "code",
      "source": [
        "document = DocumentAssembler()\\\n",
        "    .setInputCol(\"Text\")\\\n",
        "    .setOutputCol(\"document\")\n",
        "\n",
        "bert_cmlm = BertSentenceEmbeddings.pretrained('sent_bert_use_cmlm_en_base', 'en')\\\n",
        "    .setInputCols([\"document\"])\\\n",
        "    .setOutputCol(\"sentence_embeddings\")\n",
        "\n",
        "classsifierdl = ClassifierDLApproach()\\\n",
        "    .setInputCols([\"sentence_embeddings\"])\\\n",
        "    .setOutputCol(\"class\")\\\n",
        "    .setLabelColumn(\"Category\")\\\n",
        "    .setMaxEpochs(10)\\\n",
        "    .setEnableOutputLogs(True)\\\n",
        "    .setLr(0.001)\n",
        "\n",
        "bert_cmlm_clf_pipeline = Pipeline(stages = [document,\n",
        "                                            bert_cmlm,\n",
        "                                            classsifierdl])"
      ],
      "metadata": {
        "colab": {
          "base_uri": "https://localhost:8080/"
        },
        "id": "MCufbxJjB0XG",
        "outputId": "545a3d19-a243-4e39-c387-8fd26ecef3b5"
      },
      "execution_count": 15,
      "outputs": [
        {
          "output_type": "stream",
          "name": "stdout",
          "text": [
            "sent_bert_use_cmlm_en_base download started this may take some time.\n",
            "Approximate size to download 391.6 MB\n",
            "[OK!]\n"
          ]
        }
      ]
    },
    {
      "cell_type": "code",
      "source": [
        "! rm -r /root/annotator_logs\n"
      ],
      "metadata": {
        "colab": {
          "base_uri": "https://localhost:8080/"
        },
        "id": "ugJMbAuhC9c8",
        "outputId": "b403f58b-5bab-436f-feb6-832b10db7410"
      },
      "execution_count": null,
      "outputs": [
        {
          "output_type": "stream",
          "name": "stdout",
          "text": [
            "rm: cannot remove '/root/annotator_logs': No such file or directory\n"
          ]
        }
      ]
    },
    {
      "cell_type": "code",
      "source": [
        "(trainingData, testDataset) = spark_df.randomSplit([0.75, 0.25], seed = 100)"
      ],
      "metadata": {
        "id": "HPxZ5PmPgPmM"
      },
      "execution_count": 18,
      "outputs": []
    },
    {
      "cell_type": "code",
      "source": [
        "bert_cmlm_pipelineModel = bert_cmlm_clf_pipeline.fit(trainingData)"
      ],
      "metadata": {
        "id": "2aWLyGGlDAue"
      },
      "execution_count": 20,
      "outputs": []
    },
    {
      "cell_type": "code",
      "source": [
        "from sklearn.metrics import classification_report\n",
        "\n",
        "preds = bert_cmlm_pipelineModel.transform(testDataset)"
      ],
      "metadata": {
        "id": "Jkf00_ygDBn9"
      },
      "execution_count": null,
      "outputs": []
    },
    {
      "cell_type": "code",
      "source": [
        "preds_df = preds.select('Category','Text',\"class.result\").toPandas()\n",
        "\n",
        "preds_df['result'] = preds_df['result'].apply(lambda x : x[0])\n"
      ],
      "metadata": {
        "id": "-cCElK-KDBs3"
      },
      "execution_count": null,
      "outputs": []
    },
    {
      "cell_type": "code",
      "source": [
        "print (classification_report(preds_df['Category'], preds_df['result']))\n"
      ],
      "metadata": {
        "colab": {
          "base_uri": "https://localhost:8080/"
        },
        "id": "9j2ZEMxsDBzd",
        "outputId": "eeba0bb6-9007-4014-b508-44c031a790eb"
      },
      "execution_count": null,
      "outputs": [
        {
          "output_type": "stream",
          "name": "stdout",
          "text": [
            "               precision    recall  f1-score   support\n",
            "\n",
            "     business       0.95      0.98      0.96        84\n",
            "entertainment       1.00      0.97      0.98        60\n",
            "     politics       0.97      0.97      0.97        62\n",
            "        sport       1.00      0.98      0.99        97\n",
            "         tech       0.96      0.99      0.97        69\n",
            "\n",
            "     accuracy                           0.98       372\n",
            "    macro avg       0.98      0.98      0.98       372\n",
            " weighted avg       0.98      0.98      0.98       372\n",
            "\n"
          ]
        }
      ]
    },
    {
      "cell_type": "markdown",
      "source": [
        "# NLP TEST"
      ],
      "metadata": {
        "id": "QPpJfS5UXUer"
      }
    },
    {
      "cell_type": "code",
      "source": [
        "!pip install nlptest\n"
      ],
      "metadata": {
        "id": "LoUf0wiNDB2Z"
      },
      "execution_count": null,
      "outputs": []
    },
    {
      "cell_type": "code",
      "source": [
        "!pip install johnsnowlabs\n"
      ],
      "metadata": {
        "colab": {
          "base_uri": "https://localhost:8080/",
          "height": 468
        },
        "id": "Fjshe0JKXWLa",
        "outputId": "10d61d85-2a69-40b1-c1e0-8c2a36ce58ea"
      },
      "execution_count": 11,
      "outputs": [
        {
          "output_type": "stream",
          "name": "stdout",
          "text": [
            "  Building wheel for pyspark (setup.py) ... \u001b[?25l\u001b[?25hdone\n",
            "  Created wheel for pyspark: filename=pyspark-3.1.2-py2.py3-none-any.whl size=212880770 sha256=ac98da2b09f25b52150898f47f59bc862af572b418338e0ee01af9f325bdd9d7\n",
            "  Stored in directory: /root/.cache/pip/wheels/ef/70/50/7882e1bcb5693225f7cc86698f10953201b48b3f36317c2d18\n",
            "  Building wheel for databricks-cli (setup.py) ... \u001b[?25l\u001b[?25hdone\n",
            "  Created wheel for databricks-cli: filename=databricks_cli-0.17.6-py3-none-any.whl size=143237 sha256=60f22efa80c03719f291a1309f2d2e64dc734de3992eee0c6ff75f2e4f14bc45\n",
            "  Stored in directory: /root/.cache/pip/wheels/7b/85/a1/37b9b24f55c1da8ea4795765de41713b8a2cccad89c866e26b\n",
            "Successfully built pyspark databricks-cli\n",
            "Installing collected packages: spark-nlp, py4j, dataclasses, svgwrite, pyspark, pyjwt, jedi, colorama, databricks-cli, spark-nlp-display, nlu, databricks-api, johnsnowlabs\n",
            "  Attempting uninstall: spark-nlp\n",
            "    Found existing installation: spark-nlp 4.3.2\n",
            "    Uninstalling spark-nlp-4.3.2:\n",
            "      Successfully uninstalled spark-nlp-4.3.2\n",
            "  Attempting uninstall: py4j\n",
            "    Found existing installation: py4j 0.10.9.5\n",
            "    Uninstalling py4j-0.10.9.5:\n",
            "      Successfully uninstalled py4j-0.10.9.5\n",
            "  Attempting uninstall: pyspark\n",
            "    Found existing installation: pyspark 3.3.0\n",
            "    Uninstalling pyspark-3.3.0:\n",
            "      Successfully uninstalled pyspark-3.3.0\n",
            "Successfully installed colorama-0.4.6 databricks-api-0.8.0 databricks-cli-0.17.6 dataclasses-0.6 jedi-0.18.2 johnsnowlabs-4.4.4 nlu-4.2.0 py4j-0.10.9 pyjwt-2.6.0 pyspark-3.1.2 spark-nlp-4.4.1 spark-nlp-display-4.1 svgwrite-1.4\n"
          ]
        },
        {
          "output_type": "display_data",
          "data": {
            "application/vnd.colab-display-data+json": {
              "pip_warning": {
                "packages": [
                  "com",
                  "dataclasses",
                  "py4j",
                  "pyspark",
                  "sparknlp"
                ]
              }
            }
          },
          "metadata": {}
        }
      ]
    },
    {
      "cell_type": "code",
      "source": [
        "trainDataset = trainDataset.toPandas()"
      ],
      "metadata": {
        "id": "3DRcRp6EY4cX"
      },
      "execution_count": null,
      "outputs": []
    },
    {
      "cell_type": "code",
      "source": [
        "trainDataset = trainDataset.rename({'Category':'label'}, axis = 1)"
      ],
      "metadata": {
        "id": "hrd5vlB7YsYM"
      },
      "execution_count": null,
      "outputs": []
    },
    {
      "cell_type": "code",
      "source": [
        "trainDataset"
      ],
      "metadata": {
        "colab": {
          "base_uri": "https://localhost:8080/",
          "height": 424
        },
        "id": "dmR26MbtXiF9",
        "outputId": "456704cc-ac29-4a6e-ce9f-ec9ded6d241f"
      },
      "execution_count": null,
      "outputs": [
        {
          "output_type": "execute_result",
          "data": {
            "text/plain": [
              "      ArticleId                                               Text  \\\n",
              "0             2  worldcom boss  left books alone  former worldc...   \n",
              "1            11  berlin cheers for anti-nazi film a german movi...   \n",
              "2            15  moya emotional after davis cup win carlos moya...   \n",
              "3            18  connors boost for british tennis former world ...   \n",
              "4            19  japanese banking battle at an end japan s sumi...   \n",
              "...         ...                                                ...   \n",
              "1113       2201  uk pioneers digital film network the world s f...   \n",
              "1114       2206  dance music not dead says fatboy dj norman coo...   \n",
              "1115       2207  kennedy questions trust of blair lib dem leade...   \n",
              "1116       2208  california sets fines for spyware the makers o...   \n",
              "1117       2209  snicket tops us box office chart the film adap...   \n",
              "\n",
              "              label  \n",
              "0          business  \n",
              "1     entertainment  \n",
              "2             sport  \n",
              "3             sport  \n",
              "4          business  \n",
              "...             ...  \n",
              "1113           tech  \n",
              "1114  entertainment  \n",
              "1115       politics  \n",
              "1116           tech  \n",
              "1117  entertainment  \n",
              "\n",
              "[1118 rows x 3 columns]"
            ],
            "text/html": [
              "\n",
              "  <div id=\"df-973d609b-a399-4884-8790-9c4bab010aa8\">\n",
              "    <div class=\"colab-df-container\">\n",
              "      <div>\n",
              "<style scoped>\n",
              "    .dataframe tbody tr th:only-of-type {\n",
              "        vertical-align: middle;\n",
              "    }\n",
              "\n",
              "    .dataframe tbody tr th {\n",
              "        vertical-align: top;\n",
              "    }\n",
              "\n",
              "    .dataframe thead th {\n",
              "        text-align: right;\n",
              "    }\n",
              "</style>\n",
              "<table border=\"1\" class=\"dataframe\">\n",
              "  <thead>\n",
              "    <tr style=\"text-align: right;\">\n",
              "      <th></th>\n",
              "      <th>ArticleId</th>\n",
              "      <th>Text</th>\n",
              "      <th>label</th>\n",
              "    </tr>\n",
              "  </thead>\n",
              "  <tbody>\n",
              "    <tr>\n",
              "      <th>0</th>\n",
              "      <td>2</td>\n",
              "      <td>worldcom boss  left books alone  former worldc...</td>\n",
              "      <td>business</td>\n",
              "    </tr>\n",
              "    <tr>\n",
              "      <th>1</th>\n",
              "      <td>11</td>\n",
              "      <td>berlin cheers for anti-nazi film a german movi...</td>\n",
              "      <td>entertainment</td>\n",
              "    </tr>\n",
              "    <tr>\n",
              "      <th>2</th>\n",
              "      <td>15</td>\n",
              "      <td>moya emotional after davis cup win carlos moya...</td>\n",
              "      <td>sport</td>\n",
              "    </tr>\n",
              "    <tr>\n",
              "      <th>3</th>\n",
              "      <td>18</td>\n",
              "      <td>connors boost for british tennis former world ...</td>\n",
              "      <td>sport</td>\n",
              "    </tr>\n",
              "    <tr>\n",
              "      <th>4</th>\n",
              "      <td>19</td>\n",
              "      <td>japanese banking battle at an end japan s sumi...</td>\n",
              "      <td>business</td>\n",
              "    </tr>\n",
              "    <tr>\n",
              "      <th>...</th>\n",
              "      <td>...</td>\n",
              "      <td>...</td>\n",
              "      <td>...</td>\n",
              "    </tr>\n",
              "    <tr>\n",
              "      <th>1113</th>\n",
              "      <td>2201</td>\n",
              "      <td>uk pioneers digital film network the world s f...</td>\n",
              "      <td>tech</td>\n",
              "    </tr>\n",
              "    <tr>\n",
              "      <th>1114</th>\n",
              "      <td>2206</td>\n",
              "      <td>dance music not dead says fatboy dj norman coo...</td>\n",
              "      <td>entertainment</td>\n",
              "    </tr>\n",
              "    <tr>\n",
              "      <th>1115</th>\n",
              "      <td>2207</td>\n",
              "      <td>kennedy questions trust of blair lib dem leade...</td>\n",
              "      <td>politics</td>\n",
              "    </tr>\n",
              "    <tr>\n",
              "      <th>1116</th>\n",
              "      <td>2208</td>\n",
              "      <td>california sets fines for spyware the makers o...</td>\n",
              "      <td>tech</td>\n",
              "    </tr>\n",
              "    <tr>\n",
              "      <th>1117</th>\n",
              "      <td>2209</td>\n",
              "      <td>snicket tops us box office chart the film adap...</td>\n",
              "      <td>entertainment</td>\n",
              "    </tr>\n",
              "  </tbody>\n",
              "</table>\n",
              "<p>1118 rows × 3 columns</p>\n",
              "</div>\n",
              "      <button class=\"colab-df-convert\" onclick=\"convertToInteractive('df-973d609b-a399-4884-8790-9c4bab010aa8')\"\n",
              "              title=\"Convert this dataframe to an interactive table.\"\n",
              "              style=\"display:none;\">\n",
              "        \n",
              "  <svg xmlns=\"http://www.w3.org/2000/svg\" height=\"24px\"viewBox=\"0 0 24 24\"\n",
              "       width=\"24px\">\n",
              "    <path d=\"M0 0h24v24H0V0z\" fill=\"none\"/>\n",
              "    <path d=\"M18.56 5.44l.94 2.06.94-2.06 2.06-.94-2.06-.94-.94-2.06-.94 2.06-2.06.94zm-11 1L8.5 8.5l.94-2.06 2.06-.94-2.06-.94L8.5 2.5l-.94 2.06-2.06.94zm10 10l.94 2.06.94-2.06 2.06-.94-2.06-.94-.94-2.06-.94 2.06-2.06.94z\"/><path d=\"M17.41 7.96l-1.37-1.37c-.4-.4-.92-.59-1.43-.59-.52 0-1.04.2-1.43.59L10.3 9.45l-7.72 7.72c-.78.78-.78 2.05 0 2.83L4 21.41c.39.39.9.59 1.41.59.51 0 1.02-.2 1.41-.59l7.78-7.78 2.81-2.81c.8-.78.8-2.07 0-2.86zM5.41 20L4 18.59l7.72-7.72 1.47 1.35L5.41 20z\"/>\n",
              "  </svg>\n",
              "      </button>\n",
              "      \n",
              "  <style>\n",
              "    .colab-df-container {\n",
              "      display:flex;\n",
              "      flex-wrap:wrap;\n",
              "      gap: 12px;\n",
              "    }\n",
              "\n",
              "    .colab-df-convert {\n",
              "      background-color: #E8F0FE;\n",
              "      border: none;\n",
              "      border-radius: 50%;\n",
              "      cursor: pointer;\n",
              "      display: none;\n",
              "      fill: #1967D2;\n",
              "      height: 32px;\n",
              "      padding: 0 0 0 0;\n",
              "      width: 32px;\n",
              "    }\n",
              "\n",
              "    .colab-df-convert:hover {\n",
              "      background-color: #E2EBFA;\n",
              "      box-shadow: 0px 1px 2px rgba(60, 64, 67, 0.3), 0px 1px 3px 1px rgba(60, 64, 67, 0.15);\n",
              "      fill: #174EA6;\n",
              "    }\n",
              "\n",
              "    [theme=dark] .colab-df-convert {\n",
              "      background-color: #3B4455;\n",
              "      fill: #D2E3FC;\n",
              "    }\n",
              "\n",
              "    [theme=dark] .colab-df-convert:hover {\n",
              "      background-color: #434B5C;\n",
              "      box-shadow: 0px 1px 3px 1px rgba(0, 0, 0, 0.15);\n",
              "      filter: drop-shadow(0px 1px 2px rgba(0, 0, 0, 0.3));\n",
              "      fill: #FFFFFF;\n",
              "    }\n",
              "  </style>\n",
              "\n",
              "      <script>\n",
              "        const buttonEl =\n",
              "          document.querySelector('#df-973d609b-a399-4884-8790-9c4bab010aa8 button.colab-df-convert');\n",
              "        buttonEl.style.display =\n",
              "          google.colab.kernel.accessAllowed ? 'block' : 'none';\n",
              "\n",
              "        async function convertToInteractive(key) {\n",
              "          const element = document.querySelector('#df-973d609b-a399-4884-8790-9c4bab010aa8');\n",
              "          const dataTable =\n",
              "            await google.colab.kernel.invokeFunction('convertToInteractive',\n",
              "                                                     [key], {});\n",
              "          if (!dataTable) return;\n",
              "\n",
              "          const docLinkHtml = 'Like what you see? Visit the ' +\n",
              "            '<a target=\"_blank\" href=https://colab.research.google.com/notebooks/data_table.ipynb>data table notebook</a>'\n",
              "            + ' to learn more about interactive tables.';\n",
              "          element.innerHTML = '';\n",
              "          dataTable['output_type'] = 'display_data';\n",
              "          await google.colab.output.renderOutput(dataTable, element);\n",
              "          const docLink = document.createElement('div');\n",
              "          docLink.innerHTML = docLinkHtml;\n",
              "          element.appendChild(docLink);\n",
              "        }\n",
              "      </script>\n",
              "    </div>\n",
              "  </div>\n",
              "  "
            ]
          },
          "metadata": {},
          "execution_count": 92
        }
      ]
    },
    {
      "cell_type": "code",
      "source": [
        "trainDataset.to_csv('/content/drive/MyDrive/John Snow Lbs/train.csv')"
      ],
      "metadata": {
        "id": "yFXcGAzQXxY7"
      },
      "execution_count": null,
      "outputs": []
    },
    {
      "cell_type": "code",
      "source": [
        "traindata = '/content/drive/MyDrive/John Snow Lbs/train.csv'"
      ],
      "metadata": {
        "id": "cDldTmvJYQmj"
      },
      "execution_count": 12,
      "outputs": []
    },
    {
      "cell_type": "code",
      "source": [
        "from nlptest import Harness\n",
        "harness = Harness(task=\"text-classification\", model=bert_cmlm_pipelineModel, data=traindata)\n"
      ],
      "metadata": {
        "id": "JIuvwv1dXamk"
      },
      "execution_count": 21,
      "outputs": []
    },
    {
      "cell_type": "code",
      "source": [
        "harness.configure(\n",
        "{'defaults': {'min_pass_rate': 0.65},\n",
        " 'tests': {'robustness': {'lowercase': {'min_pass_rate': 0.60}, \n",
        "                          'uppercase':{'min_pass_rate': 0.60},\n",
        "                          'add_typo':{'min_pass_rate': 0.90}},\n",
        "                          # 'add_contraction':{'min_pass_rate': 0.60},\n",
        "                          # 'add_punctuation':{'min_pass_rate': 0.60},\n",
        "                          # 'titlecase':{'min_pass_rate': 0.60}\n",
        "          }\n",
        " }\n",
        " )"
      ],
      "metadata": {
        "colab": {
          "base_uri": "https://localhost:8080/"
        },
        "id": "JLVYmOCrYneg",
        "outputId": "8172d25d-dfd5-4320-b8f2-36a3d3849e90"
      },
      "execution_count": 22,
      "outputs": [
        {
          "output_type": "execute_result",
          "data": {
            "text/plain": [
              "{'defaults': {'min_pass_rate': 0.65},\n",
              " 'tests': {'robustness': {'lowercase': {'min_pass_rate': 0.6},\n",
              "   'uppercase': {'min_pass_rate': 0.6},\n",
              "   'add_typo': {'min_pass_rate': 0.9}}}}"
            ]
          },
          "metadata": {},
          "execution_count": 22
        }
      ]
    },
    {
      "cell_type": "code",
      "source": [
        "harness.generate()"
      ],
      "metadata": {
        "colab": {
          "base_uri": "https://localhost:8080/"
        },
        "id": "OU8L6EMvZUX_",
        "outputId": "7f9ddfc2-21c0-4ad6-913d-85ef39475cc9"
      },
      "execution_count": 24,
      "outputs": [
        {
          "output_type": "stream",
          "name": "stderr",
          "text": [
            "Generating testcases... (robustness): 100%|██████████| 1/1 [00:00<00:00,  5.92it/s]\n"
          ]
        },
        {
          "output_type": "execute_result",
          "data": {
            "text/plain": []
          },
          "metadata": {},
          "execution_count": 24
        }
      ]
    },
    {
      "cell_type": "code",
      "source": [
        "harness.testcases()"
      ],
      "metadata": {
        "colab": {
          "base_uri": "https://localhost:8080/",
          "height": 424
        },
        "id": "fKIi_5xhZNFu",
        "outputId": "3f20dd31-52ab-4e5d-bb0f-2e6013d0ac21"
      },
      "execution_count": 25,
      "outputs": [
        {
          "output_type": "execute_result",
          "data": {
            "text/plain": [
              "        category  test_type  \\\n",
              "0     robustness  lowercase   \n",
              "1     robustness  lowercase   \n",
              "2     robustness  lowercase   \n",
              "3     robustness  lowercase   \n",
              "4     robustness  lowercase   \n",
              "...          ...        ...   \n",
              "3349  robustness   add_typo   \n",
              "3350  robustness   add_typo   \n",
              "3351  robustness   add_typo   \n",
              "3352  robustness   add_typo   \n",
              "3353  robustness   add_typo   \n",
              "\n",
              "                                               original  \\\n",
              "0     worldcom boss  left books alone  former worldc...   \n",
              "1     berlin cheers for anti-nazi film a german movi...   \n",
              "2     moya emotional after davis cup win carlos moya...   \n",
              "3     connors boost for british tennis former world ...   \n",
              "4     japanese banking battle at an end japan s sumi...   \n",
              "...                                                 ...   \n",
              "3349  uk pioneers digital film network the world s f...   \n",
              "3350  dance music not dead says fatboy dj norman coo...   \n",
              "3351  kennedy questions trust of blair lib dem leade...   \n",
              "3352  california sets fines for spyware the makers o...   \n",
              "3353  snicket tops us box office chart the film adap...   \n",
              "\n",
              "                                              test_case expected_result  \n",
              "0     worldcom boss  left books alone  former worldc...        business  \n",
              "1     berlin cheers for anti-nazi film a german movi...   entertainment  \n",
              "2     moya emotional after davis cup win carlos moya...        politics  \n",
              "3     connors boost for british tennis former world ...        business  \n",
              "4     japanese banking battle at an end japan s sumi...        politics  \n",
              "...                                                 ...             ...  \n",
              "3349  uk pioneers digital film network the world s f...        business  \n",
              "3350  dance music not dead says fatboy dj norman coo...        business  \n",
              "3351  kennedy questions trust of blair lib dem leade...   entertainment  \n",
              "3352  california sets fines for spyware the makers o...        politics  \n",
              "3353  snicket tops us box office chart the film adap...        politics  \n",
              "\n",
              "[3354 rows x 5 columns]"
            ],
            "text/html": [
              "\n",
              "  <div id=\"df-d56d5f2e-4ea3-499a-bb1f-e86c98e63c6f\">\n",
              "    <div class=\"colab-df-container\">\n",
              "      <div>\n",
              "<style scoped>\n",
              "    .dataframe tbody tr th:only-of-type {\n",
              "        vertical-align: middle;\n",
              "    }\n",
              "\n",
              "    .dataframe tbody tr th {\n",
              "        vertical-align: top;\n",
              "    }\n",
              "\n",
              "    .dataframe thead th {\n",
              "        text-align: right;\n",
              "    }\n",
              "</style>\n",
              "<table border=\"1\" class=\"dataframe\">\n",
              "  <thead>\n",
              "    <tr style=\"text-align: right;\">\n",
              "      <th></th>\n",
              "      <th>category</th>\n",
              "      <th>test_type</th>\n",
              "      <th>original</th>\n",
              "      <th>test_case</th>\n",
              "      <th>expected_result</th>\n",
              "    </tr>\n",
              "  </thead>\n",
              "  <tbody>\n",
              "    <tr>\n",
              "      <th>0</th>\n",
              "      <td>robustness</td>\n",
              "      <td>lowercase</td>\n",
              "      <td>worldcom boss  left books alone  former worldc...</td>\n",
              "      <td>worldcom boss  left books alone  former worldc...</td>\n",
              "      <td>business</td>\n",
              "    </tr>\n",
              "    <tr>\n",
              "      <th>1</th>\n",
              "      <td>robustness</td>\n",
              "      <td>lowercase</td>\n",
              "      <td>berlin cheers for anti-nazi film a german movi...</td>\n",
              "      <td>berlin cheers for anti-nazi film a german movi...</td>\n",
              "      <td>entertainment</td>\n",
              "    </tr>\n",
              "    <tr>\n",
              "      <th>2</th>\n",
              "      <td>robustness</td>\n",
              "      <td>lowercase</td>\n",
              "      <td>moya emotional after davis cup win carlos moya...</td>\n",
              "      <td>moya emotional after davis cup win carlos moya...</td>\n",
              "      <td>politics</td>\n",
              "    </tr>\n",
              "    <tr>\n",
              "      <th>3</th>\n",
              "      <td>robustness</td>\n",
              "      <td>lowercase</td>\n",
              "      <td>connors boost for british tennis former world ...</td>\n",
              "      <td>connors boost for british tennis former world ...</td>\n",
              "      <td>business</td>\n",
              "    </tr>\n",
              "    <tr>\n",
              "      <th>4</th>\n",
              "      <td>robustness</td>\n",
              "      <td>lowercase</td>\n",
              "      <td>japanese banking battle at an end japan s sumi...</td>\n",
              "      <td>japanese banking battle at an end japan s sumi...</td>\n",
              "      <td>politics</td>\n",
              "    </tr>\n",
              "    <tr>\n",
              "      <th>...</th>\n",
              "      <td>...</td>\n",
              "      <td>...</td>\n",
              "      <td>...</td>\n",
              "      <td>...</td>\n",
              "      <td>...</td>\n",
              "    </tr>\n",
              "    <tr>\n",
              "      <th>3349</th>\n",
              "      <td>robustness</td>\n",
              "      <td>add_typo</td>\n",
              "      <td>uk pioneers digital film network the world s f...</td>\n",
              "      <td>uk pioneers digital film network the world s f...</td>\n",
              "      <td>business</td>\n",
              "    </tr>\n",
              "    <tr>\n",
              "      <th>3350</th>\n",
              "      <td>robustness</td>\n",
              "      <td>add_typo</td>\n",
              "      <td>dance music not dead says fatboy dj norman coo...</td>\n",
              "      <td>dance music not dead says fatboy dj norman coo...</td>\n",
              "      <td>business</td>\n",
              "    </tr>\n",
              "    <tr>\n",
              "      <th>3351</th>\n",
              "      <td>robustness</td>\n",
              "      <td>add_typo</td>\n",
              "      <td>kennedy questions trust of blair lib dem leade...</td>\n",
              "      <td>kennedy questions trust of blair lib dem leade...</td>\n",
              "      <td>entertainment</td>\n",
              "    </tr>\n",
              "    <tr>\n",
              "      <th>3352</th>\n",
              "      <td>robustness</td>\n",
              "      <td>add_typo</td>\n",
              "      <td>california sets fines for spyware the makers o...</td>\n",
              "      <td>california sets fines for spyware the makers o...</td>\n",
              "      <td>politics</td>\n",
              "    </tr>\n",
              "    <tr>\n",
              "      <th>3353</th>\n",
              "      <td>robustness</td>\n",
              "      <td>add_typo</td>\n",
              "      <td>snicket tops us box office chart the film adap...</td>\n",
              "      <td>snicket tops us box office chart the film adap...</td>\n",
              "      <td>politics</td>\n",
              "    </tr>\n",
              "  </tbody>\n",
              "</table>\n",
              "<p>3354 rows × 5 columns</p>\n",
              "</div>\n",
              "      <button class=\"colab-df-convert\" onclick=\"convertToInteractive('df-d56d5f2e-4ea3-499a-bb1f-e86c98e63c6f')\"\n",
              "              title=\"Convert this dataframe to an interactive table.\"\n",
              "              style=\"display:none;\">\n",
              "        \n",
              "  <svg xmlns=\"http://www.w3.org/2000/svg\" height=\"24px\"viewBox=\"0 0 24 24\"\n",
              "       width=\"24px\">\n",
              "    <path d=\"M0 0h24v24H0V0z\" fill=\"none\"/>\n",
              "    <path d=\"M18.56 5.44l.94 2.06.94-2.06 2.06-.94-2.06-.94-.94-2.06-.94 2.06-2.06.94zm-11 1L8.5 8.5l.94-2.06 2.06-.94-2.06-.94L8.5 2.5l-.94 2.06-2.06.94zm10 10l.94 2.06.94-2.06 2.06-.94-2.06-.94-.94-2.06-.94 2.06-2.06.94z\"/><path d=\"M17.41 7.96l-1.37-1.37c-.4-.4-.92-.59-1.43-.59-.52 0-1.04.2-1.43.59L10.3 9.45l-7.72 7.72c-.78.78-.78 2.05 0 2.83L4 21.41c.39.39.9.59 1.41.59.51 0 1.02-.2 1.41-.59l7.78-7.78 2.81-2.81c.8-.78.8-2.07 0-2.86zM5.41 20L4 18.59l7.72-7.72 1.47 1.35L5.41 20z\"/>\n",
              "  </svg>\n",
              "      </button>\n",
              "      \n",
              "  <style>\n",
              "    .colab-df-container {\n",
              "      display:flex;\n",
              "      flex-wrap:wrap;\n",
              "      gap: 12px;\n",
              "    }\n",
              "\n",
              "    .colab-df-convert {\n",
              "      background-color: #E8F0FE;\n",
              "      border: none;\n",
              "      border-radius: 50%;\n",
              "      cursor: pointer;\n",
              "      display: none;\n",
              "      fill: #1967D2;\n",
              "      height: 32px;\n",
              "      padding: 0 0 0 0;\n",
              "      width: 32px;\n",
              "    }\n",
              "\n",
              "    .colab-df-convert:hover {\n",
              "      background-color: #E2EBFA;\n",
              "      box-shadow: 0px 1px 2px rgba(60, 64, 67, 0.3), 0px 1px 3px 1px rgba(60, 64, 67, 0.15);\n",
              "      fill: #174EA6;\n",
              "    }\n",
              "\n",
              "    [theme=dark] .colab-df-convert {\n",
              "      background-color: #3B4455;\n",
              "      fill: #D2E3FC;\n",
              "    }\n",
              "\n",
              "    [theme=dark] .colab-df-convert:hover {\n",
              "      background-color: #434B5C;\n",
              "      box-shadow: 0px 1px 3px 1px rgba(0, 0, 0, 0.15);\n",
              "      filter: drop-shadow(0px 1px 2px rgba(0, 0, 0, 0.3));\n",
              "      fill: #FFFFFF;\n",
              "    }\n",
              "  </style>\n",
              "\n",
              "      <script>\n",
              "        const buttonEl =\n",
              "          document.querySelector('#df-d56d5f2e-4ea3-499a-bb1f-e86c98e63c6f button.colab-df-convert');\n",
              "        buttonEl.style.display =\n",
              "          google.colab.kernel.accessAllowed ? 'block' : 'none';\n",
              "\n",
              "        async function convertToInteractive(key) {\n",
              "          const element = document.querySelector('#df-d56d5f2e-4ea3-499a-bb1f-e86c98e63c6f');\n",
              "          const dataTable =\n",
              "            await google.colab.kernel.invokeFunction('convertToInteractive',\n",
              "                                                     [key], {});\n",
              "          if (!dataTable) return;\n",
              "\n",
              "          const docLinkHtml = 'Like what you see? Visit the ' +\n",
              "            '<a target=\"_blank\" href=https://colab.research.google.com/notebooks/data_table.ipynb>data table notebook</a>'\n",
              "            + ' to learn more about interactive tables.';\n",
              "          element.innerHTML = '';\n",
              "          dataTable['output_type'] = 'display_data';\n",
              "          await google.colab.output.renderOutput(dataTable, element);\n",
              "          const docLink = document.createElement('div');\n",
              "          docLink.innerHTML = docLinkHtml;\n",
              "          element.appendChild(docLink);\n",
              "        }\n",
              "      </script>\n",
              "    </div>\n",
              "  </div>\n",
              "  "
            ]
          },
          "metadata": {},
          "execution_count": 25
        }
      ]
    },
    {
      "cell_type": "code",
      "source": [
        "save_dir = '/content/drive/MyDrive/John Snow Lbs/Harness_Test_Case'\n",
        "harness.save(save_dir)\n"
      ],
      "metadata": {
        "id": "81DmLM_vZO_6"
      },
      "execution_count": 26,
      "outputs": []
    },
    {
      "cell_type": "code",
      "source": [
        "harness.run()\n"
      ],
      "metadata": {
        "colab": {
          "base_uri": "https://localhost:8080/"
        },
        "id": "TSvkl9AgdTR1",
        "outputId": "a82ee9c0-c3f5-4e88-f91c-ae549f6699db"
      },
      "execution_count": 27,
      "outputs": [
        {
          "output_type": "stream",
          "name": "stderr",
          "text": [
            "Running testcases... : 100%|██████████| 3354/3354 [1:28:38<00:00,  1.59s/it]\n"
          ]
        },
        {
          "output_type": "execute_result",
          "data": {
            "text/plain": []
          },
          "metadata": {},
          "execution_count": 27
        }
      ]
    },
    {
      "cell_type": "code",
      "source": [
        "harness.report()"
      ],
      "metadata": {
        "id": "RbXAmRUbdZ0s",
        "colab": {
          "base_uri": "https://localhost:8080/",
          "height": 144
        },
        "outputId": "adb97b87-0cc8-4373-e93a-5ffc449089c7"
      },
      "execution_count": 28,
      "outputs": [
        {
          "output_type": "execute_result",
          "data": {
            "text/plain": [
              "     category  test_type  fail_count  pass_count pass_rate minimum_pass_rate  \\\n",
              "0  robustness  lowercase           0        1118      100%               60%   \n",
              "1  robustness  uppercase           0        1118      100%               60%   \n",
              "2  robustness   add_typo         134         984       88%               90%   \n",
              "\n",
              "    pass  \n",
              "0   True  \n",
              "1   True  \n",
              "2  False  "
            ],
            "text/html": [
              "\n",
              "  <div id=\"df-7816a1e7-65a6-4cd1-898b-dcc31251a717\">\n",
              "    <div class=\"colab-df-container\">\n",
              "      <div>\n",
              "<style scoped>\n",
              "    .dataframe tbody tr th:only-of-type {\n",
              "        vertical-align: middle;\n",
              "    }\n",
              "\n",
              "    .dataframe tbody tr th {\n",
              "        vertical-align: top;\n",
              "    }\n",
              "\n",
              "    .dataframe thead th {\n",
              "        text-align: right;\n",
              "    }\n",
              "</style>\n",
              "<table border=\"1\" class=\"dataframe\">\n",
              "  <thead>\n",
              "    <tr style=\"text-align: right;\">\n",
              "      <th></th>\n",
              "      <th>category</th>\n",
              "      <th>test_type</th>\n",
              "      <th>fail_count</th>\n",
              "      <th>pass_count</th>\n",
              "      <th>pass_rate</th>\n",
              "      <th>minimum_pass_rate</th>\n",
              "      <th>pass</th>\n",
              "    </tr>\n",
              "  </thead>\n",
              "  <tbody>\n",
              "    <tr>\n",
              "      <th>0</th>\n",
              "      <td>robustness</td>\n",
              "      <td>lowercase</td>\n",
              "      <td>0</td>\n",
              "      <td>1118</td>\n",
              "      <td>100%</td>\n",
              "      <td>60%</td>\n",
              "      <td>True</td>\n",
              "    </tr>\n",
              "    <tr>\n",
              "      <th>1</th>\n",
              "      <td>robustness</td>\n",
              "      <td>uppercase</td>\n",
              "      <td>0</td>\n",
              "      <td>1118</td>\n",
              "      <td>100%</td>\n",
              "      <td>60%</td>\n",
              "      <td>True</td>\n",
              "    </tr>\n",
              "    <tr>\n",
              "      <th>2</th>\n",
              "      <td>robustness</td>\n",
              "      <td>add_typo</td>\n",
              "      <td>134</td>\n",
              "      <td>984</td>\n",
              "      <td>88%</td>\n",
              "      <td>90%</td>\n",
              "      <td>False</td>\n",
              "    </tr>\n",
              "  </tbody>\n",
              "</table>\n",
              "</div>\n",
              "      <button class=\"colab-df-convert\" onclick=\"convertToInteractive('df-7816a1e7-65a6-4cd1-898b-dcc31251a717')\"\n",
              "              title=\"Convert this dataframe to an interactive table.\"\n",
              "              style=\"display:none;\">\n",
              "        \n",
              "  <svg xmlns=\"http://www.w3.org/2000/svg\" height=\"24px\"viewBox=\"0 0 24 24\"\n",
              "       width=\"24px\">\n",
              "    <path d=\"M0 0h24v24H0V0z\" fill=\"none\"/>\n",
              "    <path d=\"M18.56 5.44l.94 2.06.94-2.06 2.06-.94-2.06-.94-.94-2.06-.94 2.06-2.06.94zm-11 1L8.5 8.5l.94-2.06 2.06-.94-2.06-.94L8.5 2.5l-.94 2.06-2.06.94zm10 10l.94 2.06.94-2.06 2.06-.94-2.06-.94-.94-2.06-.94 2.06-2.06.94z\"/><path d=\"M17.41 7.96l-1.37-1.37c-.4-.4-.92-.59-1.43-.59-.52 0-1.04.2-1.43.59L10.3 9.45l-7.72 7.72c-.78.78-.78 2.05 0 2.83L4 21.41c.39.39.9.59 1.41.59.51 0 1.02-.2 1.41-.59l7.78-7.78 2.81-2.81c.8-.78.8-2.07 0-2.86zM5.41 20L4 18.59l7.72-7.72 1.47 1.35L5.41 20z\"/>\n",
              "  </svg>\n",
              "      </button>\n",
              "      \n",
              "  <style>\n",
              "    .colab-df-container {\n",
              "      display:flex;\n",
              "      flex-wrap:wrap;\n",
              "      gap: 12px;\n",
              "    }\n",
              "\n",
              "    .colab-df-convert {\n",
              "      background-color: #E8F0FE;\n",
              "      border: none;\n",
              "      border-radius: 50%;\n",
              "      cursor: pointer;\n",
              "      display: none;\n",
              "      fill: #1967D2;\n",
              "      height: 32px;\n",
              "      padding: 0 0 0 0;\n",
              "      width: 32px;\n",
              "    }\n",
              "\n",
              "    .colab-df-convert:hover {\n",
              "      background-color: #E2EBFA;\n",
              "      box-shadow: 0px 1px 2px rgba(60, 64, 67, 0.3), 0px 1px 3px 1px rgba(60, 64, 67, 0.15);\n",
              "      fill: #174EA6;\n",
              "    }\n",
              "\n",
              "    [theme=dark] .colab-df-convert {\n",
              "      background-color: #3B4455;\n",
              "      fill: #D2E3FC;\n",
              "    }\n",
              "\n",
              "    [theme=dark] .colab-df-convert:hover {\n",
              "      background-color: #434B5C;\n",
              "      box-shadow: 0px 1px 3px 1px rgba(0, 0, 0, 0.15);\n",
              "      filter: drop-shadow(0px 1px 2px rgba(0, 0, 0, 0.3));\n",
              "      fill: #FFFFFF;\n",
              "    }\n",
              "  </style>\n",
              "\n",
              "      <script>\n",
              "        const buttonEl =\n",
              "          document.querySelector('#df-7816a1e7-65a6-4cd1-898b-dcc31251a717 button.colab-df-convert');\n",
              "        buttonEl.style.display =\n",
              "          google.colab.kernel.accessAllowed ? 'block' : 'none';\n",
              "\n",
              "        async function convertToInteractive(key) {\n",
              "          const element = document.querySelector('#df-7816a1e7-65a6-4cd1-898b-dcc31251a717');\n",
              "          const dataTable =\n",
              "            await google.colab.kernel.invokeFunction('convertToInteractive',\n",
              "                                                     [key], {});\n",
              "          if (!dataTable) return;\n",
              "\n",
              "          const docLinkHtml = 'Like what you see? Visit the ' +\n",
              "            '<a target=\"_blank\" href=https://colab.research.google.com/notebooks/data_table.ipynb>data table notebook</a>'\n",
              "            + ' to learn more about interactive tables.';\n",
              "          element.innerHTML = '';\n",
              "          dataTable['output_type'] = 'display_data';\n",
              "          await google.colab.output.renderOutput(dataTable, element);\n",
              "          const docLink = document.createElement('div');\n",
              "          docLink.innerHTML = docLinkHtml;\n",
              "          element.appendChild(docLink);\n",
              "        }\n",
              "      </script>\n",
              "    </div>\n",
              "  </div>\n",
              "  "
            ]
          },
          "metadata": {},
          "execution_count": 28
        }
      ]
    },
    {
      "cell_type": "code",
      "source": [
        "harness.generated_results()"
      ],
      "metadata": {
        "colab": {
          "base_uri": "https://localhost:8080/",
          "height": 424
        },
        "id": "WfYAyOommWXK",
        "outputId": "fcc1e648-28ec-4e60-8057-02c8de9dd02d"
      },
      "execution_count": 29,
      "outputs": [
        {
          "output_type": "execute_result",
          "data": {
            "text/plain": [
              "        category  test_type  \\\n",
              "0     robustness  lowercase   \n",
              "1     robustness  lowercase   \n",
              "2     robustness  lowercase   \n",
              "3     robustness  lowercase   \n",
              "4     robustness  lowercase   \n",
              "...          ...        ...   \n",
              "3349  robustness   add_typo   \n",
              "3350  robustness   add_typo   \n",
              "3351  robustness   add_typo   \n",
              "3352  robustness   add_typo   \n",
              "3353  robustness   add_typo   \n",
              "\n",
              "                                               original  \\\n",
              "0     worldcom boss  left books alone  former worldc...   \n",
              "1     berlin cheers for anti-nazi film a german movi...   \n",
              "2     moya emotional after davis cup win carlos moya...   \n",
              "3     connors boost for british tennis former world ...   \n",
              "4     japanese banking battle at an end japan s sumi...   \n",
              "...                                                 ...   \n",
              "3349  uk pioneers digital film network the world s f...   \n",
              "3350  dance music not dead says fatboy dj norman coo...   \n",
              "3351  kennedy questions trust of blair lib dem leade...   \n",
              "3352  california sets fines for spyware the makers o...   \n",
              "3353  snicket tops us box office chart the film adap...   \n",
              "\n",
              "                                              test_case expected_result  \\\n",
              "0     worldcom boss  left books alone  former worldc...        business   \n",
              "1     berlin cheers for anti-nazi film a german movi...   entertainment   \n",
              "2     moya emotional after davis cup win carlos moya...        politics   \n",
              "3     connors boost for british tennis former world ...        business   \n",
              "4     japanese banking battle at an end japan s sumi...        politics   \n",
              "...                                                 ...             ...   \n",
              "3349  uk pioneers digital film network the world s f...        business   \n",
              "3350  dance music not dead says fatboy dj norman coo...        business   \n",
              "3351  kennedy questions trust of blair lib dem leade...   entertainment   \n",
              "3352  california sets fines for spyware the makers o...        politics   \n",
              "3353  snicket tops us box office chart the film adap...        politics   \n",
              "\n",
              "      actual_result   pass  \n",
              "0          business   True  \n",
              "1     entertainment   True  \n",
              "2          politics   True  \n",
              "3          business   True  \n",
              "4          politics   True  \n",
              "...             ...    ...  \n",
              "3349       business   True  \n",
              "3350       business   True  \n",
              "3351  entertainment   True  \n",
              "3352       business  False  \n",
              "3353       politics   True  \n",
              "\n",
              "[3354 rows x 7 columns]"
            ],
            "text/html": [
              "\n",
              "  <div id=\"df-764f10db-e68d-4491-865a-3a049e186c30\">\n",
              "    <div class=\"colab-df-container\">\n",
              "      <div>\n",
              "<style scoped>\n",
              "    .dataframe tbody tr th:only-of-type {\n",
              "        vertical-align: middle;\n",
              "    }\n",
              "\n",
              "    .dataframe tbody tr th {\n",
              "        vertical-align: top;\n",
              "    }\n",
              "\n",
              "    .dataframe thead th {\n",
              "        text-align: right;\n",
              "    }\n",
              "</style>\n",
              "<table border=\"1\" class=\"dataframe\">\n",
              "  <thead>\n",
              "    <tr style=\"text-align: right;\">\n",
              "      <th></th>\n",
              "      <th>category</th>\n",
              "      <th>test_type</th>\n",
              "      <th>original</th>\n",
              "      <th>test_case</th>\n",
              "      <th>expected_result</th>\n",
              "      <th>actual_result</th>\n",
              "      <th>pass</th>\n",
              "    </tr>\n",
              "  </thead>\n",
              "  <tbody>\n",
              "    <tr>\n",
              "      <th>0</th>\n",
              "      <td>robustness</td>\n",
              "      <td>lowercase</td>\n",
              "      <td>worldcom boss  left books alone  former worldc...</td>\n",
              "      <td>worldcom boss  left books alone  former worldc...</td>\n",
              "      <td>business</td>\n",
              "      <td>business</td>\n",
              "      <td>True</td>\n",
              "    </tr>\n",
              "    <tr>\n",
              "      <th>1</th>\n",
              "      <td>robustness</td>\n",
              "      <td>lowercase</td>\n",
              "      <td>berlin cheers for anti-nazi film a german movi...</td>\n",
              "      <td>berlin cheers for anti-nazi film a german movi...</td>\n",
              "      <td>entertainment</td>\n",
              "      <td>entertainment</td>\n",
              "      <td>True</td>\n",
              "    </tr>\n",
              "    <tr>\n",
              "      <th>2</th>\n",
              "      <td>robustness</td>\n",
              "      <td>lowercase</td>\n",
              "      <td>moya emotional after davis cup win carlos moya...</td>\n",
              "      <td>moya emotional after davis cup win carlos moya...</td>\n",
              "      <td>politics</td>\n",
              "      <td>politics</td>\n",
              "      <td>True</td>\n",
              "    </tr>\n",
              "    <tr>\n",
              "      <th>3</th>\n",
              "      <td>robustness</td>\n",
              "      <td>lowercase</td>\n",
              "      <td>connors boost for british tennis former world ...</td>\n",
              "      <td>connors boost for british tennis former world ...</td>\n",
              "      <td>business</td>\n",
              "      <td>business</td>\n",
              "      <td>True</td>\n",
              "    </tr>\n",
              "    <tr>\n",
              "      <th>4</th>\n",
              "      <td>robustness</td>\n",
              "      <td>lowercase</td>\n",
              "      <td>japanese banking battle at an end japan s sumi...</td>\n",
              "      <td>japanese banking battle at an end japan s sumi...</td>\n",
              "      <td>politics</td>\n",
              "      <td>politics</td>\n",
              "      <td>True</td>\n",
              "    </tr>\n",
              "    <tr>\n",
              "      <th>...</th>\n",
              "      <td>...</td>\n",
              "      <td>...</td>\n",
              "      <td>...</td>\n",
              "      <td>...</td>\n",
              "      <td>...</td>\n",
              "      <td>...</td>\n",
              "      <td>...</td>\n",
              "    </tr>\n",
              "    <tr>\n",
              "      <th>3349</th>\n",
              "      <td>robustness</td>\n",
              "      <td>add_typo</td>\n",
              "      <td>uk pioneers digital film network the world s f...</td>\n",
              "      <td>uk pioneers digital film network the world s f...</td>\n",
              "      <td>business</td>\n",
              "      <td>business</td>\n",
              "      <td>True</td>\n",
              "    </tr>\n",
              "    <tr>\n",
              "      <th>3350</th>\n",
              "      <td>robustness</td>\n",
              "      <td>add_typo</td>\n",
              "      <td>dance music not dead says fatboy dj norman coo...</td>\n",
              "      <td>dance music not dead says fatboy dj norman coo...</td>\n",
              "      <td>business</td>\n",
              "      <td>business</td>\n",
              "      <td>True</td>\n",
              "    </tr>\n",
              "    <tr>\n",
              "      <th>3351</th>\n",
              "      <td>robustness</td>\n",
              "      <td>add_typo</td>\n",
              "      <td>kennedy questions trust of blair lib dem leade...</td>\n",
              "      <td>kennedy questions trust of blair lib dem leade...</td>\n",
              "      <td>entertainment</td>\n",
              "      <td>entertainment</td>\n",
              "      <td>True</td>\n",
              "    </tr>\n",
              "    <tr>\n",
              "      <th>3352</th>\n",
              "      <td>robustness</td>\n",
              "      <td>add_typo</td>\n",
              "      <td>california sets fines for spyware the makers o...</td>\n",
              "      <td>california sets fines for spyware the makers o...</td>\n",
              "      <td>politics</td>\n",
              "      <td>business</td>\n",
              "      <td>False</td>\n",
              "    </tr>\n",
              "    <tr>\n",
              "      <th>3353</th>\n",
              "      <td>robustness</td>\n",
              "      <td>add_typo</td>\n",
              "      <td>snicket tops us box office chart the film adap...</td>\n",
              "      <td>snicket tops us box office chart the film adap...</td>\n",
              "      <td>politics</td>\n",
              "      <td>politics</td>\n",
              "      <td>True</td>\n",
              "    </tr>\n",
              "  </tbody>\n",
              "</table>\n",
              "<p>3354 rows × 7 columns</p>\n",
              "</div>\n",
              "      <button class=\"colab-df-convert\" onclick=\"convertToInteractive('df-764f10db-e68d-4491-865a-3a049e186c30')\"\n",
              "              title=\"Convert this dataframe to an interactive table.\"\n",
              "              style=\"display:none;\">\n",
              "        \n",
              "  <svg xmlns=\"http://www.w3.org/2000/svg\" height=\"24px\"viewBox=\"0 0 24 24\"\n",
              "       width=\"24px\">\n",
              "    <path d=\"M0 0h24v24H0V0z\" fill=\"none\"/>\n",
              "    <path d=\"M18.56 5.44l.94 2.06.94-2.06 2.06-.94-2.06-.94-.94-2.06-.94 2.06-2.06.94zm-11 1L8.5 8.5l.94-2.06 2.06-.94-2.06-.94L8.5 2.5l-.94 2.06-2.06.94zm10 10l.94 2.06.94-2.06 2.06-.94-2.06-.94-.94-2.06-.94 2.06-2.06.94z\"/><path d=\"M17.41 7.96l-1.37-1.37c-.4-.4-.92-.59-1.43-.59-.52 0-1.04.2-1.43.59L10.3 9.45l-7.72 7.72c-.78.78-.78 2.05 0 2.83L4 21.41c.39.39.9.59 1.41.59.51 0 1.02-.2 1.41-.59l7.78-7.78 2.81-2.81c.8-.78.8-2.07 0-2.86zM5.41 20L4 18.59l7.72-7.72 1.47 1.35L5.41 20z\"/>\n",
              "  </svg>\n",
              "      </button>\n",
              "      \n",
              "  <style>\n",
              "    .colab-df-container {\n",
              "      display:flex;\n",
              "      flex-wrap:wrap;\n",
              "      gap: 12px;\n",
              "    }\n",
              "\n",
              "    .colab-df-convert {\n",
              "      background-color: #E8F0FE;\n",
              "      border: none;\n",
              "      border-radius: 50%;\n",
              "      cursor: pointer;\n",
              "      display: none;\n",
              "      fill: #1967D2;\n",
              "      height: 32px;\n",
              "      padding: 0 0 0 0;\n",
              "      width: 32px;\n",
              "    }\n",
              "\n",
              "    .colab-df-convert:hover {\n",
              "      background-color: #E2EBFA;\n",
              "      box-shadow: 0px 1px 2px rgba(60, 64, 67, 0.3), 0px 1px 3px 1px rgba(60, 64, 67, 0.15);\n",
              "      fill: #174EA6;\n",
              "    }\n",
              "\n",
              "    [theme=dark] .colab-df-convert {\n",
              "      background-color: #3B4455;\n",
              "      fill: #D2E3FC;\n",
              "    }\n",
              "\n",
              "    [theme=dark] .colab-df-convert:hover {\n",
              "      background-color: #434B5C;\n",
              "      box-shadow: 0px 1px 3px 1px rgba(0, 0, 0, 0.15);\n",
              "      filter: drop-shadow(0px 1px 2px rgba(0, 0, 0, 0.3));\n",
              "      fill: #FFFFFF;\n",
              "    }\n",
              "  </style>\n",
              "\n",
              "      <script>\n",
              "        const buttonEl =\n",
              "          document.querySelector('#df-764f10db-e68d-4491-865a-3a049e186c30 button.colab-df-convert');\n",
              "        buttonEl.style.display =\n",
              "          google.colab.kernel.accessAllowed ? 'block' : 'none';\n",
              "\n",
              "        async function convertToInteractive(key) {\n",
              "          const element = document.querySelector('#df-764f10db-e68d-4491-865a-3a049e186c30');\n",
              "          const dataTable =\n",
              "            await google.colab.kernel.invokeFunction('convertToInteractive',\n",
              "                                                     [key], {});\n",
              "          if (!dataTable) return;\n",
              "\n",
              "          const docLinkHtml = 'Like what you see? Visit the ' +\n",
              "            '<a target=\"_blank\" href=https://colab.research.google.com/notebooks/data_table.ipynb>data table notebook</a>'\n",
              "            + ' to learn more about interactive tables.';\n",
              "          element.innerHTML = '';\n",
              "          dataTable['output_type'] = 'display_data';\n",
              "          await google.colab.output.renderOutput(dataTable, element);\n",
              "          const docLink = document.createElement('div');\n",
              "          docLink.innerHTML = docLinkHtml;\n",
              "          element.appendChild(docLink);\n",
              "        }\n",
              "      </script>\n",
              "    </div>\n",
              "  </div>\n",
              "  "
            ]
          },
          "metadata": {},
          "execution_count": 29
        }
      ]
    },
    {
      "cell_type": "code",
      "source": [
        "harness.augment(\"/content/drive/MyDrive/John Snow Lbs/train.csv\", \"/content/drive/MyDrive/John Snow Lbs/augmented_train.csv\", inplace=False)"
      ],
      "metadata": {
        "colab": {
          "base_uri": "https://localhost:8080/"
        },
        "id": "kI5MFKcRobjR",
        "outputId": "9373b735-899c-4aae-feb8-b5ea0b703a60"
      },
      "execution_count": 30,
      "outputs": [
        {
          "output_type": "execute_result",
          "data": {
            "text/plain": []
          },
          "metadata": {},
          "execution_count": 30
        }
      ]
    },
    {
      "cell_type": "code",
      "source": [
        "import pandas as pd\n",
        "trainDataset_aug = pd.read_csv('/content/drive/MyDrive/John Snow Lbs/augmented_train.csv', header=None)"
      ],
      "metadata": {
        "id": "TKLrmM62o9oC"
      },
      "execution_count": 31,
      "outputs": []
    },
    {
      "cell_type": "code",
      "source": [
        "\n",
        "column_names = ['Text', 'Category']\n",
        "trainDataset_aug.columns = column_names"
      ],
      "metadata": {
        "id": "89h-BV6N9rpF"
      },
      "execution_count": 33,
      "outputs": []
    },
    {
      "cell_type": "code",
      "source": [
        "trainDataset_aug"
      ],
      "metadata": {
        "colab": {
          "base_uri": "https://localhost:8080/",
          "height": 424
        },
        "id": "SYOdwLeQ9sy5",
        "outputId": "ff754352-056c-4249-b741-12f334f13950"
      },
      "execution_count": 34,
      "outputs": [
        {
          "output_type": "execute_result",
          "data": {
            "text/plain": [
              "                                                   Text Category\n",
              "0     worldcom boss  left books alone  former worldc...        b\n",
              "1     berlin cheers for anti-nazi film a german movi...        e\n",
              "2     moya emotional after davis cup win carlos moya...        s\n",
              "3     connors boost for british tennis former world ...        s\n",
              "4     japanese banking battle at an end japan s sumi...        b\n",
              "...                                                 ...      ...\n",
              "1672  satellite mapping aids darfur relief aid worke...        t\n",
              "1673  stormy year for property insurers a string of ...        b\n",
              "1674  royal couple watch nation s mood prince charle...        p\n",
              "1675  standard life concern at lse bid standard life...        b\n",
              "1676  roddick into san jose final andy roddick will ...        s\n",
              "\n",
              "[1677 rows x 2 columns]"
            ],
            "text/html": [
              "\n",
              "  <div id=\"df-dc88de42-1874-4cdc-9f0c-28dd587a8fc7\">\n",
              "    <div class=\"colab-df-container\">\n",
              "      <div>\n",
              "<style scoped>\n",
              "    .dataframe tbody tr th:only-of-type {\n",
              "        vertical-align: middle;\n",
              "    }\n",
              "\n",
              "    .dataframe tbody tr th {\n",
              "        vertical-align: top;\n",
              "    }\n",
              "\n",
              "    .dataframe thead th {\n",
              "        text-align: right;\n",
              "    }\n",
              "</style>\n",
              "<table border=\"1\" class=\"dataframe\">\n",
              "  <thead>\n",
              "    <tr style=\"text-align: right;\">\n",
              "      <th></th>\n",
              "      <th>Text</th>\n",
              "      <th>Category</th>\n",
              "    </tr>\n",
              "  </thead>\n",
              "  <tbody>\n",
              "    <tr>\n",
              "      <th>0</th>\n",
              "      <td>worldcom boss  left books alone  former worldc...</td>\n",
              "      <td>b</td>\n",
              "    </tr>\n",
              "    <tr>\n",
              "      <th>1</th>\n",
              "      <td>berlin cheers for anti-nazi film a german movi...</td>\n",
              "      <td>e</td>\n",
              "    </tr>\n",
              "    <tr>\n",
              "      <th>2</th>\n",
              "      <td>moya emotional after davis cup win carlos moya...</td>\n",
              "      <td>s</td>\n",
              "    </tr>\n",
              "    <tr>\n",
              "      <th>3</th>\n",
              "      <td>connors boost for british tennis former world ...</td>\n",
              "      <td>s</td>\n",
              "    </tr>\n",
              "    <tr>\n",
              "      <th>4</th>\n",
              "      <td>japanese banking battle at an end japan s sumi...</td>\n",
              "      <td>b</td>\n",
              "    </tr>\n",
              "    <tr>\n",
              "      <th>...</th>\n",
              "      <td>...</td>\n",
              "      <td>...</td>\n",
              "    </tr>\n",
              "    <tr>\n",
              "      <th>1672</th>\n",
              "      <td>satellite mapping aids darfur relief aid worke...</td>\n",
              "      <td>t</td>\n",
              "    </tr>\n",
              "    <tr>\n",
              "      <th>1673</th>\n",
              "      <td>stormy year for property insurers a string of ...</td>\n",
              "      <td>b</td>\n",
              "    </tr>\n",
              "    <tr>\n",
              "      <th>1674</th>\n",
              "      <td>royal couple watch nation s mood prince charle...</td>\n",
              "      <td>p</td>\n",
              "    </tr>\n",
              "    <tr>\n",
              "      <th>1675</th>\n",
              "      <td>standard life concern at lse bid standard life...</td>\n",
              "      <td>b</td>\n",
              "    </tr>\n",
              "    <tr>\n",
              "      <th>1676</th>\n",
              "      <td>roddick into san jose final andy roddick will ...</td>\n",
              "      <td>s</td>\n",
              "    </tr>\n",
              "  </tbody>\n",
              "</table>\n",
              "<p>1677 rows × 2 columns</p>\n",
              "</div>\n",
              "      <button class=\"colab-df-convert\" onclick=\"convertToInteractive('df-dc88de42-1874-4cdc-9f0c-28dd587a8fc7')\"\n",
              "              title=\"Convert this dataframe to an interactive table.\"\n",
              "              style=\"display:none;\">\n",
              "        \n",
              "  <svg xmlns=\"http://www.w3.org/2000/svg\" height=\"24px\"viewBox=\"0 0 24 24\"\n",
              "       width=\"24px\">\n",
              "    <path d=\"M0 0h24v24H0V0z\" fill=\"none\"/>\n",
              "    <path d=\"M18.56 5.44l.94 2.06.94-2.06 2.06-.94-2.06-.94-.94-2.06-.94 2.06-2.06.94zm-11 1L8.5 8.5l.94-2.06 2.06-.94-2.06-.94L8.5 2.5l-.94 2.06-2.06.94zm10 10l.94 2.06.94-2.06 2.06-.94-2.06-.94-.94-2.06-.94 2.06-2.06.94z\"/><path d=\"M17.41 7.96l-1.37-1.37c-.4-.4-.92-.59-1.43-.59-.52 0-1.04.2-1.43.59L10.3 9.45l-7.72 7.72c-.78.78-.78 2.05 0 2.83L4 21.41c.39.39.9.59 1.41.59.51 0 1.02-.2 1.41-.59l7.78-7.78 2.81-2.81c.8-.78.8-2.07 0-2.86zM5.41 20L4 18.59l7.72-7.72 1.47 1.35L5.41 20z\"/>\n",
              "  </svg>\n",
              "      </button>\n",
              "      \n",
              "  <style>\n",
              "    .colab-df-container {\n",
              "      display:flex;\n",
              "      flex-wrap:wrap;\n",
              "      gap: 12px;\n",
              "    }\n",
              "\n",
              "    .colab-df-convert {\n",
              "      background-color: #E8F0FE;\n",
              "      border: none;\n",
              "      border-radius: 50%;\n",
              "      cursor: pointer;\n",
              "      display: none;\n",
              "      fill: #1967D2;\n",
              "      height: 32px;\n",
              "      padding: 0 0 0 0;\n",
              "      width: 32px;\n",
              "    }\n",
              "\n",
              "    .colab-df-convert:hover {\n",
              "      background-color: #E2EBFA;\n",
              "      box-shadow: 0px 1px 2px rgba(60, 64, 67, 0.3), 0px 1px 3px 1px rgba(60, 64, 67, 0.15);\n",
              "      fill: #174EA6;\n",
              "    }\n",
              "\n",
              "    [theme=dark] .colab-df-convert {\n",
              "      background-color: #3B4455;\n",
              "      fill: #D2E3FC;\n",
              "    }\n",
              "\n",
              "    [theme=dark] .colab-df-convert:hover {\n",
              "      background-color: #434B5C;\n",
              "      box-shadow: 0px 1px 3px 1px rgba(0, 0, 0, 0.15);\n",
              "      filter: drop-shadow(0px 1px 2px rgba(0, 0, 0, 0.3));\n",
              "      fill: #FFFFFF;\n",
              "    }\n",
              "  </style>\n",
              "\n",
              "      <script>\n",
              "        const buttonEl =\n",
              "          document.querySelector('#df-dc88de42-1874-4cdc-9f0c-28dd587a8fc7 button.colab-df-convert');\n",
              "        buttonEl.style.display =\n",
              "          google.colab.kernel.accessAllowed ? 'block' : 'none';\n",
              "\n",
              "        async function convertToInteractive(key) {\n",
              "          const element = document.querySelector('#df-dc88de42-1874-4cdc-9f0c-28dd587a8fc7');\n",
              "          const dataTable =\n",
              "            await google.colab.kernel.invokeFunction('convertToInteractive',\n",
              "                                                     [key], {});\n",
              "          if (!dataTable) return;\n",
              "\n",
              "          const docLinkHtml = 'Like what you see? Visit the ' +\n",
              "            '<a target=\"_blank\" href=https://colab.research.google.com/notebooks/data_table.ipynb>data table notebook</a>'\n",
              "            + ' to learn more about interactive tables.';\n",
              "          element.innerHTML = '';\n",
              "          dataTable['output_type'] = 'display_data';\n",
              "          await google.colab.output.renderOutput(dataTable, element);\n",
              "          const docLink = document.createElement('div');\n",
              "          docLink.innerHTML = docLinkHtml;\n",
              "          element.appendChild(docLink);\n",
              "        }\n",
              "      </script>\n",
              "    </div>\n",
              "  </div>\n",
              "  "
            ]
          },
          "metadata": {},
          "execution_count": 34
        }
      ]
    },
    {
      "cell_type": "code",
      "source": [
        "mapping_dict = {'s': 'sport', 't': 'tech', 'b': 'business', 'e': 'entertainment', 'p': 'politics'}\n",
        "trainDataset_aug['Category'] = trainDataset_aug['Category'].replace(mapping_dict)"
      ],
      "metadata": {
        "id": "-J8j_KSw9xS9"
      },
      "execution_count": 35,
      "outputs": []
    },
    {
      "cell_type": "code",
      "source": [
        "trainDataset_aug\n"
      ],
      "metadata": {
        "colab": {
          "base_uri": "https://localhost:8080/",
          "height": 424
        },
        "id": "p2qIerM2912L",
        "outputId": "55a619dc-aa08-4d49-8b53-59096673ca2d"
      },
      "execution_count": 36,
      "outputs": [
        {
          "output_type": "execute_result",
          "data": {
            "text/plain": [
              "                                                   Text       Category\n",
              "0     worldcom boss  left books alone  former worldc...       business\n",
              "1     berlin cheers for anti-nazi film a german movi...  entertainment\n",
              "2     moya emotional after davis cup win carlos moya...          sport\n",
              "3     connors boost for british tennis former world ...          sport\n",
              "4     japanese banking battle at an end japan s sumi...       business\n",
              "...                                                 ...            ...\n",
              "1672  satellite mapping aids darfur relief aid worke...           tech\n",
              "1673  stormy year for property insurers a string of ...       business\n",
              "1674  royal couple watch nation s mood prince charle...       politics\n",
              "1675  standard life concern at lse bid standard life...       business\n",
              "1676  roddick into san jose final andy roddick will ...          sport\n",
              "\n",
              "[1677 rows x 2 columns]"
            ],
            "text/html": [
              "\n",
              "  <div id=\"df-07281857-1664-45f1-b4d5-522db67416b8\">\n",
              "    <div class=\"colab-df-container\">\n",
              "      <div>\n",
              "<style scoped>\n",
              "    .dataframe tbody tr th:only-of-type {\n",
              "        vertical-align: middle;\n",
              "    }\n",
              "\n",
              "    .dataframe tbody tr th {\n",
              "        vertical-align: top;\n",
              "    }\n",
              "\n",
              "    .dataframe thead th {\n",
              "        text-align: right;\n",
              "    }\n",
              "</style>\n",
              "<table border=\"1\" class=\"dataframe\">\n",
              "  <thead>\n",
              "    <tr style=\"text-align: right;\">\n",
              "      <th></th>\n",
              "      <th>Text</th>\n",
              "      <th>Category</th>\n",
              "    </tr>\n",
              "  </thead>\n",
              "  <tbody>\n",
              "    <tr>\n",
              "      <th>0</th>\n",
              "      <td>worldcom boss  left books alone  former worldc...</td>\n",
              "      <td>business</td>\n",
              "    </tr>\n",
              "    <tr>\n",
              "      <th>1</th>\n",
              "      <td>berlin cheers for anti-nazi film a german movi...</td>\n",
              "      <td>entertainment</td>\n",
              "    </tr>\n",
              "    <tr>\n",
              "      <th>2</th>\n",
              "      <td>moya emotional after davis cup win carlos moya...</td>\n",
              "      <td>sport</td>\n",
              "    </tr>\n",
              "    <tr>\n",
              "      <th>3</th>\n",
              "      <td>connors boost for british tennis former world ...</td>\n",
              "      <td>sport</td>\n",
              "    </tr>\n",
              "    <tr>\n",
              "      <th>4</th>\n",
              "      <td>japanese banking battle at an end japan s sumi...</td>\n",
              "      <td>business</td>\n",
              "    </tr>\n",
              "    <tr>\n",
              "      <th>...</th>\n",
              "      <td>...</td>\n",
              "      <td>...</td>\n",
              "    </tr>\n",
              "    <tr>\n",
              "      <th>1672</th>\n",
              "      <td>satellite mapping aids darfur relief aid worke...</td>\n",
              "      <td>tech</td>\n",
              "    </tr>\n",
              "    <tr>\n",
              "      <th>1673</th>\n",
              "      <td>stormy year for property insurers a string of ...</td>\n",
              "      <td>business</td>\n",
              "    </tr>\n",
              "    <tr>\n",
              "      <th>1674</th>\n",
              "      <td>royal couple watch nation s mood prince charle...</td>\n",
              "      <td>politics</td>\n",
              "    </tr>\n",
              "    <tr>\n",
              "      <th>1675</th>\n",
              "      <td>standard life concern at lse bid standard life...</td>\n",
              "      <td>business</td>\n",
              "    </tr>\n",
              "    <tr>\n",
              "      <th>1676</th>\n",
              "      <td>roddick into san jose final andy roddick will ...</td>\n",
              "      <td>sport</td>\n",
              "    </tr>\n",
              "  </tbody>\n",
              "</table>\n",
              "<p>1677 rows × 2 columns</p>\n",
              "</div>\n",
              "      <button class=\"colab-df-convert\" onclick=\"convertToInteractive('df-07281857-1664-45f1-b4d5-522db67416b8')\"\n",
              "              title=\"Convert this dataframe to an interactive table.\"\n",
              "              style=\"display:none;\">\n",
              "        \n",
              "  <svg xmlns=\"http://www.w3.org/2000/svg\" height=\"24px\"viewBox=\"0 0 24 24\"\n",
              "       width=\"24px\">\n",
              "    <path d=\"M0 0h24v24H0V0z\" fill=\"none\"/>\n",
              "    <path d=\"M18.56 5.44l.94 2.06.94-2.06 2.06-.94-2.06-.94-.94-2.06-.94 2.06-2.06.94zm-11 1L8.5 8.5l.94-2.06 2.06-.94-2.06-.94L8.5 2.5l-.94 2.06-2.06.94zm10 10l.94 2.06.94-2.06 2.06-.94-2.06-.94-.94-2.06-.94 2.06-2.06.94z\"/><path d=\"M17.41 7.96l-1.37-1.37c-.4-.4-.92-.59-1.43-.59-.52 0-1.04.2-1.43.59L10.3 9.45l-7.72 7.72c-.78.78-.78 2.05 0 2.83L4 21.41c.39.39.9.59 1.41.59.51 0 1.02-.2 1.41-.59l7.78-7.78 2.81-2.81c.8-.78.8-2.07 0-2.86zM5.41 20L4 18.59l7.72-7.72 1.47 1.35L5.41 20z\"/>\n",
              "  </svg>\n",
              "      </button>\n",
              "      \n",
              "  <style>\n",
              "    .colab-df-container {\n",
              "      display:flex;\n",
              "      flex-wrap:wrap;\n",
              "      gap: 12px;\n",
              "    }\n",
              "\n",
              "    .colab-df-convert {\n",
              "      background-color: #E8F0FE;\n",
              "      border: none;\n",
              "      border-radius: 50%;\n",
              "      cursor: pointer;\n",
              "      display: none;\n",
              "      fill: #1967D2;\n",
              "      height: 32px;\n",
              "      padding: 0 0 0 0;\n",
              "      width: 32px;\n",
              "    }\n",
              "\n",
              "    .colab-df-convert:hover {\n",
              "      background-color: #E2EBFA;\n",
              "      box-shadow: 0px 1px 2px rgba(60, 64, 67, 0.3), 0px 1px 3px 1px rgba(60, 64, 67, 0.15);\n",
              "      fill: #174EA6;\n",
              "    }\n",
              "\n",
              "    [theme=dark] .colab-df-convert {\n",
              "      background-color: #3B4455;\n",
              "      fill: #D2E3FC;\n",
              "    }\n",
              "\n",
              "    [theme=dark] .colab-df-convert:hover {\n",
              "      background-color: #434B5C;\n",
              "      box-shadow: 0px 1px 3px 1px rgba(0, 0, 0, 0.15);\n",
              "      filter: drop-shadow(0px 1px 2px rgba(0, 0, 0, 0.3));\n",
              "      fill: #FFFFFF;\n",
              "    }\n",
              "  </style>\n",
              "\n",
              "      <script>\n",
              "        const buttonEl =\n",
              "          document.querySelector('#df-07281857-1664-45f1-b4d5-522db67416b8 button.colab-df-convert');\n",
              "        buttonEl.style.display =\n",
              "          google.colab.kernel.accessAllowed ? 'block' : 'none';\n",
              "\n",
              "        async function convertToInteractive(key) {\n",
              "          const element = document.querySelector('#df-07281857-1664-45f1-b4d5-522db67416b8');\n",
              "          const dataTable =\n",
              "            await google.colab.kernel.invokeFunction('convertToInteractive',\n",
              "                                                     [key], {});\n",
              "          if (!dataTable) return;\n",
              "\n",
              "          const docLinkHtml = 'Like what you see? Visit the ' +\n",
              "            '<a target=\"_blank\" href=https://colab.research.google.com/notebooks/data_table.ipynb>data table notebook</a>'\n",
              "            + ' to learn more about interactive tables.';\n",
              "          element.innerHTML = '';\n",
              "          dataTable['output_type'] = 'display_data';\n",
              "          await google.colab.output.renderOutput(dataTable, element);\n",
              "          const docLink = document.createElement('div');\n",
              "          docLink.innerHTML = docLinkHtml;\n",
              "          element.appendChild(docLink);\n",
              "        }\n",
              "      </script>\n",
              "    </div>\n",
              "  </div>\n",
              "  "
            ]
          },
          "metadata": {},
          "execution_count": 36
        }
      ]
    },
    {
      "cell_type": "code",
      "source": [
        "trainDataset_aug = spark.createDataFrame(trainDataset_aug)\n",
        "trainDataset_aug.show()"
      ],
      "metadata": {
        "colab": {
          "base_uri": "https://localhost:8080/"
        },
        "id": "be20VBtI93YW",
        "outputId": "5ad1689f-9efd-4168-8215-cb6fc44c4f30"
      },
      "execution_count": 37,
      "outputs": [
        {
          "output_type": "stream",
          "name": "stdout",
          "text": [
            "+--------------------+-------------+\n",
            "|                Text|     Category|\n",
            "+--------------------+-------------+\n",
            "|worldcom boss  le...|     business|\n",
            "|berlin cheers for...|entertainment|\n",
            "|moya emotional af...|        sport|\n",
            "|connors boost for...|        sport|\n",
            "|japanese banking ...|     business|\n",
            "|mobile audio ente...|         tech|\n",
            "|moya fights back ...|        sport|\n",
            "|royal couple watc...|     politics|\n",
            "|firefox browser t...|         tech|\n",
            "|debate needed  on...|     politics|\n",
            "|german growth goe...|     business|\n",
            "|franz man seeks g...|entertainment|\n",
            "|jamieson issues w...|     politics|\n",
            "|england children ...|     politics|\n",
            "|stock market eyes...|     business|\n",
            "|standard life cut...|     business|\n",
            "|court rejects $28...|     business|\n",
            "|india power share...|     business|\n",
            "|microsoft gets th...|         tech|\n",
            "|tech helps disabl...|         tech|\n",
            "+--------------------+-------------+\n",
            "only showing top 20 rows\n",
            "\n"
          ]
        }
      ]
    },
    {
      "cell_type": "code",
      "source": [
        "bert_cmlm_pipelineModel_aug = bert_cmlm_clf_pipeline.fit(trainDataset_aug)"
      ],
      "metadata": {
        "id": "yS3MyLxW96xm"
      },
      "execution_count": 38,
      "outputs": []
    },
    {
      "cell_type": "code",
      "source": [
        "from sklearn.metrics import classification_report\n",
        "\n",
        "preds = bert_cmlm_pipelineModel.transform(testDataset)"
      ],
      "metadata": {
        "id": "CpiLYlfS-Ere"
      },
      "execution_count": 39,
      "outputs": []
    },
    {
      "cell_type": "code",
      "source": [
        "preds_df = preds.select('Category','Text',\"class.result\").toPandas()\n"
      ],
      "metadata": {
        "id": "3LXqNykKES9g"
      },
      "execution_count": 53,
      "outputs": []
    },
    {
      "cell_type": "code",
      "source": [
        "preds_df['result'] = preds_df['result'].apply(lambda x : x[0])"
      ],
      "metadata": {
        "id": "Mr3-0jX7GTh6"
      },
      "execution_count": 54,
      "outputs": []
    },
    {
      "cell_type": "code",
      "source": [
        "preds_df"
      ],
      "metadata": {
        "colab": {
          "base_uri": "https://localhost:8080/",
          "height": 424
        },
        "id": "jJ92-p7hF35s",
        "outputId": "8a4dff14-9b21-4cad-8a1c-70ef18a3eff0"
      },
      "execution_count": 55,
      "outputs": [
        {
          "output_type": "execute_result",
          "data": {
            "text/plain": [
              "          Category                                               Text  \\\n",
              "0         business  s korean credit card firm rescued south korea ...   \n",
              "1             tech  gamers snap up new sony psp gamers have bought...   \n",
              "2    entertainment  row threatens hendrix museum plan proposals to...   \n",
              "3            sport  federer claims dubai crown world number one ro...   \n",
              "4         business  telegraph newspapers axe 90 jobs the daily and...   \n",
              "..             ...                                                ...   \n",
              "367          sport  jones files conte lawsuit marion jones has fil...   \n",
              "368  entertainment  lopez misses uk charity premiere jennifer lope...   \n",
              "369           tech  progress on new internet domains by early 2005...   \n",
              "370          sport  davies favours gloucester future wales hooker ...   \n",
              "371       business  cars pull down us retail figures us retail sal...   \n",
              "\n",
              "            result  \n",
              "0         business  \n",
              "1             tech  \n",
              "2    entertainment  \n",
              "3            sport  \n",
              "4         business  \n",
              "..             ...  \n",
              "367          sport  \n",
              "368  entertainment  \n",
              "369           tech  \n",
              "370          sport  \n",
              "371       business  \n",
              "\n",
              "[372 rows x 3 columns]"
            ],
            "text/html": [
              "\n",
              "  <div id=\"df-37bb0986-bb9d-4c2e-b2f8-509a95630cfd\">\n",
              "    <div class=\"colab-df-container\">\n",
              "      <div>\n",
              "<style scoped>\n",
              "    .dataframe tbody tr th:only-of-type {\n",
              "        vertical-align: middle;\n",
              "    }\n",
              "\n",
              "    .dataframe tbody tr th {\n",
              "        vertical-align: top;\n",
              "    }\n",
              "\n",
              "    .dataframe thead th {\n",
              "        text-align: right;\n",
              "    }\n",
              "</style>\n",
              "<table border=\"1\" class=\"dataframe\">\n",
              "  <thead>\n",
              "    <tr style=\"text-align: right;\">\n",
              "      <th></th>\n",
              "      <th>Category</th>\n",
              "      <th>Text</th>\n",
              "      <th>result</th>\n",
              "    </tr>\n",
              "  </thead>\n",
              "  <tbody>\n",
              "    <tr>\n",
              "      <th>0</th>\n",
              "      <td>business</td>\n",
              "      <td>s korean credit card firm rescued south korea ...</td>\n",
              "      <td>business</td>\n",
              "    </tr>\n",
              "    <tr>\n",
              "      <th>1</th>\n",
              "      <td>tech</td>\n",
              "      <td>gamers snap up new sony psp gamers have bought...</td>\n",
              "      <td>tech</td>\n",
              "    </tr>\n",
              "    <tr>\n",
              "      <th>2</th>\n",
              "      <td>entertainment</td>\n",
              "      <td>row threatens hendrix museum plan proposals to...</td>\n",
              "      <td>entertainment</td>\n",
              "    </tr>\n",
              "    <tr>\n",
              "      <th>3</th>\n",
              "      <td>sport</td>\n",
              "      <td>federer claims dubai crown world number one ro...</td>\n",
              "      <td>sport</td>\n",
              "    </tr>\n",
              "    <tr>\n",
              "      <th>4</th>\n",
              "      <td>business</td>\n",
              "      <td>telegraph newspapers axe 90 jobs the daily and...</td>\n",
              "      <td>business</td>\n",
              "    </tr>\n",
              "    <tr>\n",
              "      <th>...</th>\n",
              "      <td>...</td>\n",
              "      <td>...</td>\n",
              "      <td>...</td>\n",
              "    </tr>\n",
              "    <tr>\n",
              "      <th>367</th>\n",
              "      <td>sport</td>\n",
              "      <td>jones files conte lawsuit marion jones has fil...</td>\n",
              "      <td>sport</td>\n",
              "    </tr>\n",
              "    <tr>\n",
              "      <th>368</th>\n",
              "      <td>entertainment</td>\n",
              "      <td>lopez misses uk charity premiere jennifer lope...</td>\n",
              "      <td>entertainment</td>\n",
              "    </tr>\n",
              "    <tr>\n",
              "      <th>369</th>\n",
              "      <td>tech</td>\n",
              "      <td>progress on new internet domains by early 2005...</td>\n",
              "      <td>tech</td>\n",
              "    </tr>\n",
              "    <tr>\n",
              "      <th>370</th>\n",
              "      <td>sport</td>\n",
              "      <td>davies favours gloucester future wales hooker ...</td>\n",
              "      <td>sport</td>\n",
              "    </tr>\n",
              "    <tr>\n",
              "      <th>371</th>\n",
              "      <td>business</td>\n",
              "      <td>cars pull down us retail figures us retail sal...</td>\n",
              "      <td>business</td>\n",
              "    </tr>\n",
              "  </tbody>\n",
              "</table>\n",
              "<p>372 rows × 3 columns</p>\n",
              "</div>\n",
              "      <button class=\"colab-df-convert\" onclick=\"convertToInteractive('df-37bb0986-bb9d-4c2e-b2f8-509a95630cfd')\"\n",
              "              title=\"Convert this dataframe to an interactive table.\"\n",
              "              style=\"display:none;\">\n",
              "        \n",
              "  <svg xmlns=\"http://www.w3.org/2000/svg\" height=\"24px\"viewBox=\"0 0 24 24\"\n",
              "       width=\"24px\">\n",
              "    <path d=\"M0 0h24v24H0V0z\" fill=\"none\"/>\n",
              "    <path d=\"M18.56 5.44l.94 2.06.94-2.06 2.06-.94-2.06-.94-.94-2.06-.94 2.06-2.06.94zm-11 1L8.5 8.5l.94-2.06 2.06-.94-2.06-.94L8.5 2.5l-.94 2.06-2.06.94zm10 10l.94 2.06.94-2.06 2.06-.94-2.06-.94-.94-2.06-.94 2.06-2.06.94z\"/><path d=\"M17.41 7.96l-1.37-1.37c-.4-.4-.92-.59-1.43-.59-.52 0-1.04.2-1.43.59L10.3 9.45l-7.72 7.72c-.78.78-.78 2.05 0 2.83L4 21.41c.39.39.9.59 1.41.59.51 0 1.02-.2 1.41-.59l7.78-7.78 2.81-2.81c.8-.78.8-2.07 0-2.86zM5.41 20L4 18.59l7.72-7.72 1.47 1.35L5.41 20z\"/>\n",
              "  </svg>\n",
              "      </button>\n",
              "      \n",
              "  <style>\n",
              "    .colab-df-container {\n",
              "      display:flex;\n",
              "      flex-wrap:wrap;\n",
              "      gap: 12px;\n",
              "    }\n",
              "\n",
              "    .colab-df-convert {\n",
              "      background-color: #E8F0FE;\n",
              "      border: none;\n",
              "      border-radius: 50%;\n",
              "      cursor: pointer;\n",
              "      display: none;\n",
              "      fill: #1967D2;\n",
              "      height: 32px;\n",
              "      padding: 0 0 0 0;\n",
              "      width: 32px;\n",
              "    }\n",
              "\n",
              "    .colab-df-convert:hover {\n",
              "      background-color: #E2EBFA;\n",
              "      box-shadow: 0px 1px 2px rgba(60, 64, 67, 0.3), 0px 1px 3px 1px rgba(60, 64, 67, 0.15);\n",
              "      fill: #174EA6;\n",
              "    }\n",
              "\n",
              "    [theme=dark] .colab-df-convert {\n",
              "      background-color: #3B4455;\n",
              "      fill: #D2E3FC;\n",
              "    }\n",
              "\n",
              "    [theme=dark] .colab-df-convert:hover {\n",
              "      background-color: #434B5C;\n",
              "      box-shadow: 0px 1px 3px 1px rgba(0, 0, 0, 0.15);\n",
              "      filter: drop-shadow(0px 1px 2px rgba(0, 0, 0, 0.3));\n",
              "      fill: #FFFFFF;\n",
              "    }\n",
              "  </style>\n",
              "\n",
              "      <script>\n",
              "        const buttonEl =\n",
              "          document.querySelector('#df-37bb0986-bb9d-4c2e-b2f8-509a95630cfd button.colab-df-convert');\n",
              "        buttonEl.style.display =\n",
              "          google.colab.kernel.accessAllowed ? 'block' : 'none';\n",
              "\n",
              "        async function convertToInteractive(key) {\n",
              "          const element = document.querySelector('#df-37bb0986-bb9d-4c2e-b2f8-509a95630cfd');\n",
              "          const dataTable =\n",
              "            await google.colab.kernel.invokeFunction('convertToInteractive',\n",
              "                                                     [key], {});\n",
              "          if (!dataTable) return;\n",
              "\n",
              "          const docLinkHtml = 'Like what you see? Visit the ' +\n",
              "            '<a target=\"_blank\" href=https://colab.research.google.com/notebooks/data_table.ipynb>data table notebook</a>'\n",
              "            + ' to learn more about interactive tables.';\n",
              "          element.innerHTML = '';\n",
              "          dataTable['output_type'] = 'display_data';\n",
              "          await google.colab.output.renderOutput(dataTable, element);\n",
              "          const docLink = document.createElement('div');\n",
              "          docLink.innerHTML = docLinkHtml;\n",
              "          element.appendChild(docLink);\n",
              "        }\n",
              "      </script>\n",
              "    </div>\n",
              "  </div>\n",
              "  "
            ]
          },
          "metadata": {},
          "execution_count": 55
        }
      ]
    },
    {
      "cell_type": "code",
      "source": [
        "print(classification_report(preds_df['Category'], preds_df['result']))"
      ],
      "metadata": {
        "colab": {
          "base_uri": "https://localhost:8080/"
        },
        "id": "ovJaFOn6EXPB",
        "outputId": "fbea16bf-bb5d-4d09-b74e-35592f23284a"
      },
      "execution_count": 56,
      "outputs": [
        {
          "output_type": "stream",
          "name": "stdout",
          "text": [
            "               precision    recall  f1-score   support\n",
            "\n",
            "     business       0.95      0.98      0.96        84\n",
            "entertainment       1.00      0.98      0.99        60\n",
            "     politics       0.97      0.97      0.97        62\n",
            "        sport       1.00      0.98      0.99        97\n",
            "         tech       0.97      0.99      0.98        69\n",
            "\n",
            "     accuracy                           0.98       372\n",
            "    macro avg       0.98      0.98      0.98       372\n",
            " weighted avg       0.98      0.98      0.98       372\n",
            "\n"
          ]
        }
      ]
    },
    {
      "cell_type": "code",
      "source": [],
      "metadata": {
        "id": "8DABVWMCEb_D"
      },
      "execution_count": null,
      "outputs": []
    }
  ],
  "metadata": {
    "colab": {
      "provenance": [],
      "authorship_tag": "ABX9TyOXkZHGjECwpg1eum662r6u",
      "include_colab_link": true
    },
    "kernelspec": {
      "display_name": "Python 3",
      "name": "python3"
    },
    "language_info": {
      "name": "python"
    },
    "accelerator": "TPU",
    "gpuClass": "standard"
  },
  "nbformat": 4,
  "nbformat_minor": 0
}